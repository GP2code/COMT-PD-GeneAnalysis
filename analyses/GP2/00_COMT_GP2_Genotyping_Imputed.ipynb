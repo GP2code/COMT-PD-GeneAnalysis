{
 "cells": [
  {
   "cell_type": "markdown",
   "metadata": {
    "heading_collapsed": true
   },
   "source": [
    "# COMT - Single gene analysis in the NBA GP2 data\n"
   ]
  },
  {
   "cell_type": "markdown",
   "metadata": {},
   "source": [
    "- Project: COMT Single Gene analysis\n",
    "- Version: Python/3.10.12; R 4.4.2\n",
    "- Last Updated: 01-APRIL-2025\n",
    "- Update Description: Clean code and adding some minor comments"
   ]
  },
  {
   "cell_type": "markdown",
   "metadata": {},
   "source": [
    "## Notebook overview\n",
    "- In this notebook we performed association analysis with PLINK using COMT gene variants data in NBA data. We used a loop to perform the same analysis across different GP2 population ancestries.\n",
    "- GP2 NBA Data from Release 7 were used.\n"
   ]
  },
  {
   "cell_type": "markdown",
   "metadata": {
    "hidden": true
   },
   "source": [
    "## Description\n",
    "\n",
    "__1. Description__\n",
    "\n",
    "-  Getting Started\n",
    "- Loading Python libraries\n",
    "- Defining functions\n",
    "- Set Paths\n",
    "- Make working directory\n",
    "\n",
    "__2. Installing packages__\n",
    "\n",
    "__3. Copy over data__\n",
    "\n",
    "__4. Create a covariate file with GP2 data__\n",
    "\n",
    "__5. Remove related individuals and PCA__\n",
    "\n",
    "__6. Annotation of the gene__\n",
    "\n",
    "__7. Case/Control Analyses__\n",
    "\n",
    "__8. Clinical Data Analyses__\n"
   ]
  },
  {
   "cell_type": "markdown",
   "metadata": {
    "heading_collapsed": true,
    "hidden": true
   },
   "source": [
    "## Loading Python libraries"
   ]
  },
  {
   "cell_type": "code",
   "execution_count": 9,
   "metadata": {
    "hidden": true
   },
   "outputs": [
    {
     "name": "stderr",
     "output_type": "stream",
     "text": [
      "/tmp/ipykernel_81/1504764740.py:21: DeprecationWarning: Importing display from IPython.core.display is deprecated since IPython 7.14, please import from IPython display\n",
      "  from IPython.core.display import display, HTML\n"
     ]
    }
   ],
   "source": [
    "# Use the os package to interact with the environment\n",
    "import os\n",
    "\n",
    "# Bring in Pandas for Dataframe functionality\n",
    "import pandas as pd\n",
    "\n",
    "# Numpy for basics\n",
    "import numpy as np\n",
    "\n",
    "# Use StringIO for working with file contents\n",
    "from io import StringIO\n",
    "\n",
    "# Enable IPython to display matplotlib graphs\n",
    "import matplotlib.pyplot as plt\n",
    "%matplotlib inline\n",
    "\n",
    "# Enable interaction with the FireCloud API\n",
    "from firecloud import api as fapi\n",
    "\n",
    "# Import the iPython HTML rendering for displaying links to Google Cloud Console\n",
    "from IPython.core.display import display, HTML\n",
    "\n",
    "# Import urllib modules for building URLs to Google Cloud Console\n",
    "import urllib.parse\n",
    "\n",
    "# BigQuery for querying data\n",
    "from google.cloud import bigquery\n",
    "\n",
    "#Import Sys\n",
    "import sys as sys"
   ]
  },
  {
   "cell_type": "markdown",
   "metadata": {
    "heading_collapsed": true,
    "hidden": true
   },
   "source": [
    "## Defining functions"
   ]
  },
  {
   "cell_type": "code",
   "execution_count": 10,
   "metadata": {
    "hidden": true
   },
   "outputs": [],
   "source": [
    "# Utility routine for printing a shell command before executing it\n",
    "def shell_do(command):\n",
    "    print(f'Executing: {command}', file=sys.stderr)\n",
    "    !$command\n",
    "    \n",
    "def shell_return(command):\n",
    "    print(f'Executing: {command}', file=sys.stderr)\n",
    "    output = !$command\n",
    "    return '\\n'.join(output)\n",
    "\n",
    "# Utility routine for printing a query before executing it\n",
    "def bq_query(query):\n",
    "    print(f'Executing: {query}', file=sys.stderr)\n",
    "    return pd.read_gbq(query, project_id=BILLING_PROJECT_ID, dialect='standard')\n",
    "\n",
    "# Utility routine for display a message and a link\n",
    "def display_html_link(description, link_text, url):\n",
    "    html = f'''\n",
    "    <p>\n",
    "    </p>\n",
    "    <p>\n",
    "    {description}\n",
    "    <a target=_blank href=\"{url}\">{link_text}</a>.\n",
    "    </p>\n",
    "    '''\n",
    "\n",
    "    display(HTML(html))\n",
    "\n",
    "# Utility routines for reading files from Google Cloud Storage\n",
    "def gcs_read_file(path):\n",
    "    \"\"\"Return the contents of a file in GCS\"\"\"\n",
    "    contents = !gsutil -u {BILLING_PROJECT_ID} cat {path}\n",
    "    return '\\n'.join(contents)\n",
    "    \n",
    "def gcs_read_csv(path, sep=None):\n",
    "    \"\"\"Return a DataFrame from the contents of a delimited file in GCS\"\"\"\n",
    "    return pd.read_csv(StringIO(gcs_read_file(path)), sep=sep, engine='python')\n",
    "\n",
    "# Utility routine for displaying a message and link to Cloud Console\n",
    "def link_to_cloud_console_gcs(description, link_text, gcs_path):\n",
    "    url = '{}?{}'.format(\n",
    "        os.path.join('https://console.cloud.google.com/storage/browser',\n",
    "                     gcs_path.replace(\"gs://\",\"\")),\n",
    "        urllib.parse.urlencode({'userProject': BILLING_PROJECT_ID}))\n",
    "\n",
    "    display_html_link(description, link_text, url)"
   ]
  },
  {
   "cell_type": "markdown",
   "metadata": {
    "heading_collapsed": true,
    "hidden": true
   },
   "source": [
    "## Set paths"
   ]
  },
  {
   "cell_type": "code",
   "execution_count": null,
   "metadata": {
    "hidden": true
   },
   "outputs": [],
   "source": [
    "# Set up billing project and data path variables\n",
    "BILLING_PROJECT_ID = os.environ['GOOGLE_PROJECT']\n",
    "WORKSPACE_NAMESPACE = os.environ['WORKSPACE_NAMESPACE']\n",
    "WORKSPACE_NAME = os.environ['WORKSPACE_NAME']\n",
    "WORKSPACE_BUCKET = os.environ['WORKSPACE_BUCKET']\n",
    "\n",
    "WORKSPACE_ATTRIBUTES = fapi.get_workspace(WORKSPACE_NAMESPACE, WORKSPACE_NAME).json().get('workspace',{}).get('attributes',{})\n",
    "\n",
    "## GP2 v7.0\n",
    "GP2_RELEASE_PATH = 'path/'\n",
    "GP2_CLINICAL_RELEASE_PATH = f'{GP2_RELEASE_PATH}/clinical_data'\n",
    "GP2_META_RELEASE_PATH = f'{GP2_RELEASE_PATH}/meta_data'\n",
    "GP2_SUMSTAT_RELEASE_PATH = f'{GP2_RELEASE_PATH}/summary_statistics'\n",
    "\n",
    "GP2_RAW_GENO_PATH = f'{GP2_RELEASE_PATH}/raw_genotypes'\n",
    "GP2_IMPUTED_GENO_PATH = f'{GP2_RELEASE_PATH}/imputed_genotypes'\n",
    "print('GP2 v7.0')\n",
    "print(f'Path to GP2 v7.0 Clinical Data: {GP2_CLINICAL_RELEASE_PATH}')\n",
    "print(f'Path to GP2 v7.0 Raw Genotype Data: {GP2_RAW_GENO_PATH}')\n",
    "print(f'Path to GP2 v7.0 Imputed Genotype Data: {GP2_IMPUTED_GENO_PATH}')"
   ]
  },
  {
   "cell_type": "markdown",
   "metadata": {
    "heading_collapsed": true,
    "hidden": true
   },
   "source": [
    "## Make working directory"
   ]
  },
  {
   "cell_type": "code",
   "execution_count": 12,
   "metadata": {
    "hidden": true
   },
   "outputs": [
    {
     "name": "stderr",
     "output_type": "stream",
     "text": [
      "Executing: mkdir -p /home/jupyter/COMT_NBA_loop/\n"
     ]
    }
   ],
   "source": [
    "# Let's create a single folder for all the files\n",
    "WORK_DIR = f'/home/jupyter/COMT_NBA_loop/'\n",
    "shell_do(f'mkdir -p {WORK_DIR}') "
   ]
  },
  {
   "cell_type": "markdown",
   "metadata": {},
   "source": [
    "# Install Packages"
   ]
  },
  {
   "cell_type": "markdown",
   "metadata": {
    "heading_collapsed": true
   },
   "source": [
    "## PLINK"
   ]
  },
  {
   "cell_type": "code",
   "execution_count": 15,
   "metadata": {
    "hidden": true
   },
   "outputs": [
    {
     "name": "stdout",
     "output_type": "stream",
     "text": [
      "Plink1.9 is already installed in /home/jupyter/tools/\n"
     ]
    }
   ],
   "source": [
    "%%bash\n",
    "\n",
    "mkdir -p ~/tools\n",
    "cd ~/tools\n",
    "\n",
    "if test -e /home/jupyter/tools/plink; then\n",
    "echo \"Plink1.9 is already installed in /home/jupyter/tools/\"\n",
    "\n",
    "else\n",
    "echo -e \"Downloading plink \\n    -------\"\n",
    "wget -N http://s3.amazonaws.com/plink1-assets/plink_linux_x86_64_20190304.zip \n",
    "unzip -o plink_linux_x86_64_20190304.zip\n",
    "echo -e \"\\n plink downloaded and unzipped in /home/jupyter/tools \\n \"\n",
    "\n",
    "fi"
   ]
  },
  {
   "cell_type": "markdown",
   "metadata": {
    "hidden": true
   },
   "source": [
    "Install plink2. If this doesn't work, get the updated download link from https://www.cog-genomics.org/plink/2.0/, as this changes regularly. We use the download link for Linux AVX2 AMD."
   ]
  },
  {
   "cell_type": "code",
   "execution_count": 16,
   "metadata": {
    "hidden": true
   },
   "outputs": [
    {
     "name": "stdout",
     "output_type": "stream",
     "text": [
      "Plink2 is already installed in /home/jupyter/tools/\n"
     ]
    }
   ],
   "source": [
    "%%bash\n",
    "\n",
    "mkdir -p ~/tools\n",
    "cd ~/tools\n",
    "\n",
    "if test -e /home/jupyter/tools/plink2; then\n",
    "echo \"Plink2 is already installed in /home/jupyter/tools/\"\n",
    "\n",
    "else\n",
    "echo -e \"Downloading plink2 \\n    -------\"\n",
    "wget -N https://s3.amazonaws.com/plink2-assets/plink2_linux_amd_avx2_20240806.zip\n",
    "unzip -o plink2_linux_amd_avx2_20240806.zip\n",
    "echo -e \"\\n plink2 downloaded and unzipped in /home/jupyter/tools \\n \"\n",
    "\n",
    "fi"
   ]
  },
  {
   "cell_type": "markdown",
   "metadata": {},
   "source": [
    "## ANNOVAR"
   ]
  },
  {
   "cell_type": "code",
   "execution_count": 14,
   "metadata": {},
   "outputs": [],
   "source": [
    "%%capture\n",
    "%%bash\n",
    "\n",
    "# https://www.openbioinformatics.org/annovar/annovar_download_form.php\n",
    "\n",
    "if test -e /home/jupyter/tools/annovar; then\n",
    "\n",
    "echo \"annovar is already installed in /home/jupyter/tools/\"\n",
    "else\n",
    "echo \"annovar is not installed\"\n",
    "cd /home/jupyter/tools/\n",
    "\n",
    "wget http://www.openbioinformatics.org/annovar/download/0wgxR2rIVP/annovar.latest.tar.gz\n",
    "\n",
    "tar xvfz annovar.latest.tar.gz\n",
    "\n",
    "fi"
   ]
  },
  {
   "cell_type": "markdown",
   "metadata": {},
   "source": [
    "### ANNOVAR: Download sources of annotation\n"
   ]
  },
  {
   "cell_type": "code",
   "execution_count": 22,
   "metadata": {},
   "outputs": [],
   "source": [
    "%%bash\n",
    "\n",
    "cd /home/jupyter/tools/annovar/\n",
    "\n",
    "perl annotate_variation.pl -buildver hg38 -downdb -webfrom annovar refGene humandb/\n",
    "perl annotate_variation.pl -buildver hg38 -downdb -webfrom annovar clinvar_20170905 humandb/"
   ]
  },
  {
   "cell_type": "markdown",
   "metadata": {
    "heading_collapsed": true
   },
   "source": [
    "## RVTests"
   ]
  },
  {
   "cell_type": "code",
   "execution_count": 18,
   "metadata": {
    "hidden": true
   },
   "outputs": [
    {
     "name": "stdout",
     "output_type": "stream",
     "text": [
      "rvtests is already installed\n"
     ]
    }
   ],
   "source": [
    "%%bash\n",
    "\n",
    "#Install RVTESTS: Option 1 (~15min)\n",
    "if test -e /home/jupyter/tools/rvtests; then\n",
    "\n",
    "echo \"rvtests is already installed\"\n",
    "else\n",
    "echo \"rvtests is not installed\"\n",
    "\n",
    "mkdir /home/jupyter/tools/rvtests\n",
    "cd /home/jupyter/tools/rvtests\n",
    "\n",
    "wget https://github.com/zhanxw/rvtests/releases/download/v2.1.0/rvtests_linux64.tar.gz \n",
    "\n",
    "tar -zxvf rvtests_linux64.tar.gz\n",
    "fi"
   ]
  },
  {
   "cell_type": "code",
   "execution_count": 19,
   "metadata": {
    "hidden": true
   },
   "outputs": [],
   "source": [
    "# chmod to make sure you have permission to run the program\n",
    "! chmod u+x /home/jupyter/tools/plink\n",
    "! chmod u+x /home/jupyter/tools/plink2\n",
    "! chmod 777 /home/jupyter/tools/rvtests/executable/rvtest"
   ]
  },
  {
   "cell_type": "code",
   "execution_count": 20,
   "metadata": {
    "hidden": true
   },
   "outputs": [
    {
     "name": "stdout",
     "output_type": "stream",
     "text": [
      "annovar\n",
      "annovar.latest.tar.gz\n",
      "LICENSE\n",
      "plink\n",
      "plink2\n",
      "plink2_linux_amd_avx2_20250129.zip\n",
      "plink_linux_x86_64_20190304.zip\n",
      "prettify\n",
      "rvtests\n",
      "toy.map\n",
      "toy.ped\n",
      "vcf_subset\n"
     ]
    }
   ],
   "source": [
    "%%bash\n",
    "\n",
    "#Show installed tools\n",
    "ls /home/jupyter/tools/"
   ]
  },
  {
   "cell_type": "markdown",
   "metadata": {},
   "source": [
    "# Copy Over Files "
   ]
  },
  {
   "cell_type": "code",
   "execution_count": null,
   "metadata": {},
   "outputs": [],
   "source": [
    "# Download clinical data\n",
    "shell_do(f'gsutil -u {BILLING_PROJECT_ID} -m cp {GP2_RELEASE_PATH}/clinical_data/master_key_release7_final.csv {WORK_DIR}')\n",
    "shell_do(f'gsutil -u {BILLING_PROJECT_ID} -m cp {GP2_RELEASE_PATH}/clinical_data/extended_clinical_data_release7.csv {WORK_DIR}/')"
   ]
  },
  {
   "cell_type": "markdown",
   "metadata": {},
   "source": [
    "# Create a covariate file with GP2 data"
   ]
  },
  {
   "cell_type": "code",
   "execution_count": 5,
   "metadata": {},
   "outputs": [
    {
     "name": "stdout",
     "output_type": "stream",
     "text": [
      "Clinical data (num rows, num columns): (44281, 26)\n"
     ]
    }
   ],
   "source": [
    "# Let's load the master key\n",
    "FULL_PATH = WORK_DIR + f'master_key_release7_final.csv'\n",
    "key = pd.read_csv(FULL_PATH, low_memory=False)\n",
    "print(f'Clinical data (num rows, num columns): {key.shape}')\n",
    "pd.set_option('display.max_columns', None)\n"
   ]
  },
  {
   "cell_type": "code",
   "execution_count": 6,
   "metadata": {},
   "outputs": [],
   "source": [
    "# Subsetting to keep only a few columns \n",
    "key = key[['GP2sampleID', 'baseline_GP2_phenotype_for_qc', 'biological_sex_for_qc', 'age_at_sample_collection', 'age_of_onset', 'label','GP2ID']]\n",
    "# Renaming the columns\n",
    "key.rename(columns = {'GP2sampleID':'IID',\n",
    "                                     'baseline_GP2_phenotype_for_qc':'phenotype',\n",
    "                                     'biological_sex_for_qc':'SEX', \n",
    "                                     'age_at_sample_collection':'AGE', \n",
    "                                     'age_of_onset':'AAO'}, inplace = True)\n"
   ]
  },
  {
   "cell_type": "code",
   "execution_count": null,
   "metadata": {},
   "outputs": [],
   "source": [
    "# For each ancestry, we download related samples, and genotyping imputed data.\n",
    "ancestries = {'AAC', 'AFR', 'AJ', 'AMR', 'CAS', 'EAS', 'EUR', 'MDE', 'SAS', 'CAH'}\n",
    "\n",
    "for ancestry in ancestries:\n",
    "    shell_do(f'gsutil -u {BILLING_PROJECT_ID} -m cp {GP2_META_RELEASE_PATH}/related_samples/{ancestry}_release7.related {WORK_DIR}')\n",
    "    shell_do(f'gsutil -u {BILLING_PROJECT_ID} -m cp {GP2_RELEASE_PATH}/raw_genotypes/{ancestry}/{ancestry}_release7.eigenvec {WORK_DIR}')\n",
    "    shell_do(f'gsutil -u {BILLING_PROJECT_ID} -m cp {GP2_RELEASE_PATH}/raw_genotypes/{ancestry}/{ancestry}_release7* {WORK_DIR}')\n",
    "    shell_do(f'gsutil -u {BILLING_PROJECT_ID} -m cp {GP2_RELEASE_PATH}/imputed_genotypes/{ancestry}/chr22* {WORK_DIR}')\n"
   ]
  },
  {
   "cell_type": "code",
   "execution_count": null,
   "metadata": {},
   "outputs": [],
   "source": [
    "ancestries = {'AAC', 'AFR', 'AJ', 'AMR', 'CAS', 'EAS', 'EUR', 'MDE', 'SAS', 'CAH'}\n",
    "\n",
    "for ancestry in ancestries:\n",
    "    \n",
    "    print(f'WORKING ON: {ancestry}')\n",
    "    \n",
    "    ## Subset to keep ancestry of interest \n",
    "    ancestry_key = key[key['label']==ancestry].copy()\n",
    "    ancestry_key.reset_index(drop=True)\n",
    "    print(ancestry_key.shape)\n",
    "    # Load information about related individuals in the ancestry analyzed\n",
    "    related_df = pd.read_csv(f'{WORK_DIR}/{ancestry}_release7.related')\n",
    "    print(f'Related individuals: {related_df.shape}')\n",
    "\n",
    "    # Make a list of just one set of related people\n",
    "    related_list = list(related_df['IID1'])\n",
    "\n",
    "    # Check value counts of related and remove only one related individual\n",
    "    ancestry_key = ancestry_key[~ancestry_key[\"IID\"].isin(related_list)]\n",
    "\n",
    "    # Check size\n",
    "    print(f'Unrelated individuals: {ancestry_key.shape}')\n",
    "    \n",
    "    # Convert phenotype to binary (1/2)\n",
    "    ## Assign conditions so case=2 and controls=1, and -9 otherwise (matching PLINK convention)\n",
    "    # PD = 2; control = 1\n",
    "    pheno_mapping = {\"PD\": 2, \"Control\": 1}\n",
    "    ancestry_key['PHENO'] = ancestry_key['phenotype'].map(pheno_mapping).astype('Int64')\n",
    "\n",
    "    # Check value counts of pheno\n",
    "    ancestry_key['PHENO'].value_counts(dropna=False)\n",
    "    \n",
    "    ## Get the PCs\n",
    "    pcs = pd.read_csv(f'{WORK_DIR}/{ancestry}_release7.eigenvec', sep='\\t')\n",
    "    \n",
    "    #Select just first 5 PCs\n",
    "    selected_columns = ['IID', 'PC1', 'PC2', 'PC3', 'PC4', 'PC5']\n",
    "    pcs = pd.DataFrame(data=pcs.iloc[:, 1:7].values, columns=selected_columns)\n",
    "\n",
    "    # Reset the index to remove any potential issues\n",
    "    pcs = pcs.reset_index(drop=True)\n",
    "    \n",
    "    # Check size\n",
    "    print(f'PCs: {pcs.shape}')\n",
    "\n",
    "    # Check value counts of SEX\n",
    "    sex_og_values = ancestry_key['SEX'].value_counts(dropna=False)\n",
    "    print(f'Sex value counts - original:\\n {sex_og_values.to_string()}')\n",
    "    \n",
    "    # Convert sex to binary (1/2)\n",
    "    ## Assign conditions so female=2 and men=1, and -9 otherwise (matching PLINK convention)\n",
    "    # Female = 2; Male = 1\n",
    "    sex_mapping = {\"Female\": 2, \"Male\": 1}\n",
    "    ancestry_key['SEX'] = ancestry_key['SEX'].map(sex_mapping).astype('Int64')\n",
    "    \n",
    "    # Check value counts of SEX after recoding\n",
    "    sex_recode_values = ancestry_key['SEX'].value_counts(dropna=False)\n",
    "    print(f'Sex value counts - recoded:\\n{sex_recode_values.to_string()}')\n",
    "    \n",
    "    ## Make covariate file\n",
    "    df = pd.merge(pcs, ancestry_key, on='IID')\n",
    "    print(f'Check columns for covariate file: {df.columns}')\n",
    "    \n",
    "    #Make additional columns - FID, fatid and matid - these are needed for RVtests!!\n",
    "    #RVtests needs the first 5 columns to be fid, iid, fatid, matid and sex otherwise it does not run correctly\n",
    "    #Uppercase column name is ok\n",
    "    #See https://zhanxw.github.io/rvtests/#phenotype-file\n",
    "    df['FID'] = 0\n",
    "    df['FATID'] = 0\n",
    "    df['MATID'] = 0\n",
    "\n",
    "    ## Clean up and keep columns we need \n",
    "    final_df = df[['FID','IID', 'FATID', 'MATID', 'SEX', 'AGE', 'PHENO','PC1', 'PC2', 'PC3', 'PC4', 'PC5','GP2ID']].copy()\n",
    "\n",
    "    ##DO NOT replace missing values with -9 as this is misinterpreted by RVtests - needs to be nonnumeric\n",
    "    #Leave missing values as NA\n",
    "    \n",
    "    #Check number of PD cases missing age\n",
    "    pd_missAge = final_df[(final_df['PHENO']==2)&(final_df['AGE'].isna())]\n",
    "    print(f'Number of PD cases missing age: {pd_missAge.shape[0]}')\n",
    "    \n",
    "    #Check number of controls missing age\n",
    "    control_missAge = final_df[(final_df['PHENO']==1)&(final_df['AGE'].isna())]\n",
    "    print(f'Number of controls missing age: {control_missAge.shape[0]}')\n",
    "\n",
    "    ## Make file of sample IDs to keep \n",
    "    samples_toKeep = final_df[['FID', 'IID']].copy()\n",
    "    samples_toKeep.to_csv(f'{WORK_DIR}/samplestokeep_{ancestry}.txt', sep=\"\\t\",index=None)\n",
    "    \n",
    "    final_df.to_csv(f'{WORK_DIR}/{ancestry}_covariate_file.txt', sep = '\\t', na_rep='NA', index=False)\n"
   ]
  },
  {
   "cell_type": "markdown",
   "metadata": {},
   "source": [
    "# Annotation of the gene\n"
   ]
  },
  {
   "cell_type": "markdown",
   "metadata": {},
   "source": [
    "- COMT coordinates: chr22: 19,941,371-19,969,975 (GRCh38/hg38) (forward strand - ensemble)"
   ]
  },
  {
   "cell_type": "markdown",
   "metadata": {},
   "source": [
    "## Extract the region using PLINK"
   ]
  },
  {
   "cell_type": "code",
   "execution_count": 11,
   "metadata": {},
   "outputs": [
    {
     "name": "stdout",
     "output_type": "stream",
     "text": [
      "PLINK v2.0.0-a.6.9LM 64-bit Intel (29 Jan 2025)    cog-genomics.org/plink/2.0/\n",
      "(C) 2005-2025 Shaun Purcell, Christopher Chang   GNU General Public License v3\n",
      "Logging to /home/jupyter/COMT_NBA_loop//AMR_COMT.log.\n",
      "Options in effect:\n",
      "  --chr 22\n",
      "  --from-bp 19941371\n",
      "  --keep /home/jupyter/COMT_NBA_loop//samplestokeep_AMR.txt\n",
      "  --mac 2\n",
      "  --make-bed\n",
      "  --max-alleles 2\n",
      "  --out /home/jupyter/COMT_NBA_loop//AMR_COMT\n",
      "  --pfile /home/jupyter/COMT_NBA_loop//chr22_AMR_release7\n",
      "  --to-bp 19969975\n",
      "\n",
      "Start time: Fri Mar 14 16:45:58 2025\n",
      "7445 MiB RAM detected, ~5619 available; reserving 3722 MiB for main workspace.\n",
      "Using up to 2 compute threads.\n",
      "614 samples (271 females, 343 males; 614 founders) loaded from\n",
      "/home/jupyter/COMT_NBA_loop//chr22_AMR_release7.psam.\n",
      "465193 variants loaded from\n",
      "/home/jupyter/COMT_NBA_loop//chr22_AMR_release7.pvar.\n",
      "1 binary phenotype loaded (431 cases, 150 controls).\n",
      "--keep: 609 samples remaining.\n",
      "609 samples (268 females, 341 males; 609 founders) remaining after main\n",
      "filters.\n",
      "427 cases and 150 controls remaining after main filters.\n",
      "Calculating allele frequencies... done.\n",
      "191 variants removed due to allele frequency threshold(s)\n",
      "(--maf/--max-maf/--mac/--max-mac).\n",
      "249 variants remaining after main filters.\n",
      "Writing /home/jupyter/COMT_NBA_loop//AMR_COMT.fam ... done.\n",
      "Writing /home/jupyter/COMT_NBA_loop//AMR_COMT.bim ... done.\n",
      "Writing /home/jupyter/COMT_NBA_loop//AMR_COMT.bed ... done.\n",
      "End time: Fri Mar 14 16:45:58 2025\n",
      "PLINK v2.0.0-a.6.9LM 64-bit Intel (29 Jan 2025)    cog-genomics.org/plink/2.0/\n",
      "(C) 2005-2025 Shaun Purcell, Christopher Chang   GNU General Public License v3\n",
      "Logging to /home/jupyter/COMT_NBA_loop//MDE_COMT.log.\n",
      "Options in effect:\n",
      "  --chr 22\n",
      "  --from-bp 19941371\n",
      "  --keep /home/jupyter/COMT_NBA_loop//samplestokeep_MDE.txt\n",
      "  --mac 2\n",
      "  --make-bed\n",
      "  --max-alleles 2\n",
      "  --out /home/jupyter/COMT_NBA_loop//MDE_COMT\n",
      "  --pfile /home/jupyter/COMT_NBA_loop//chr22_MDE_release7\n",
      "  --to-bp 19969975\n",
      "\n",
      "Start time: Fri Mar 14 16:45:59 2025\n",
      "7445 MiB RAM detected, ~5606 available; reserving 3722 MiB for main workspace.\n",
      "Using up to 2 compute threads.\n",
      "470 samples (173 females, 297 males; 470 founders) loaded from\n",
      "/home/jupyter/COMT_NBA_loop//chr22_MDE_release7.psam.\n",
      "402408 variants loaded from\n",
      "/home/jupyter/COMT_NBA_loop//chr22_MDE_release7.pvar.\n",
      "1 binary phenotype loaded (234 cases, 204 controls).\n",
      "--keep: 457 samples remaining.\n",
      "457 samples (166 females, 291 males; 457 founders) remaining after main\n",
      "filters.\n",
      "230 cases and 196 controls remaining after main filters.\n",
      "Calculating allele frequencies... done.\n",
      "214 variants removed due to allele frequency threshold(s)\n",
      "(--maf/--max-maf/--mac/--max-mac).\n",
      "203 variants remaining after main filters.\n",
      "Writing /home/jupyter/COMT_NBA_loop//MDE_COMT.fam ... done.\n",
      "Writing /home/jupyter/COMT_NBA_loop//MDE_COMT.bim ... done.\n",
      "Writing /home/jupyter/COMT_NBA_loop//MDE_COMT.bed ... done.\n",
      "End time: Fri Mar 14 16:45:59 2025\n",
      "PLINK v2.0.0-a.6.9LM 64-bit Intel (29 Jan 2025)    cog-genomics.org/plink/2.0/\n",
      "(C) 2005-2025 Shaun Purcell, Christopher Chang   GNU General Public License v3\n",
      "Logging to /home/jupyter/COMT_NBA_loop//AFR_COMT.log.\n",
      "Options in effect:\n",
      "  --chr 22\n",
      "  --from-bp 19941371\n",
      "  --keep /home/jupyter/COMT_NBA_loop//samplestokeep_AFR.txt\n",
      "  --mac 2\n",
      "  --make-bed\n",
      "  --max-alleles 2\n",
      "  --out /home/jupyter/COMT_NBA_loop//AFR_COMT\n",
      "  --pfile /home/jupyter/COMT_NBA_loop//chr22_AFR_release7\n",
      "  --to-bp 19969975\n",
      "\n",
      "Start time: Fri Mar 14 16:46:00 2025\n",
      "7445 MiB RAM detected, ~5612 available; reserving 3722 MiB for main workspace.\n",
      "Using up to 2 compute threads.\n",
      "2632 samples (1159 females, 1473 males; 2632 founders) loaded from\n",
      "/home/jupyter/COMT_NBA_loop//chr22_AFR_release7.psam.\n",
      "870655 variants loaded from\n",
      "/home/jupyter/COMT_NBA_loop//chr22_AFR_release7.pvar.\n",
      "1 binary phenotype loaded (933 cases, 1677 controls).\n",
      "--keep: 2567 samples remaining.\n",
      "2567 samples (1125 females, 1442 males; 2567 founders) remaining after main\n",
      "filters.\n",
      "929 cases and 1617 controls remaining after main filters.\n",
      "Calculating allele frequencies... done.\n",
      "278 variants removed due to allele frequency threshold(s)\n",
      "(--maf/--max-maf/--mac/--max-mac).\n",
      "487 variants remaining after main filters.\n",
      "Writing /home/jupyter/COMT_NBA_loop//AFR_COMT.fam ... done.\n",
      "Writing /home/jupyter/COMT_NBA_loop//AFR_COMT.bim ... done.\n",
      "Writing /home/jupyter/COMT_NBA_loop//AFR_COMT.bed ... done.\n",
      "End time: Fri Mar 14 16:46:02 2025\n",
      "PLINK v2.0.0-a.6.9LM 64-bit Intel (29 Jan 2025)    cog-genomics.org/plink/2.0/\n",
      "(C) 2005-2025 Shaun Purcell, Christopher Chang   GNU General Public License v3\n",
      "Logging to /home/jupyter/COMT_NBA_loop//EAS_COMT.log.\n",
      "Options in effect:\n",
      "  --chr 22\n",
      "  --from-bp 19941371\n",
      "  --keep /home/jupyter/COMT_NBA_loop//samplestokeep_EAS.txt\n",
      "  --mac 2\n",
      "  --make-bed\n",
      "  --max-alleles 2\n",
      "  --out /home/jupyter/COMT_NBA_loop//EAS_COMT\n",
      "  --pfile /home/jupyter/COMT_NBA_loop//chr22_EAS_release7\n",
      "  --to-bp 19969975\n",
      "\n",
      "Start time: Fri Mar 14 16:46:03 2025\n",
      "7445 MiB RAM detected, ~5606 available; reserving 3722 MiB for main workspace.\n",
      "Using up to 2 compute threads.\n",
      "5136 samples (1868 females, 3268 males; 5136 founders) loaded from\n",
      "/home/jupyter/COMT_NBA_loop//chr22_EAS_release7.psam.\n",
      "645948 variants loaded from\n",
      "/home/jupyter/COMT_NBA_loop//chr22_EAS_release7.pvar.\n",
      "1 binary phenotype loaded (2644 cases, 2452 controls).\n",
      "--keep: 4932 samples remaining.\n",
      "4932 samples (1804 females, 3128 males; 4932 founders) remaining after main\n",
      "filters.\n",
      "2547 cases and 2345 controls remaining after main filters.\n",
      "Calculating allele frequencies... done.\n",
      "193 variants removed due to allele frequency threshold(s)\n",
      "(--maf/--max-maf/--mac/--max-mac).\n",
      "420 variants remaining after main filters.\n",
      "Writing /home/jupyter/COMT_NBA_loop//EAS_COMT.fam ... done.\n",
      "Writing /home/jupyter/COMT_NBA_loop//EAS_COMT.bim ... done.\n",
      "Writing /home/jupyter/COMT_NBA_loop//EAS_COMT.bed ... done.\n",
      "End time: Fri Mar 14 16:46:04 2025\n",
      "PLINK v2.0.0-a.6.9LM 64-bit Intel (29 Jan 2025)    cog-genomics.org/plink/2.0/\n",
      "(C) 2005-2025 Shaun Purcell, Christopher Chang   GNU General Public License v3\n",
      "Logging to /home/jupyter/COMT_NBA_loop//SAS_COMT.log.\n",
      "Options in effect:\n",
      "  --chr 22\n",
      "  --from-bp 19941371\n",
      "  --keep /home/jupyter/COMT_NBA_loop//samplestokeep_SAS.txt\n",
      "  --mac 2\n",
      "  --make-bed\n",
      "  --max-alleles 2\n",
      "  --out /home/jupyter/COMT_NBA_loop//SAS_COMT\n",
      "  --pfile /home/jupyter/COMT_NBA_loop//chr22_SAS_release7\n",
      "  --to-bp 19969975\n",
      "\n",
      "Start time: Fri Mar 14 16:46:05 2025\n",
      "7445 MiB RAM detected, ~5615 available; reserving 3722 MiB for main workspace.\n",
      "Using up to 2 compute threads.\n",
      "576 samples (200 females, 376 males; 576 founders) loaded from\n",
      "/home/jupyter/COMT_NBA_loop//chr22_SAS_release7.psam.\n",
      "377260 variants loaded from\n",
      "/home/jupyter/COMT_NBA_loop//chr22_SAS_release7.pvar.\n",
      "1 binary phenotype loaded (338 cases, 216 controls).\n",
      "--keep: 539 samples remaining.\n",
      "539 samples (188 females, 351 males; 539 founders) remaining after main\n",
      "filters.\n",
      "319 cases and 198 controls remaining after main filters.\n",
      "Calculating allele frequencies... done.\n",
      "188 variants removed due to allele frequency threshold(s)\n",
      "(--maf/--max-maf/--mac/--max-mac).\n",
      "203 variants remaining after main filters.\n",
      "Writing /home/jupyter/COMT_NBA_loop//SAS_COMT.fam ... done.\n",
      "Writing /home/jupyter/COMT_NBA_loop//SAS_COMT.bim ... done.\n",
      "Writing /home/jupyter/COMT_NBA_loop//SAS_COMT.bed ... done.\n",
      "End time: Fri Mar 14 16:46:06 2025\n",
      "PLINK v2.0.0-a.6.9LM 64-bit Intel (29 Jan 2025)    cog-genomics.org/plink/2.0/\n",
      "(C) 2005-2025 Shaun Purcell, Christopher Chang   GNU General Public License v3\n",
      "Logging to /home/jupyter/COMT_NBA_loop//CAH_COMT.log.\n",
      "Options in effect:\n",
      "  --chr 22\n",
      "  --from-bp 19941371\n",
      "  --keep /home/jupyter/COMT_NBA_loop//samplestokeep_CAH.txt\n",
      "  --mac 2\n",
      "  --make-bed\n",
      "  --max-alleles 2\n",
      "  --out /home/jupyter/COMT_NBA_loop//CAH_COMT\n",
      "  --pfile /home/jupyter/COMT_NBA_loop//chr22_CAH_release7\n",
      "  --to-bp 19969975\n",
      "\n",
      "Start time: Fri Mar 14 16:46:07 2025\n",
      "7445 MiB RAM detected, ~5604 available; reserving 3722 MiB for main workspace.\n",
      "Using up to 2 compute threads.\n",
      "823 samples (393 females, 430 males; 823 founders) loaded from\n",
      "/home/jupyter/COMT_NBA_loop//chr22_CAH_release7.psam.\n",
      "691299 variants loaded from\n",
      "/home/jupyter/COMT_NBA_loop//chr22_CAH_release7.pvar.\n",
      "1 binary phenotype loaded (503 cases, 297 controls).\n",
      "--keep: 800 samples remaining.\n",
      "800 samples (378 females, 422 males; 800 founders) remaining after main\n",
      "filters.\n",
      "494 cases and 283 controls remaining after main filters.\n"
     ]
    },
    {
     "name": "stdout",
     "output_type": "stream",
     "text": [
      "Calculating allele frequencies... done.\n",
      "258 variants removed due to allele frequency threshold(s)\n",
      "(--maf/--max-maf/--mac/--max-mac).\n",
      "366 variants remaining after main filters.\n",
      "Writing /home/jupyter/COMT_NBA_loop//CAH_COMT.fam ... done.\n",
      "Writing /home/jupyter/COMT_NBA_loop//CAH_COMT.bim ... done.\n",
      "Writing /home/jupyter/COMT_NBA_loop//CAH_COMT.bed ... done.\n",
      "End time: Fri Mar 14 16:46:09 2025\n",
      "PLINK v2.0.0-a.6.9LM 64-bit Intel (29 Jan 2025)    cog-genomics.org/plink/2.0/\n",
      "(C) 2005-2025 Shaun Purcell, Christopher Chang   GNU General Public License v3\n",
      "Logging to /home/jupyter/COMT_NBA_loop//AAC_COMT.log.\n",
      "Options in effect:\n",
      "  --chr 22\n",
      "  --from-bp 19941371\n",
      "  --keep /home/jupyter/COMT_NBA_loop//samplestokeep_AAC.txt\n",
      "  --mac 2\n",
      "  --make-bed\n",
      "  --max-alleles 2\n",
      "  --out /home/jupyter/COMT_NBA_loop//AAC_COMT\n",
      "  --pfile /home/jupyter/COMT_NBA_loop//chr22_AAC_release7\n",
      "  --to-bp 19969975\n",
      "\n",
      "Start time: Fri Mar 14 16:46:10 2025\n",
      "7445 MiB RAM detected, ~5609 available; reserving 3722 MiB for main workspace.\n",
      "Using up to 2 compute threads.\n",
      "1105 samples (650 females, 455 males; 1105 founders) loaded from\n",
      "/home/jupyter/COMT_NBA_loop//chr22_AAC_release7.psam.\n",
      "755699 variants loaded from\n",
      "/home/jupyter/COMT_NBA_loop//chr22_AAC_release7.pvar.\n",
      "1 binary phenotype loaded (281 cases, 799 controls).\n",
      "--keep: 1097 samples remaining.\n",
      "1097 samples (647 females, 450 males; 1097 founders) remaining after main\n",
      "filters.\n",
      "279 cases and 793 controls remaining after main filters.\n",
      "Calculating allele frequencies... done.\n",
      "301 variants removed due to allele frequency threshold(s)\n",
      "(--maf/--max-maf/--mac/--max-mac).\n",
      "413 variants remaining after main filters.\n",
      "Writing /home/jupyter/COMT_NBA_loop//AAC_COMT.fam ... done.\n",
      "Writing /home/jupyter/COMT_NBA_loop//AAC_COMT.bim ... done.\n",
      "Writing /home/jupyter/COMT_NBA_loop//AAC_COMT.bed ... done.\n",
      "End time: Fri Mar 14 16:46:11 2025\n",
      "PLINK v2.0.0-a.6.9LM 64-bit Intel (29 Jan 2025)    cog-genomics.org/plink/2.0/\n",
      "(C) 2005-2025 Shaun Purcell, Christopher Chang   GNU General Public License v3\n",
      "Logging to /home/jupyter/COMT_NBA_loop//EUR_COMT.log.\n",
      "Options in effect:\n",
      "  --chr 22\n",
      "  --from-bp 19941371\n",
      "  --keep /home/jupyter/COMT_NBA_loop//samplestokeep_EUR.txt\n",
      "  --mac 2\n",
      "  --make-bed\n",
      "  --max-alleles 2\n",
      "  --out /home/jupyter/COMT_NBA_loop//EUR_COMT\n",
      "  --pfile /home/jupyter/COMT_NBA_loop//chr22_EUR_release7\n",
      "  --to-bp 19969975\n",
      "\n",
      "Start time: Fri Mar 14 16:46:12 2025\n",
      "7445 MiB RAM detected, ~5630 available; reserving 3722 MiB for main workspace.\n",
      "Using up to 2 compute threads.\n",
      "25795 samples (10129 females, 15666 males; 25795 founders) loaded from\n",
      "/home/jupyter/COMT_NBA_loop//chr22_EUR_release7.psam.\n",
      "1970326 variants loaded from\n",
      "/home/jupyter/COMT_NBA_loop//chr22_EUR_release7.pvar.\n",
      "1 binary phenotype loaded (13260 cases, 5295 controls).\n",
      "--keep: 25309 samples remaining.\n",
      "25309 samples (9886 females, 15423 males; 25309 founders) remaining after main\n",
      "filters.\n",
      "13034 cases and 5191 controls remaining after main filters.\n",
      "Calculating allele frequencies... done.\n",
      "916 variants removed due to allele frequency threshold(s)\n",
      "(--maf/--max-maf/--mac/--max-mac).\n",
      "994 variants remaining after main filters.\n",
      "Writing /home/jupyter/COMT_NBA_loop//EUR_COMT.fam ... done.\n",
      "Writing /home/jupyter/COMT_NBA_loop//EUR_COMT.bim ... done.\n",
      "Writing /home/jupyter/COMT_NBA_loop//EUR_COMT.bed ... done.\n",
      "End time: Fri Mar 14 16:46:16 2025\n",
      "PLINK v2.0.0-a.6.9LM 64-bit Intel (29 Jan 2025)    cog-genomics.org/plink/2.0/\n",
      "(C) 2005-2025 Shaun Purcell, Christopher Chang   GNU General Public License v3\n",
      "Logging to /home/jupyter/COMT_NBA_loop//AJ_COMT.log.\n",
      "Options in effect:\n",
      "  --chr 22\n",
      "  --from-bp 19941371\n",
      "  --keep /home/jupyter/COMT_NBA_loop//samplestokeep_AJ.txt\n",
      "  --mac 2\n",
      "  --make-bed\n",
      "  --max-alleles 2\n",
      "  --out /home/jupyter/COMT_NBA_loop//AJ_COMT\n",
      "  --pfile /home/jupyter/COMT_NBA_loop//chr22_AJ_release7\n",
      "  --to-bp 19969975\n",
      "\n",
      "Start time: Fri Mar 14 16:46:17 2025\n",
      "7445 MiB RAM detected, ~5616 available; reserving 3722 MiB for main workspace.\n",
      "Using up to 2 compute threads.\n",
      "2577 samples (987 females, 1590 males; 2577 founders) loaded from\n",
      "/home/jupyter/COMT_NBA_loop//chr22_AJ_release7.psam.\n",
      "321663 variants loaded from\n",
      "/home/jupyter/COMT_NBA_loop//chr22_AJ_release7.pvar.\n",
      "1 binary phenotype loaded (1246 cases, 393 controls).\n",
      "--keep: 2454 samples remaining.\n",
      "2454 samples (915 females, 1539 males; 2454 founders) remaining after main\n",
      "filters.\n",
      "1234 cases and 391 controls remaining after main filters.\n",
      "Calculating allele frequencies... done.\n",
      "71 variants removed due to allele frequency threshold(s)\n",
      "(--maf/--max-maf/--mac/--max-mac).\n",
      "245 variants remaining after main filters.\n",
      "Writing /home/jupyter/COMT_NBA_loop//AJ_COMT.fam ... done.\n",
      "Writing /home/jupyter/COMT_NBA_loop//AJ_COMT.bim ... done.\n",
      "Writing /home/jupyter/COMT_NBA_loop//AJ_COMT.bed ... done.\n",
      "End time: Fri Mar 14 16:46:18 2025\n",
      "PLINK v2.0.0-a.6.9LM 64-bit Intel (29 Jan 2025)    cog-genomics.org/plink/2.0/\n",
      "(C) 2005-2025 Shaun Purcell, Christopher Chang   GNU General Public License v3\n",
      "Logging to /home/jupyter/COMT_NBA_loop//CAS_COMT.log.\n",
      "Options in effect:\n",
      "  --chr 22\n",
      "  --from-bp 19941371\n",
      "  --keep /home/jupyter/COMT_NBA_loop//samplestokeep_CAS.txt\n",
      "  --mac 2\n",
      "  --make-bed\n",
      "  --max-alleles 2\n",
      "  --out /home/jupyter/COMT_NBA_loop//CAS_COMT\n",
      "  --pfile /home/jupyter/COMT_NBA_loop//chr22_CAS_release7\n",
      "  --to-bp 19969975\n",
      "\n",
      "Start time: Fri Mar 14 16:46:19 2025\n",
      "7445 MiB RAM detected, ~5636 available; reserving 3722 MiB for main workspace.\n",
      "Using up to 2 compute threads.\n",
      "889 samples (461 females, 428 males; 889 founders) loaded from\n",
      "/home/jupyter/COMT_NBA_loop//chr22_CAS_release7.psam.\n",
      "424191 variants loaded from\n",
      "/home/jupyter/COMT_NBA_loop//chr22_CAS_release7.pvar.\n",
      "1 binary phenotype loaded (541 cases, 341 controls).\n",
      "--keep: 831 samples remaining.\n",
      "831 samples (439 females, 392 males; 831 founders) remaining after main\n",
      "filters.\n",
      "519 cases and 306 controls remaining after main filters.\n",
      "Calculating allele frequencies... done.\n",
      "207 variants removed due to allele frequency threshold(s)\n",
      "(--maf/--max-maf/--mac/--max-mac).\n",
      "229 variants remaining after main filters.\n",
      "Writing /home/jupyter/COMT_NBA_loop//CAS_COMT.fam ... done.\n",
      "Writing /home/jupyter/COMT_NBA_loop//CAS_COMT.bim ... done.\n",
      "Writing /home/jupyter/COMT_NBA_loop//CAS_COMT.bed ... done.\n",
      "End time: Fri Mar 14 16:46:20 2025\n"
     ]
    }
   ],
   "source": [
    "## extract region using plink for each ancestry\n",
    "for ancestry in ancestries:\n",
    "\n",
    "    ! /home/jupyter/plink2 \\\n",
    "    --pfile {WORK_DIR}/chr22_{ancestry}_release7 \\\n",
    "    --chr 22 \\\n",
    "    --from-bp 19941371 \\\n",
    "    --to-bp 19969975 \\\n",
    "    --keep {WORK_DIR}/samplestokeep_{ancestry}.txt \\\n",
    "    --max-alleles 2 \\\n",
    "    --mac 2 \\\n",
    "    --make-bed \\\n",
    "    --out {WORK_DIR}/{ancestry}_COMT"
   ]
  },
  {
   "cell_type": "markdown",
   "metadata": {},
   "source": [
    "## Turn binary files into VCF"
   ]
  },
  {
   "cell_type": "code",
   "execution_count": 12,
   "metadata": {},
   "outputs": [
    {
     "name": "stdout",
     "output_type": "stream",
     "text": [
      "PLINK v2.0.0-a.6.9LM 64-bit Intel (29 Jan 2025)    cog-genomics.org/plink/2.0/\n",
      "(C) 2005-2025 Shaun Purcell, Christopher Chang   GNU General Public License v3\n",
      "Logging to /home/jupyter/COMT_NBA_loop//AMR_COMT.log.\n",
      "Options in effect:\n",
      "  --bfile /home/jupyter/COMT_NBA_loop//AMR_COMT\n",
      "  --export vcf id-paste=iid\n",
      "  --out /home/jupyter/COMT_NBA_loop//AMR_COMT\n",
      "\n",
      "Start time: Fri Mar 14 16:46:21 2025\n",
      "7445 MiB RAM detected, ~5613 available; reserving 3722 MiB for main workspace.\n",
      "Using up to 2 compute threads.\n",
      "609 samples (268 females, 341 males; 609 founders) loaded from\n",
      "/home/jupyter/COMT_NBA_loop//AMR_COMT.fam.\n",
      "249 variants loaded from /home/jupyter/COMT_NBA_loop//AMR_COMT.bim.\n",
      "1 binary phenotype loaded (427 cases, 150 controls).\n",
      "--export vcf to /home/jupyter/COMT_NBA_loop//AMR_COMT.vcf ... 1010111112121313141415151616171718181919202021212222232324242525262627272828292930303131323233333434353536363737383839394040414142424343444445454646474748484949505051515252535354545555565657575858595960606161626263636464656566666767686869697070717172727373747475757676777778787979808081818282838384848585868687878888898990909191929293939494959596969797989899done.\n",
      "End time: Fri Mar 14 16:46:21 2025\n",
      "PLINK v2.0.0-a.6.9LM 64-bit Intel (29 Jan 2025)    cog-genomics.org/plink/2.0/\n",
      "(C) 2005-2025 Shaun Purcell, Christopher Chang   GNU General Public License v3\n",
      "Logging to /home/jupyter/COMT_NBA_loop//MDE_COMT.log.\n",
      "Options in effect:\n",
      "  --bfile /home/jupyter/COMT_NBA_loop//MDE_COMT\n",
      "  --export vcf id-paste=iid\n",
      "  --out /home/jupyter/COMT_NBA_loop//MDE_COMT\n",
      "\n",
      "Start time: Fri Mar 14 16:46:22 2025\n",
      "7445 MiB RAM detected, ~5613 available; reserving 3722 MiB for main workspace.\n",
      "Using up to 2 compute threads.\n",
      "457 samples (166 females, 291 males; 457 founders) loaded from\n",
      "/home/jupyter/COMT_NBA_loop//MDE_COMT.fam.\n",
      "203 variants loaded from /home/jupyter/COMT_NBA_loop//MDE_COMT.bim.\n",
      "1 binary phenotype loaded (230 cases, 196 controls).\n",
      "--export vcf to /home/jupyter/COMT_NBA_loop//MDE_COMT.vcf ... 1010111112121313141415151616171718181919202021212222232324242525262627272828292930303131323233333434353536363737383839394040414142424343444445454646474748484949505051515252535354545555565657575858595960606161626263636464656566666767686869697070717172727373747475757676777778787979808081818282838384848585868687878888898990909191929293939494959596969797989899done.\n",
      "End time: Fri Mar 14 16:46:22 2025\n",
      "PLINK v2.0.0-a.6.9LM 64-bit Intel (29 Jan 2025)    cog-genomics.org/plink/2.0/\n",
      "(C) 2005-2025 Shaun Purcell, Christopher Chang   GNU General Public License v3\n",
      "Logging to /home/jupyter/COMT_NBA_loop//AFR_COMT.log.\n",
      "Options in effect:\n",
      "  --bfile /home/jupyter/COMT_NBA_loop//AFR_COMT\n",
      "  --export vcf id-paste=iid\n",
      "  --out /home/jupyter/COMT_NBA_loop//AFR_COMT\n",
      "\n",
      "Start time: Fri Mar 14 16:46:23 2025\n",
      "7445 MiB RAM detected, ~5612 available; reserving 3722 MiB for main workspace.\n",
      "Using up to 2 compute threads.\n",
      "2567 samples (1125 females, 1442 males; 2567 founders) loaded from\n",
      "/home/jupyter/COMT_NBA_loop//AFR_COMT.fam.\n",
      "487 variants loaded from /home/jupyter/COMT_NBA_loop//AFR_COMT.bim.\n",
      "1 binary phenotype loaded (929 cases, 1617 controls).\n",
      "--export vcf to /home/jupyter/COMT_NBA_loop//AFR_COMT.vcf ... 1010111112121313141415151616171718181919202021212222232324242525262627272828292930303131323233333434353536363737383839394040414142424343444445454646474748484949505051515252535354545555565657575858595960606161626263636464656566666767686869697070717172727373747475757676777778787979808081818282838384848585868687878888898990909191929293939494959596969797989899done.\n",
      "End time: Fri Mar 14 16:46:23 2025\n",
      "PLINK v2.0.0-a.6.9LM 64-bit Intel (29 Jan 2025)    cog-genomics.org/plink/2.0/\n",
      "(C) 2005-2025 Shaun Purcell, Christopher Chang   GNU General Public License v3\n",
      "Logging to /home/jupyter/COMT_NBA_loop//EAS_COMT.log.\n",
      "Options in effect:\n",
      "  --bfile /home/jupyter/COMT_NBA_loop//EAS_COMT\n",
      "  --export vcf id-paste=iid\n",
      "  --out /home/jupyter/COMT_NBA_loop//EAS_COMT\n",
      "\n",
      "Start time: Fri Mar 14 16:46:25 2025\n",
      "7445 MiB RAM detected, ~5614 available; reserving 3722 MiB for main workspace.\n",
      "Using up to 2 compute threads.\n",
      "4932 samples (1804 females, 3128 males; 4932 founders) loaded from\n",
      "/home/jupyter/COMT_NBA_loop//EAS_COMT.fam.\n",
      "420 variants loaded from /home/jupyter/COMT_NBA_loop//EAS_COMT.bim.\n",
      "1 binary phenotype loaded (2547 cases, 2345 controls).\n",
      "--export vcf to /home/jupyter/COMT_NBA_loop//EAS_COMT.vcf ... 101011111212131314151516161717181819202021212222232324252526262727282829303031313232333334353536363737383839404041414242434344454546464747484849505051515252535354555556565757585859606061616262636364656566666767686869707071717272737374757576767777787879808081818282838384858586868787888889909091919292939394959596969797989899done.\n",
      "End time: Fri Mar 14 16:46:25 2025\n",
      "PLINK v2.0.0-a.6.9LM 64-bit Intel (29 Jan 2025)    cog-genomics.org/plink/2.0/\n",
      "(C) 2005-2025 Shaun Purcell, Christopher Chang   GNU General Public License v3\n",
      "Logging to /home/jupyter/COMT_NBA_loop//SAS_COMT.log.\n",
      "Options in effect:\n",
      "  --bfile /home/jupyter/COMT_NBA_loop//SAS_COMT\n",
      "  --export vcf id-paste=iid\n",
      "  --out /home/jupyter/COMT_NBA_loop//SAS_COMT\n",
      "\n",
      "Start time: Fri Mar 14 16:46:26 2025\n",
      "7445 MiB RAM detected, ~5622 available; reserving 3722 MiB for main workspace.\n",
      "Using up to 2 compute threads.\n",
      "539 samples (188 females, 351 males; 539 founders) loaded from\n",
      "/home/jupyter/COMT_NBA_loop//SAS_COMT.fam.\n",
      "203 variants loaded from /home/jupyter/COMT_NBA_loop//SAS_COMT.bim.\n",
      "1 binary phenotype loaded (319 cases, 198 controls).\n",
      "--export vcf to /home/jupyter/COMT_NBA_loop//SAS_COMT.vcf ... 1010111112121313141415151616171718181919202021212222232324242525262627272828292930303131323233333434353536363737383839394040414142424343444445454646474748484949505051515252535354545555565657575858595960606161626263636464656566666767686869697070717172727373747475757676777778787979808081818282838384848585868687878888898990909191929293939494959596969797989899done.\n",
      "End time: Fri Mar 14 16:46:26 2025\n",
      "PLINK v2.0.0-a.6.9LM 64-bit Intel (29 Jan 2025)    cog-genomics.org/plink/2.0/\n",
      "(C) 2005-2025 Shaun Purcell, Christopher Chang   GNU General Public License v3\n",
      "Logging to /home/jupyter/COMT_NBA_loop//CAH_COMT.log.\n",
      "Options in effect:\n",
      "  --bfile /home/jupyter/COMT_NBA_loop//CAH_COMT\n",
      "  --export vcf id-paste=iid\n",
      "  --out /home/jupyter/COMT_NBA_loop//CAH_COMT\n",
      "\n",
      "Start time: Fri Mar 14 16:46:27 2025\n",
      "7445 MiB RAM detected, ~5622 available; reserving 3722 MiB for main workspace.\n",
      "Using up to 2 compute threads.\n",
      "800 samples (378 females, 422 males; 800 founders) loaded from\n",
      "/home/jupyter/COMT_NBA_loop//CAH_COMT.fam.\n",
      "366 variants loaded from /home/jupyter/COMT_NBA_loop//CAH_COMT.bim.\n",
      "1 binary phenotype loaded (494 cases, 283 controls).\n",
      "--export vcf to /home/jupyter/COMT_NBA_loop//CAH_COMT.vcf ... 10101111121213131414151516161717181819192020212122222323242425252626272728282929303031313232333334343535363637373838393940404141424243434444454546464747484849505051515252535354545555565657575858595960606161626263636464656566666767686869697070717172727373747475757676777778787979808081818282838384848585868687878888898990909191929293939494959596969797989899done.\n",
      "End time: Fri Mar 14 16:46:27 2025\n",
      "PLINK v2.0.0-a.6.9LM 64-bit Intel (29 Jan 2025)    cog-genomics.org/plink/2.0/\n",
      "(C) 2005-2025 Shaun Purcell, Christopher Chang   GNU General Public License v3\n",
      "Logging to /home/jupyter/COMT_NBA_loop//AAC_COMT.log.\n",
      "Options in effect:\n",
      "  --bfile /home/jupyter/COMT_NBA_loop//AAC_COMT\n",
      "  --export vcf id-paste=iid\n",
      "  --out /home/jupyter/COMT_NBA_loop//AAC_COMT\n",
      "\n",
      "Start time: Fri Mar 14 16:46:28 2025\n",
      "7445 MiB RAM detected, ~5623 available; reserving 3722 MiB for main workspace.\n",
      "Using up to 2 compute threads.\n",
      "1097 samples (647 females, 450 males; 1097 founders) loaded from\n",
      "/home/jupyter/COMT_NBA_loop//AAC_COMT.fam.\n",
      "413 variants loaded from /home/jupyter/COMT_NBA_loop//AAC_COMT.bim.\n",
      "1 binary phenotype loaded (279 cases, 793 controls).\n",
      "--export vcf to /home/jupyter/COMT_NBA_loop//AAC_COMT.vcf ... 1010111112121313141415151616171718181919202021212222232324242525262627272828292930303131323233333434353536363737383839394040414142424343444445454646474748484949505051515252535354545555565657575858595960606161626263636464656566666767686869697070717172727373747475757676777778787979808081818282838384848585868687878888898990909191929293939494959596969797989899done.\n",
      "End time: Fri Mar 14 16:46:28 2025\n"
     ]
    },
    {
     "name": "stdout",
     "output_type": "stream",
     "text": [
      "PLINK v2.0.0-a.6.9LM 64-bit Intel (29 Jan 2025)    cog-genomics.org/plink/2.0/\n",
      "(C) 2005-2025 Shaun Purcell, Christopher Chang   GNU General Public License v3\n",
      "Logging to /home/jupyter/COMT_NBA_loop//EUR_COMT.log.\n",
      "Options in effect:\n",
      "  --bfile /home/jupyter/COMT_NBA_loop//EUR_COMT\n",
      "  --export vcf id-paste=iid\n",
      "  --out /home/jupyter/COMT_NBA_loop//EUR_COMT\n",
      "\n",
      "Start time: Fri Mar 14 16:46:29 2025\n",
      "7445 MiB RAM detected, ~5621 available; reserving 3722 MiB for main workspace.\n",
      "Using up to 2 compute threads.\n",
      "25309 samples (9886 females, 15423 males; 25309 founders) loaded from\n",
      "/home/jupyter/COMT_NBA_loop//EUR_COMT.fam.\n",
      "994 variants loaded from /home/jupyter/COMT_NBA_loop//EUR_COMT.bim.\n",
      "1 binary phenotype loaded (13034 cases, 5191 controls).\n",
      "--export vcf to /home/jupyter/COMT_NBA_loop//EUR_COMT.vcf ... 10101111121213131414151516161717181819192020212122222323242425252626272728282929303031313232333334343535363637373838393940404141424243434444454546464747484849505051515252535354545555565657575858595960606161626263636464656566666767686869697070717172727373747475757676777778787979808081818282838384848585868687878888898990909191929293939494959596969797989899done.\n",
      "End time: Fri Mar 14 16:46:29 2025\n",
      "PLINK v2.0.0-a.6.9LM 64-bit Intel (29 Jan 2025)    cog-genomics.org/plink/2.0/\n",
      "(C) 2005-2025 Shaun Purcell, Christopher Chang   GNU General Public License v3\n",
      "Logging to /home/jupyter/COMT_NBA_loop//AJ_COMT.log.\n",
      "Options in effect:\n",
      "  --bfile /home/jupyter/COMT_NBA_loop//AJ_COMT\n",
      "  --export vcf id-paste=iid\n",
      "  --out /home/jupyter/COMT_NBA_loop//AJ_COMT\n",
      "\n",
      "Start time: Fri Mar 14 16:46:30 2025\n",
      "7445 MiB RAM detected, ~5607 available; reserving 3722 MiB for main workspace.\n",
      "Using up to 2 compute threads.\n",
      "2454 samples (915 females, 1539 males; 2454 founders) loaded from\n",
      "/home/jupyter/COMT_NBA_loop//AJ_COMT.fam.\n",
      "245 variants loaded from /home/jupyter/COMT_NBA_loop//AJ_COMT.bim.\n",
      "1 binary phenotype loaded (1234 cases, 391 controls).\n",
      "--export vcf to /home/jupyter/COMT_NBA_loop//AJ_COMT.vcf ... 10101111121213131414151516161717181819202021212222232324242525262627272828292930303131323233333434353536363737383839404041414242434344444545464647474848494950505151525253535454555556565757585859606061616262636364646565666667676868696970707171727273737474757576767777787879808081818282838384848585868687878888898990909191929293939494959596969797989899done.\n",
      "End time: Fri Mar 14 16:46:30 2025\n",
      "PLINK v2.0.0-a.6.9LM 64-bit Intel (29 Jan 2025)    cog-genomics.org/plink/2.0/\n",
      "(C) 2005-2025 Shaun Purcell, Christopher Chang   GNU General Public License v3\n",
      "Logging to /home/jupyter/COMT_NBA_loop//CAS_COMT.log.\n",
      "Options in effect:\n",
      "  --bfile /home/jupyter/COMT_NBA_loop//CAS_COMT\n",
      "  --export vcf id-paste=iid\n",
      "  --out /home/jupyter/COMT_NBA_loop//CAS_COMT\n",
      "\n",
      "Start time: Fri Mar 14 16:46:31 2025\n",
      "7445 MiB RAM detected, ~5605 available; reserving 3722 MiB for main workspace.\n",
      "Using up to 2 compute threads.\n",
      "831 samples (439 females, 392 males; 831 founders) loaded from\n",
      "/home/jupyter/COMT_NBA_loop//CAS_COMT.fam.\n",
      "229 variants loaded from /home/jupyter/COMT_NBA_loop//CAS_COMT.bim.\n",
      "1 binary phenotype loaded (519 cases, 306 controls).\n",
      "--export vcf to /home/jupyter/COMT_NBA_loop//CAS_COMT.vcf ... 1010111112121313141415151616171718181919202021212222232324242525262627272828292930303131323233333434353536363737383839394040414142424343444445454646474748484949505051515252535354545555565657575858595960606161626263636464656566666767686869697070717172727373747475757676777778787979808081818282838384848585868687878888898990909191929293939494959596969797989899done.\n",
      "End time: Fri Mar 14 16:46:31 2025\n"
     ]
    }
   ],
   "source": [
    "for ancestry in ancestries:\n",
    "        \n",
    "    ## Turn binary files into VCF\n",
    "    ! /home/jupyter/plink2 \\\n",
    "    --bfile {WORK_DIR}/{ancestry}_COMT \\\n",
    "    --recode vcf id-paste=iid \\\n",
    "    --out {WORK_DIR}/{ancestry}_COMT"
   ]
  },
  {
   "cell_type": "code",
   "execution_count": 13,
   "metadata": {},
   "outputs": [],
   "source": [
    "### Bgzip and Tabix (zip and index the file)\n",
    "for ancestry in ancestries:    \n",
    "    ! bgzip -f {WORK_DIR}/{ancestry}_COMT.vcf\n",
    "    ! tabix -f -p vcf {WORK_DIR}/{ancestry}_COMT.vcf.gz "
   ]
  },
  {
   "cell_type": "markdown",
   "metadata": {},
   "source": [
    "## Annotate using ANNOVAR"
   ]
  },
  {
   "cell_type": "code",
   "execution_count": null,
   "metadata": {},
   "outputs": [],
   "source": [
    "for ancestry in ancestries:\n",
    "        \n",
    "    ! perl /home/jupyter/tools/annovar/table_annovar.pl {WORK_DIR}/{ancestry}_COMT.vcf.gz /home/jupyter/tools/annovar/humandb/ -buildver hg38 \\\n",
    "    -out {WORK_DIR}/{ancestry}_COMT.annovar \\\n",
    "    -remove -protocol refGene,clinvar_20170905 \\\n",
    "    -operation g,f \\\n",
    "    --nopolish \\\n",
    "    -nastring . \\\n",
    "    -vcfinput\n",
    "    "
   ]
  },
  {
   "cell_type": "code",
   "execution_count": null,
   "metadata": {},
   "outputs": [],
   "source": [
    "ancestries = ['AAC', 'AFR', 'AJ', 'AMR', 'CAS', 'EAS', 'EUR', 'MDE', 'SAS', 'CAH']\n",
    "\n",
    "for ancestry in ancestries:\n",
    "        \n",
    "    print(f'WORKING ON: {ancestry}')\n",
    "    \n",
    "    # Read in ANNOVAR multianno file\n",
    "    gene = pd.read_csv(f'{WORK_DIR}/{ancestry}_COMT.annovar.hg38_multianno.txt', sep = '\\t')\n",
    "    \n",
    "    #Filter for the correct gene name (sometimes other genes are also included)\n",
    "    gene = gene[gene['Gene.refGene'] == 'COMT']\n",
    "    \n",
    "    #Print number of variants in the different categories\n",
    "    results = [] \n",
    "\n",
    "    intronic = gene[gene['Func.refGene']== 'intronic']\n",
    "    upstream = gene[gene['Func.refGene']== 'upstream']\n",
    "    downstream = gene[gene['Func.refGene']== 'downstream']\n",
    "    utr5 = gene[gene['Func.refGene']== 'UTR5']\n",
    "    utr3 = gene[gene['Func.refGene']== 'UTR3']\n",
    "    splicing = gene[gene['Func.refGene']== 'splicing']\n",
    "    exonic = gene[gene['Func.refGene']== 'exonic']\n",
    "    stopgain = gene[(gene['Func.refGene'] == 'exonic') & (gene['ExonicFunc.refGene'] == 'stopgain')]\n",
    "    stoploss = gene[(gene['Func.refGene'] == 'exonic') & (gene['ExonicFunc.refGene'] == 'stoploss')]\n",
    "    startloss = gene[(gene['Func.refGene'] == 'exonic') & (gene['ExonicFunc.refGene'] == 'startloss')]\n",
    "    frameshift_deletion = gene[(gene['Func.refGene'] == 'exonic') & (gene['ExonicFunc.refGene'] == 'frameshift deletion')]\n",
    "    frameshift_insertion = gene[(gene['Func.refGene'] == 'exonic') & (gene['ExonicFunc.refGene'] == 'frameshift insertion')]\n",
    "    nonframeshift_deletion = gene[(gene['Func.refGene'] == 'exonic') & (gene['ExonicFunc.refGene'] == 'nonframeshift deletion')]\n",
    "    nonframeshift_insertion = gene[(gene['Func.refGene'] == 'exonic') & (gene['ExonicFunc.refGene'] == 'nonframeshift insertion')]\n",
    "    coding_nonsynonymous = gene[(gene['Func.refGene'] == 'exonic') & (gene['ExonicFunc.refGene'] == 'nonsynonymous SNV')]\n",
    "    coding_synonymous = gene[(gene['Func.refGene'] == 'exonic') & (gene['ExonicFunc.refGene'] == 'synonymous SNV')]\n",
    "        \n",
    "    print({ancestry})\n",
    "    print('Total variants: ', len(gene))\n",
    "    print(\"Intronic: \", len(intronic))\n",
    "    print(\"Upstream: \", len(upstream))\n",
    "    print(\"Downstream: \", len(downstream))\n",
    "    print('UTR3: ', len(utr3))\n",
    "    print('UTR5: ', len(utr5))\n",
    "    print(\"Splicing: \", len(splicing))\n",
    "    print(\"Total exonic: \", len(exonic))\n",
    "    print(\"Stopgain: \", len(stopgain))\n",
    "    print(\"Stoploss: \", len(stoploss))\n",
    "    print(\"Startloss: \", len(startloss))\n",
    "    print(\"Frameshift deletion: \", len(frameshift_deletion))\n",
    "    print(\"Frameshift insertion: \", len(frameshift_insertion))\n",
    "    print(\"Non-frameshift insertion: \", len(nonframeshift_insertion))\n",
    "    print(\"Non-frameshift deletion: \", len(nonframeshift_deletion))\n",
    "    print('Synonymous: ', len(coding_synonymous))\n",
    "    print(\"Nonsynonymous: \", len(coding_nonsynonymous))\n",
    "    results.append((gene, intronic, upstream, downstream, utr3, utr5, splicing,exonic,stopgain,stoploss,startloss, frameshift_deletion,frameshift_insertion,nonframeshift_deletion,nonframeshift_insertion,coding_synonymous, coding_nonsynonymous))\n",
    "    print('\\n')\n",
    "    \n",
    "    ## For rvtests\n",
    "    \n",
    "    # Potential functional: These are variants annotated as frameshift, nonframeshift, startloss, stoploss, stopgain, splicing, missense, exonic, UTR5, UTR3, upstream (-100bp), downstream (+100bp), or ncRNA. \n",
    "    potentially_functional = gene[gene['Func.refGene'] != 'intronic']\n",
    "    # Coding: These are variants annotated as frameshift, nonframeshift, startloss, stoploss, stopgain, splicing, or missense.\n",
    "    coding_variants = gene[(gene['Func.refGene'] == 'splicing') | (gene['Func.refGene'] == 'exonic') & (gene['ExonicFunc.refGene'] != 'synonymous SNV')]\n",
    "    # Loss of function: These are variants annotated as frameshift, startloss,stopgain, or splicing.\n",
    "    loss_of_function = gene[(gene['Func.refGene'] == 'splicing') | (gene['ExonicFunc.refGene'] == 'stopgain') | (gene['ExonicFunc.refGene'] == 'startloss') | (gene['ExonicFunc.refGene'] == 'frameshift deletion') | (gene['ExonicFunc.refGene'] == 'frameshift insertion')]\n",
    "    \n",
    "    # Save in PLINK format\n",
    "    variants_toKeep = potentially_functional[['Chr', 'Start', 'End', 'Gene.refGene']].copy()\n",
    "    variants_toKeep.to_csv(f'{WORK_DIR}/{ancestry}_COMT.potentially_functional.variantstoKeep.txt', sep=\"\\t\", index=False, header=False)\n",
    "\n",
    "    variants_toKeep2 = coding_variants[['Chr', 'Start', 'End', 'Gene.refGene']].copy()\n",
    "    variants_toKeep2.to_csv(f'{WORK_DIR}/{ancestry}_COMT.coding_variants.variantstoKeep.txt', sep=\"\\t\", index=False, header=False)\n",
    "\n",
    "    variants_toKeep3 = loss_of_function[['Chr', 'Start', 'End', 'Gene.refGene']].copy()\n",
    "    variants_toKeep3.to_csv(f'{WORK_DIR}/{ancestry}_COMT.loss_of_function.variantstoKeep.txt', sep=\"\\t\", index=False, header=False)\n",
    "    \n",
    "    # These are all exonic variants\n",
    "    exonic = gene[gene['Func.refGene'] == 'exonic']\n",
    "    \n",
    "    # Save in PLINK format\n",
    "    variants_toKeep4 = exonic[['Chr', 'Start', 'End', 'Gene.refGene']].copy()\n",
    "    variants_toKeep4.to_csv(f'{WORK_DIR}/{ancestry}_COMT.exonic.variantstoKeep.txt', sep=\"\\t\", index=False, header=False)"
   ]
  },
  {
   "cell_type": "markdown",
   "metadata": {
    "heading_collapsed": true
   },
   "source": [
    "## Burden Analyses using RVTests"
   ]
  },
  {
   "cell_type": "code",
   "execution_count": null,
   "metadata": {
    "hidden": true
   },
   "outputs": [],
   "source": [
    "ancestries = ['AAC', 'AFR', 'AJ', 'AMR', 'CAS', 'EAS', 'EUR', 'MDE', 'SAS', 'CAH']\n",
    "variant_classes = ['potentially_functional', 'coding_variants','loss_of_function']\n",
    "\n",
    "#Loop over all the ancestries and the 3 variant classes\n",
    "for ancestry in ancestries:\n",
    "    for variant_class in variant_classes:\n",
    "                \n",
    "        # Print the command to be executed (for debugging purposes)\n",
    "        print(f'Running plink to extract {variant_class} variants for ancestry: {ancestry}')\n",
    "        \n",
    "        #Extract relevant variants\n",
    "        ! /home/jupyter/plink2 \\\n",
    "        --pfile {WORK_DIR}/chr22_{ancestry}_release7 \\\n",
    "        --keep {WORK_DIR}/samplestokeep_{ancestry}.txt \\\n",
    "        --extract range {WORK_DIR}/{ancestry}_COMT.{variant_class}.variantstoKeep.txt \\\n",
    "        --recode vcf-iid \\\n",
    "        --out {WORK_DIR}/{ancestry}_COMT.{variant_class}\n",
    "\n",
    "        # Print the command to be executed (for debugging purposes)\n",
    "        print(f'Running bgzip and tabix for {variant_class} variants for ancestry: {ancestry}')\n",
    "        \n",
    "        ## Bgzip and Tabix (zip and index the file)\n",
    "        ! bgzip -f {WORK_DIR}/{ancestry}_COMT.{variant_class}.vcf\n",
    "        ! tabix -f -p vcf {WORK_DIR}/{ancestry}_COMT.{variant_class}.vcf.gz"
   ]
  },
  {
   "cell_type": "code",
   "execution_count": null,
   "metadata": {
    "hidden": true
   },
   "outputs": [],
   "source": [
    "shell_do(f'gsutil -u {BILLING_PROJECT_ID} -m cp {WORKSPACE_BUCKET}/refFlat.txt.gz {WORK_DIR}')\n"
   ]
  },
  {
   "cell_type": "code",
   "execution_count": null,
   "metadata": {
    "hidden": true
   },
   "outputs": [],
   "source": [
    "!gzip -d -f {WORK_DIR}/refFlat.txt.gz\n"
   ]
  },
  {
   "cell_type": "code",
   "execution_count": null,
   "metadata": {
    "hidden": true
   },
   "outputs": [],
   "source": [
    "#Run RVtests\n",
    "ancestries = ['AAC', 'AFR', 'AJ', 'AMR', 'CAS', 'EAS', 'EUR', 'MDE', 'SAS', 'CAH']\n",
    "variant_classes = ['potentially_functional', 'coding_variants','loss_of_function']\n",
    "\n",
    "for ancestry in ancestries:\n",
    "    for variant_class in variant_classes:\n",
    "                \n",
    "        # Print the command to be executed (for debugging purposes)\n",
    "        print(f'Running RVtests for {variant_class} variants for ancestry: {ancestry}')\n",
    "        \n",
    "        ## RVtests with covariates \n",
    "        #Make sure the pheno and covariate file starts with the first 5 columsn: fid, iid, fatid, matid, sex\n",
    "        #The pheno-name flag only works when the pheno/covar file is structured properly\n",
    "        ! /home/jupyter/tools/rvtests/executable/rvtest --noweb --hide-covar \\\n",
    "        --out {WORK_DIR}/{ancestry}_COMT.burden.{variant_class} \\\n",
    "        --kernel skat,skato \\\n",
    "        --inVcf {WORK_DIR}/{ancestry}_COMT.{variant_class}.vcf.gz \\\n",
    "        --pheno {WORK_DIR}/{ancestry}_covariate_file.txt \\\n",
    "        --pheno-name PHENO \\\n",
    "        --gene COMT \\\n",
    "        --geneFile {WORK_DIR}/refFlat.txt \\\n",
    "        --covar {WORK_DIR}/{ancestry}_covariate_file.txt \\\n",
    "        --covar-name SEX,AGE,PC1,PC2,PC3,PC4,PC5"
   ]
  },
  {
   "cell_type": "code",
   "execution_count": null,
   "metadata": {
    "hidden": true
   },
   "outputs": [],
   "source": [
    "#Removed FIN and MDE from ancestry_GROUPS as there are no FIN samples and no variants of interest in MDE and CAH (only 4 samples)\n",
    "ancestry_GROUPS = ['AAC', 'AFR', 'AJ', 'AMR', 'CAS', 'EAS', 'EUR', 'SAS']\n",
    "#ancestry_GROUPS = ['CAH','MDE']\n",
    "variant_classes = ['potentially_functional', 'coding_variants', 'loss_of_function']\n",
    "\n",
    "for ancestry_GROUP in ancestry_GROUPS:\n",
    "    for variant_class in variant_classes:\n",
    "        \n",
    "        shell_do(f'gsutil -mu {BILLING_PROJECT_ID} cp -r {WORK_DIR}/{ancestry_GROUP}_COMT.burden.{variant_class}.*.assoc {WORKSPACE_BUCKET}/COMT_NBA_loop/Burden/')"
   ]
  },
  {
   "cell_type": "markdown",
   "metadata": {},
   "source": [
    "# Case/Control Analysis"
   ]
  },
  {
   "cell_type": "markdown",
   "metadata": {},
   "source": [
    "__1. Glossary__\n",
    "- CHR Chromosome code\n",
    "- SNP Variant identifier\n",
    "- A1 Allele 1 (usually minor)\n",
    "- A2 Allele 2 (usually major)\n",
    "- MAF Allele 1 frequency in all subjects\n",
    "- F_A/MAF_A Allele 1 frequency in cases\n",
    "- F_U/MAF_U Allele 1 frequency in controls\n",
    "- NCHROBS_A Number of case allele observations\n",
    "- NCHROBS_U Number of control allele observations\n",
    "\n"
   ]
  },
  {
   "cell_type": "markdown",
   "metadata": {
    "heading_collapsed": true
   },
   "source": [
    "## All variants"
   ]
  },
  {
   "cell_type": "markdown",
   "metadata": {
    "hidden": true
   },
   "source": [
    "### assoc"
   ]
  },
  {
   "cell_type": "code",
   "execution_count": 29,
   "metadata": {
    "hidden": true
   },
   "outputs": [
    {
     "name": "stdout",
     "output_type": "stream",
     "text": [
      "PLINK v1.90b6.9 64-bit (4 Mar 2019)            www.cog-genomics.org/plink/1.9/\n",
      "(C) 2005-2019 Shaun Purcell, Christopher Chang   GNU General Public License v3\n",
      "Logging to /home/jupyter/COMT_NBA_loop//AAC_COMT.AllVariants.log.\n",
      "Options in effect:\n",
      "  --adjust\n",
      "  --allow-no-sex\n",
      "  --assoc\n",
      "  --bfile /home/jupyter/COMT_NBA_loop//AAC_COMT\n",
      "  --ci 0.95\n",
      "  --hwe 0.0001\n",
      "  --keep /home/jupyter/COMT_NBA_loop//samplestokeep_AAC.txt\n",
      "  --mac 2\n",
      "  --maf 0.01\n",
      "  --out /home/jupyter/COMT_NBA_loop//AAC_COMT.AllVariants\n",
      "\n",
      "7445 MB RAM detected; reserving 3722 MB for main workspace.\n",
      "413 variants loaded from .bim file.\n",
      "1097 people (450 males, 647 females) loaded from .fam.\n",
      "1072 phenotype values loaded from .fam.\n",
      "--keep: 1097 people remaining.\n",
      "Using 1 thread (no multithreaded calculations invoked).\n",
      "Before main variant filters, 1097 founders and 0 nonfounders present.\n",
      "Calculating allele frequencies... 10111213141516171819202122232425262728293031323334353637383940414243444546474849505152535455565758596061626364656667686970717273747576777879808182838485868788899091929394959697989 done.\n",
      "Total genotyping rate is 0.997596.\n",
      "--hwe: 0 variants removed due to Hardy-Weinberg exact test.\n",
      "227 variants removed due to minor allele threshold(s)\n",
      "(--maf/--max-maf/--mac/--max-mac).\n",
      "186 variants and 1097 people pass filters and QC.\n",
      "Among remaining phenotypes, 279 are cases and 793 are controls.  (25 phenotypes\n",
      "are missing.)\n",
      "Writing C/C --assoc report to\n",
      "/home/jupyter/COMT_NBA_loop//AAC_COMT.AllVariants.assoc ...\n",
      "done.\n",
      "--adjust: Genomic inflation est. lambda (based on median chisq) = 2.03468.\n",
      "101112131415161718192021222324252627282930313233343536373839404142434445464748495051525354555657585960616263646566676869707172737475767778798081828384858687888990919293949596979899--adjust values (186 variants) written to\n",
      "/home/jupyter/COMT_NBA_loop//AAC_COMT.AllVariants.assoc.adjusted .\n",
      "PLINK v1.90b6.9 64-bit (4 Mar 2019)            www.cog-genomics.org/plink/1.9/\n",
      "(C) 2005-2019 Shaun Purcell, Christopher Chang   GNU General Public License v3\n",
      "Logging to /home/jupyter/COMT_NBA_loop//AAC_COMT.AllVariants.log.\n",
      "Options in effect:\n",
      "  --bfile /home/jupyter/COMT_NBA_loop//AAC_COMT\n",
      "  --keep /home/jupyter/COMT_NBA_loop//samplestokeep_AAC.txt\n",
      "  --out /home/jupyter/COMT_NBA_loop//AAC_COMT.AllVariants\n",
      "  --recode A\n",
      "\n",
      "7445 MB RAM detected; reserving 3722 MB for main workspace.\n",
      "413 variants loaded from .bim file.\n",
      "1097 people (450 males, 647 females) loaded from .fam.\n",
      "1072 phenotype values loaded from .fam.\n",
      "--keep: 1097 people remaining.\n",
      "Using 1 thread (no multithreaded calculations invoked).\n",
      "Before main variant filters, 1097 founders and 0 nonfounders present.\n",
      "Calculating allele frequencies... 10111213141516171819202122232425262728293031323334353637383940414243444546474849505152535455565758596061626364656667686970717273747576777879808182838485868788899091929394959697989 done.\n",
      "Total genotyping rate is 0.997596.\n",
      "413 variants and 1097 people pass filters and QC.\n",
      "Among remaining phenotypes, 279 are cases and 793 are controls.  (25 phenotypes\n",
      "are missing.)\n",
      "--recode A to /home/jupyter/COMT_NBA_loop//AAC_COMT.AllVariants.raw ... 101112131415161718192021222324252627282930313233343536373839404142434445464748495051525354555657585960616263646566676869707172737475767778798081828384858687888990919293949596979899done.\n",
      "PLINK v1.90b6.9 64-bit (4 Mar 2019)            www.cog-genomics.org/plink/1.9/\n",
      "(C) 2005-2019 Shaun Purcell, Christopher Chang   GNU General Public License v3\n",
      "Logging to /home/jupyter/COMT_NBA_loop//AFR_COMT.AllVariants.log.\n",
      "Options in effect:\n",
      "  --adjust\n",
      "  --allow-no-sex\n",
      "  --assoc\n",
      "  --bfile /home/jupyter/COMT_NBA_loop//AFR_COMT\n",
      "  --ci 0.95\n",
      "  --hwe 0.0001\n",
      "  --keep /home/jupyter/COMT_NBA_loop//samplestokeep_AFR.txt\n",
      "  --mac 2\n",
      "  --maf 0.01\n",
      "  --out /home/jupyter/COMT_NBA_loop//AFR_COMT.AllVariants\n",
      "\n",
      "7445 MB RAM detected; reserving 3722 MB for main workspace.\n",
      "487 variants loaded from .bim file.\n",
      "2567 people (1442 males, 1125 females) loaded from .fam.\n",
      "2546 phenotype values loaded from .fam.\n",
      "--keep: 2567 people remaining.\n",
      "Using 1 thread (no multithreaded calculations invoked).\n",
      "Before main variant filters, 2567 founders and 0 nonfounders present.\n",
      "Calculating allele frequencies... 10111213141516171819202122232425262728293031323334353637383940414243444546474849505152535455565758596061626364656667686970717273747576777879808182838485868788899091929394959697989 done.\n",
      "Total genotyping rate is 0.99684.\n",
      "--hwe: 0 variants removed due to Hardy-Weinberg exact test.\n",
      "306 variants removed due to minor allele threshold(s)\n",
      "(--maf/--max-maf/--mac/--max-mac).\n",
      "181 variants and 2567 people pass filters and QC.\n",
      "Among remaining phenotypes, 929 are cases and 1617 are controls.  (21\n",
      "phenotypes are missing.)\n",
      "Writing C/C --assoc report to\n",
      "/home/jupyter/COMT_NBA_loop//AFR_COMT.AllVariants.assoc ...\n",
      "done.\n",
      "--adjust: Genomic inflation est. lambda (based on median chisq) = 1.37832.\n",
      "101112131415161718192021222324252627282930313233343536373839404142434445464748495051525354555657585960616263646566676869707172737475767778798081828384858687888990919293949596979899--adjust values (181 variants) written to\n",
      "/home/jupyter/COMT_NBA_loop//AFR_COMT.AllVariants.assoc.adjusted .\n",
      "PLINK v1.90b6.9 64-bit (4 Mar 2019)            www.cog-genomics.org/plink/1.9/\n",
      "(C) 2005-2019 Shaun Purcell, Christopher Chang   GNU General Public License v3\n",
      "Logging to /home/jupyter/COMT_NBA_loop//AFR_COMT.AllVariants.log.\n",
      "Options in effect:\n",
      "  --bfile /home/jupyter/COMT_NBA_loop//AFR_COMT\n",
      "  --keep /home/jupyter/COMT_NBA_loop//samplestokeep_AFR.txt\n",
      "  --out /home/jupyter/COMT_NBA_loop//AFR_COMT.AllVariants\n",
      "  --recode A\n",
      "\n",
      "7445 MB RAM detected; reserving 3722 MB for main workspace.\n",
      "487 variants loaded from .bim file.\n",
      "2567 people (1442 males, 1125 females) loaded from .fam.\n",
      "2546 phenotype values loaded from .fam.\n",
      "--keep: 2567 people remaining.\n",
      "Using 1 thread (no multithreaded calculations invoked).\n",
      "Before main variant filters, 2567 founders and 0 nonfounders present.\n",
      "Calculating allele frequencies... 10111213141516171819202122232425262728293031323334353637383940414243444546474849505152535455565758596061626364656667686970717273747576777879808182838485868788899091929394959697989 done.\n",
      "Total genotyping rate is 0.99684.\n",
      "487 variants and 2567 people pass filters and QC.\n",
      "Among remaining phenotypes, 929 are cases and 1617 are controls.  (21\n",
      "phenotypes are missing.)\n",
      "--recode A to /home/jupyter/COMT_NBA_loop//AFR_COMT.AllVariants.raw ... 101112131415161718192021222324252627282930313233343536373839404142434445464748495051525354555657585960616263646566676869707172737475767778798081828384858687888990919293949596979899done.\n",
      "PLINK v1.90b6.9 64-bit (4 Mar 2019)            www.cog-genomics.org/plink/1.9/\n",
      "(C) 2005-2019 Shaun Purcell, Christopher Chang   GNU General Public License v3\n",
      "Logging to /home/jupyter/COMT_NBA_loop//AJ_COMT.AllVariants.log.\n",
      "Options in effect:\n",
      "  --adjust\n",
      "  --allow-no-sex\n",
      "  --assoc\n",
      "  --bfile /home/jupyter/COMT_NBA_loop//AJ_COMT\n",
      "  --ci 0.95\n",
      "  --hwe 0.0001\n",
      "  --keep /home/jupyter/COMT_NBA_loop//samplestokeep_AJ.txt\n",
      "  --mac 2\n",
      "  --maf 0.01\n",
      "  --out /home/jupyter/COMT_NBA_loop//AJ_COMT.AllVariants\n",
      "\n",
      "7445 MB RAM detected; reserving 3722 MB for main workspace.\n",
      "245 variants loaded from .bim file.\n",
      "2454 people (1539 males, 915 females) loaded from .fam.\n",
      "1625 phenotype values loaded from .fam.\n",
      "--keep: 2454 people remaining.\n",
      "Using 1 thread (no multithreaded calculations invoked).\n",
      "Before main variant filters, 2454 founders and 0 nonfounders present.\n",
      "Calculating allele frequencies... 10111213141516171819202122232425262728293031323334353637383940414243444546474849505152535455565758596061626364656667686970717273747576777879808182838485868788899091929394959697989 done.\n",
      "Total genotyping rate is 0.999039.\n",
      "--hwe: 0 variants removed due to Hardy-Weinberg exact test.\n",
      "117 variants removed due to minor allele threshold(s)\n",
      "(--maf/--max-maf/--mac/--max-mac).\n",
      "128 variants and 2454 people pass filters and QC.\n",
      "Among remaining phenotypes, 1234 are cases and 391 are controls.  (829\n",
      "phenotypes are missing.)\n",
      "Writing C/C --assoc report to\n",
      "/home/jupyter/COMT_NBA_loop//AJ_COMT.AllVariants.assoc ...\n",
      "done.\n",
      "--adjust: Genomic inflation est. lambda (based on median chisq) = 1.\n",
      "101112131415161718192021222324252627282930313233343536373839404142434445464748495051525354555657585960616263646566676869707172737475767778798081828384858687888990919293949596979899--adjust values (128 variants) written to\n",
      "/home/jupyter/COMT_NBA_loop//AJ_COMT.AllVariants.assoc.adjusted .\n"
     ]
    },
    {
     "name": "stdout",
     "output_type": "stream",
     "text": [
      "PLINK v1.90b6.9 64-bit (4 Mar 2019)            www.cog-genomics.org/plink/1.9/\n",
      "(C) 2005-2019 Shaun Purcell, Christopher Chang   GNU General Public License v3\n",
      "Logging to /home/jupyter/COMT_NBA_loop//AJ_COMT.AllVariants.log.\n",
      "Options in effect:\n",
      "  --bfile /home/jupyter/COMT_NBA_loop//AJ_COMT\n",
      "  --keep /home/jupyter/COMT_NBA_loop//samplestokeep_AJ.txt\n",
      "  --out /home/jupyter/COMT_NBA_loop//AJ_COMT.AllVariants\n",
      "  --recode A\n",
      "\n",
      "7445 MB RAM detected; reserving 3722 MB for main workspace.\n",
      "245 variants loaded from .bim file.\n",
      "2454 people (1539 males, 915 females) loaded from .fam.\n",
      "1625 phenotype values loaded from .fam.\n",
      "--keep: 2454 people remaining.\n",
      "Using 1 thread (no multithreaded calculations invoked).\n",
      "Before main variant filters, 2454 founders and 0 nonfounders present.\n",
      "Calculating allele frequencies... 10111213141516171819202122232425262728293031323334353637383940414243444546474849505152535455565758596061626364656667686970717273747576777879808182838485868788899091929394959697989 done.\n",
      "Total genotyping rate is 0.999039.\n",
      "245 variants and 2454 people pass filters and QC.\n",
      "Among remaining phenotypes, 1234 are cases and 391 are controls.  (829\n",
      "phenotypes are missing.)\n",
      "--recode A to /home/jupyter/COMT_NBA_loop//AJ_COMT.AllVariants.raw ... 101112131415161718192021222324252627282930313233343536373839404142434445464748495051525354555657585960616263646566676869707172737475767778798081828384858687888990919293949596979899done.\n",
      "PLINK v1.90b6.9 64-bit (4 Mar 2019)            www.cog-genomics.org/plink/1.9/\n",
      "(C) 2005-2019 Shaun Purcell, Christopher Chang   GNU General Public License v3\n",
      "Logging to /home/jupyter/COMT_NBA_loop//AMR_COMT.AllVariants.log.\n",
      "Options in effect:\n",
      "  --adjust\n",
      "  --allow-no-sex\n",
      "  --assoc\n",
      "  --bfile /home/jupyter/COMT_NBA_loop//AMR_COMT\n",
      "  --ci 0.95\n",
      "  --hwe 0.0001\n",
      "  --keep /home/jupyter/COMT_NBA_loop//samplestokeep_AMR.txt\n",
      "  --mac 2\n",
      "  --maf 0.01\n",
      "  --out /home/jupyter/COMT_NBA_loop//AMR_COMT.AllVariants\n",
      "\n",
      "7445 MB RAM detected; reserving 3722 MB for main workspace.\n",
      "249 variants loaded from .bim file.\n",
      "609 people (341 males, 268 females) loaded from .fam.\n",
      "577 phenotype values loaded from .fam.\n",
      "--keep: 609 people remaining.\n",
      "Using 1 thread (no multithreaded calculations invoked).\n",
      "Before main variant filters, 609 founders and 0 nonfounders present.\n",
      "Calculating allele frequencies... 10111213141516171819202122232425262728293031323334353637383940414243444546474849505152535455565758596061626364656667686970717273747576777879808182838485868788899091929394959697989 done.\n",
      "Total genotyping rate is 0.99516.\n",
      "--hwe: 0 variants removed due to Hardy-Weinberg exact test.\n",
      "125 variants removed due to minor allele threshold(s)\n",
      "(--maf/--max-maf/--mac/--max-mac).\n",
      "124 variants and 609 people pass filters and QC.\n",
      "Among remaining phenotypes, 427 are cases and 150 are controls.  (32 phenotypes\n",
      "are missing.)\n",
      "Writing C/C --assoc report to\n",
      "/home/jupyter/COMT_NBA_loop//AMR_COMT.AllVariants.assoc ...\n",
      "done.\n",
      "--adjust: Genomic inflation est. lambda (based on median chisq) = 1.93543.\n",
      "101112131415161718192021222324252627282930313233343536373839404142434445464748495051525354555657585960616263646566676869707172737475767778798081828384858687888990919293949596979899--adjust values (124 variants) written to\n",
      "/home/jupyter/COMT_NBA_loop//AMR_COMT.AllVariants.assoc.adjusted .\n",
      "PLINK v1.90b6.9 64-bit (4 Mar 2019)            www.cog-genomics.org/plink/1.9/\n",
      "(C) 2005-2019 Shaun Purcell, Christopher Chang   GNU General Public License v3\n",
      "Logging to /home/jupyter/COMT_NBA_loop//AMR_COMT.AllVariants.log.\n",
      "Options in effect:\n",
      "  --bfile /home/jupyter/COMT_NBA_loop//AMR_COMT\n",
      "  --keep /home/jupyter/COMT_NBA_loop//samplestokeep_AMR.txt\n",
      "  --out /home/jupyter/COMT_NBA_loop//AMR_COMT.AllVariants\n",
      "  --recode A\n",
      "\n",
      "7445 MB RAM detected; reserving 3722 MB for main workspace.\n",
      "249 variants loaded from .bim file.\n",
      "609 people (341 males, 268 females) loaded from .fam.\n",
      "577 phenotype values loaded from .fam.\n",
      "--keep: 609 people remaining.\n",
      "Using 1 thread (no multithreaded calculations invoked).\n",
      "Before main variant filters, 609 founders and 0 nonfounders present.\n",
      "Calculating allele frequencies... 10111213141516171819202122232425262728293031323334353637383940414243444546474849505152535455565758596061626364656667686970717273747576777879808182838485868788899091929394959697989 done.\n",
      "Total genotyping rate is 0.99516.\n",
      "249 variants and 609 people pass filters and QC.\n",
      "Among remaining phenotypes, 427 are cases and 150 are controls.  (32 phenotypes\n",
      "are missing.)\n",
      "--recode A to /home/jupyter/COMT_NBA_loop//AMR_COMT.AllVariants.raw ... 101112131415161718192021222324252627282930313233343536373839404142434445464748495051525354555657585960616263646566676869707172737475767778798081828384858687888990919293949596979899done.\n",
      "PLINK v1.90b6.9 64-bit (4 Mar 2019)            www.cog-genomics.org/plink/1.9/\n",
      "(C) 2005-2019 Shaun Purcell, Christopher Chang   GNU General Public License v3\n",
      "Logging to /home/jupyter/COMT_NBA_loop//CAS_COMT.AllVariants.log.\n",
      "Options in effect:\n",
      "  --adjust\n",
      "  --allow-no-sex\n",
      "  --assoc\n",
      "  --bfile /home/jupyter/COMT_NBA_loop//CAS_COMT\n",
      "  --ci 0.95\n",
      "  --hwe 0.0001\n",
      "  --keep /home/jupyter/COMT_NBA_loop//samplestokeep_CAS.txt\n",
      "  --mac 2\n",
      "  --maf 0.01\n",
      "  --out /home/jupyter/COMT_NBA_loop//CAS_COMT.AllVariants\n",
      "\n",
      "7445 MB RAM detected; reserving 3722 MB for main workspace.\n",
      "229 variants loaded from .bim file.\n",
      "831 people (392 males, 439 females) loaded from .fam.\n",
      "825 phenotype values loaded from .fam.\n",
      "--keep: 831 people remaining.\n",
      "Using 1 thread (no multithreaded calculations invoked).\n",
      "Before main variant filters, 831 founders and 0 nonfounders present.\n",
      "Calculating allele frequencies... 10111213141516171819202122232425262728293031323334353637383940414243444546474849505152535455565758596061626364656667686970717273747576777879808182838485868788899091929394959697989 done.\n",
      "Total genotyping rate is 0.988455.\n",
      "Warning: --hwe observation counts vary by more than 10%.  Consider using\n",
      "--geno, and/or applying different p-value thresholds to distinct subsets of\n",
      "your data.\n",
      "--hwe: 0 variants removed due to Hardy-Weinberg exact test.\n",
      "108 variants removed due to minor allele threshold(s)\n",
      "(--maf/--max-maf/--mac/--max-mac).\n",
      "121 variants and 831 people pass filters and QC.\n",
      "Among remaining phenotypes, 519 are cases and 306 are controls.  (6 phenotypes\n",
      "are missing.)\n",
      "Writing C/C --assoc report to\n",
      "/home/jupyter/COMT_NBA_loop//CAS_COMT.AllVariants.assoc ...\n",
      "done.\n",
      "--adjust: Genomic inflation est. lambda (based on median chisq) = 3.07418.\n",
      "101112131415161718192021222324252627282930313233343536373839404142434445464748495051525354555657585960616263646566676869707172737475767778798081828384858687888990919293949596979899--adjust values (121 variants) written to\n",
      "/home/jupyter/COMT_NBA_loop//CAS_COMT.AllVariants.assoc.adjusted .\n",
      "PLINK v1.90b6.9 64-bit (4 Mar 2019)            www.cog-genomics.org/plink/1.9/\n",
      "(C) 2005-2019 Shaun Purcell, Christopher Chang   GNU General Public License v3\n",
      "Logging to /home/jupyter/COMT_NBA_loop//CAS_COMT.AllVariants.log.\n",
      "Options in effect:\n",
      "  --bfile /home/jupyter/COMT_NBA_loop//CAS_COMT\n",
      "  --keep /home/jupyter/COMT_NBA_loop//samplestokeep_CAS.txt\n",
      "  --out /home/jupyter/COMT_NBA_loop//CAS_COMT.AllVariants\n",
      "  --recode A\n",
      "\n",
      "7445 MB RAM detected; reserving 3722 MB for main workspace.\n",
      "229 variants loaded from .bim file.\n",
      "831 people (392 males, 439 females) loaded from .fam.\n",
      "825 phenotype values loaded from .fam.\n",
      "--keep: 831 people remaining.\n",
      "Using 1 thread (no multithreaded calculations invoked).\n",
      "Before main variant filters, 831 founders and 0 nonfounders present.\n",
      "Calculating allele frequencies... 10111213141516171819202122232425262728293031323334353637383940414243444546474849505152535455565758596061626364656667686970717273747576777879808182838485868788899091929394959697989 done.\n",
      "Total genotyping rate is 0.988455.\n",
      "229 variants and 831 people pass filters and QC.\n",
      "Among remaining phenotypes, 519 are cases and 306 are controls.  (6 phenotypes\n",
      "are missing.)\n",
      "--recode A to /home/jupyter/COMT_NBA_loop//CAS_COMT.AllVariants.raw ... 101112131415161718192021222324252627282930313233343536373839404142434445464748495051525354555657585960616263646566676869707172737475767778798081828384858687888990919293949596979899done.\n",
      "PLINK v1.90b6.9 64-bit (4 Mar 2019)            www.cog-genomics.org/plink/1.9/\n",
      "(C) 2005-2019 Shaun Purcell, Christopher Chang   GNU General Public License v3\n",
      "Logging to /home/jupyter/COMT_NBA_loop//EAS_COMT.AllVariants.log.\n",
      "Options in effect:\n",
      "  --adjust\n",
      "  --allow-no-sex\n",
      "  --assoc\n",
      "  --bfile /home/jupyter/COMT_NBA_loop//EAS_COMT\n",
      "  --ci 0.95\n",
      "  --hwe 0.0001\n",
      "  --keep /home/jupyter/COMT_NBA_loop//samplestokeep_EAS.txt\n",
      "  --mac 2\n",
      "  --maf 0.01\n",
      "  --out /home/jupyter/COMT_NBA_loop//EAS_COMT.AllVariants\n",
      "\n",
      "7445 MB RAM detected; reserving 3722 MB for main workspace.\n",
      "420 variants loaded from .bim file.\n",
      "4932 people (3128 males, 1804 females) loaded from .fam.\n",
      "4892 phenotype values loaded from .fam.\n",
      "--keep: 4932 people remaining.\n",
      "Using 1 thread (no multithreaded calculations invoked).\n",
      "Before main variant filters, 4932 founders and 0 nonfounders present.\n",
      "Calculating allele frequencies... 10111213141516171819202122232425262728293031323334353637383940414243444546474849505152535455565758596061626364656667686970717273747576777879808182838485868788899091929394959697989 done.\n",
      "Total genotyping rate is 0.988089.\n",
      "Warning: --hwe observation counts vary by more than 10%.  Consider using\n",
      "--geno, and/or applying different p-value thresholds to distinct subsets of\n",
      "your data.\n",
      "--hwe: 0 variants removed due to Hardy-Weinberg exact test.\n",
      "305 variants removed due to minor allele threshold(s)\n",
      "(--maf/--max-maf/--mac/--max-mac).\n",
      "115 variants and 4932 people pass filters and QC.\n",
      "Among remaining phenotypes, 2547 are cases and 2345 are controls.  (40\n",
      "phenotypes are missing.)\n",
      "Writing C/C --assoc report to\n",
      "/home/jupyter/COMT_NBA_loop//EAS_COMT.AllVariants.assoc ...\n",
      "done.\n",
      "--adjust: Genomic inflation est. lambda (based on median chisq) = 7.01227.\n",
      "101112131415161718192021222324252627282930313233343536373839404142434445464748495051525354555657585960616263646566676869707172737475767778798081828384858687888990919293949596979899--adjust values (115 variants) written to\n",
      "/home/jupyter/COMT_NBA_loop//EAS_COMT.AllVariants.assoc.adjusted .\n"
     ]
    },
    {
     "name": "stdout",
     "output_type": "stream",
     "text": [
      "PLINK v1.90b6.9 64-bit (4 Mar 2019)            www.cog-genomics.org/plink/1.9/\n",
      "(C) 2005-2019 Shaun Purcell, Christopher Chang   GNU General Public License v3\n",
      "Logging to /home/jupyter/COMT_NBA_loop//EAS_COMT.AllVariants.log.\n",
      "Options in effect:\n",
      "  --bfile /home/jupyter/COMT_NBA_loop//EAS_COMT\n",
      "  --keep /home/jupyter/COMT_NBA_loop//samplestokeep_EAS.txt\n",
      "  --out /home/jupyter/COMT_NBA_loop//EAS_COMT.AllVariants\n",
      "  --recode A\n",
      "\n",
      "7445 MB RAM detected; reserving 3722 MB for main workspace.\n",
      "420 variants loaded from .bim file.\n",
      "4932 people (3128 males, 1804 females) loaded from .fam.\n",
      "4892 phenotype values loaded from .fam.\n",
      "--keep: 4932 people remaining.\n",
      "Using 1 thread (no multithreaded calculations invoked).\n",
      "Before main variant filters, 4932 founders and 0 nonfounders present.\n",
      "Calculating allele frequencies... 10111213141516171819202122232425262728293031323334353637383940414243444546474849505152535455565758596061626364656667686970717273747576777879808182838485868788899091929394959697989 done.\n",
      "Total genotyping rate is 0.988089.\n",
      "420 variants and 4932 people pass filters and QC.\n",
      "Among remaining phenotypes, 2547 are cases and 2345 are controls.  (40\n",
      "phenotypes are missing.)\n",
      "--recode A to /home/jupyter/COMT_NBA_loop//EAS_COMT.AllVariants.raw ... 101112131415161718192021222324252627282930313233343536373839404142434445464748495051525354555657585960616263646566676869707172737475767778798081828384858687888990919293949596979899done.\n",
      "PLINK v1.90b6.9 64-bit (4 Mar 2019)            www.cog-genomics.org/plink/1.9/\n",
      "(C) 2005-2019 Shaun Purcell, Christopher Chang   GNU General Public License v3\n",
      "Logging to /home/jupyter/COMT_NBA_loop//EUR_COMT.AllVariants.log.\n",
      "Options in effect:\n",
      "  --adjust\n",
      "  --allow-no-sex\n",
      "  --assoc\n",
      "  --bfile /home/jupyter/COMT_NBA_loop//EUR_COMT\n",
      "  --ci 0.95\n",
      "  --hwe 0.0001\n",
      "  --keep /home/jupyter/COMT_NBA_loop//samplestokeep_EUR.txt\n",
      "  --mac 2\n",
      "  --maf 0.01\n",
      "  --out /home/jupyter/COMT_NBA_loop//EUR_COMT.AllVariants\n",
      "\n",
      "7445 MB RAM detected; reserving 3722 MB for main workspace.\n",
      "994 variants loaded from .bim file.\n",
      "25309 people (15423 males, 9886 females) loaded from .fam.\n",
      "18225 phenotype values loaded from .fam.\n",
      "--keep: 25309 people remaining.\n",
      "Using 1 thread (no multithreaded calculations invoked).\n",
      "Before main variant filters, 25309 founders and 0 nonfounders present.\n",
      "Calculating allele frequencies... 10111213141516171819202122232425262728293031323334353637383940414243444546474849505152535455565758596061626364656667686970717273747576777879808182838485868788899091929394959697989 done.\n",
      "Total genotyping rate is 0.933442.\n",
      "Warning: --hwe observation counts vary by more than 10%.  Consider using\n",
      "--geno, and/or applying different p-value thresholds to distinct subsets of\n",
      "your data.\n",
      "--hwe: 0 variants removed due to Hardy-Weinberg exact test.\n",
      "877 variants removed due to minor allele threshold(s)\n",
      "(--maf/--max-maf/--mac/--max-mac).\n",
      "117 variants and 25309 people pass filters and QC.\n",
      "Among remaining phenotypes, 13034 are cases and 5191 are controls.  (7084\n",
      "phenotypes are missing.)\n",
      "Writing C/C --assoc report to\n",
      "/home/jupyter/COMT_NBA_loop//EUR_COMT.AllVariants.assoc ...\n",
      "done.\n",
      "--adjust: Genomic inflation est. lambda (based on median chisq) = 1.29886.\n",
      "101112131415161718192021222324252627282930313233343536373839404142434445464748495051525354555657585960616263646566676869707172737475767778798081828384858687888990919293949596979899--adjust values (117 variants) written to\n",
      "/home/jupyter/COMT_NBA_loop//EUR_COMT.AllVariants.assoc.adjusted .\n",
      "PLINK v1.90b6.9 64-bit (4 Mar 2019)            www.cog-genomics.org/plink/1.9/\n",
      "(C) 2005-2019 Shaun Purcell, Christopher Chang   GNU General Public License v3\n",
      "Logging to /home/jupyter/COMT_NBA_loop//EUR_COMT.AllVariants.log.\n",
      "Options in effect:\n",
      "  --bfile /home/jupyter/COMT_NBA_loop//EUR_COMT\n",
      "  --keep /home/jupyter/COMT_NBA_loop//samplestokeep_EUR.txt\n",
      "  --out /home/jupyter/COMT_NBA_loop//EUR_COMT.AllVariants\n",
      "  --recode A\n",
      "\n",
      "7445 MB RAM detected; reserving 3722 MB for main workspace.\n",
      "994 variants loaded from .bim file.\n",
      "25309 people (15423 males, 9886 females) loaded from .fam.\n",
      "18225 phenotype values loaded from .fam.\n",
      "--keep: 25309 people remaining.\n",
      "Using 1 thread (no multithreaded calculations invoked).\n",
      "Before main variant filters, 25309 founders and 0 nonfounders present.\n",
      "Calculating allele frequencies... 10111213141516171819202122232425262728293031323334353637383940414243444546474849505152535455565758596061626364656667686970717273747576777879808182838485868788899091929394959697989 done.\n",
      "Total genotyping rate is 0.933442.\n",
      "994 variants and 25309 people pass filters and QC.\n",
      "Among remaining phenotypes, 13034 are cases and 5191 are controls.  (7084\n",
      "phenotypes are missing.)\n",
      "--recode A to /home/jupyter/COMT_NBA_loop//EUR_COMT.AllVariants.raw ... 101112131415161718192021222324252627282930313233343536373839404142434445464748495051525354555657585960616263646566676869707172737475767778798081828384858687888990919293949596979899done.\n",
      "PLINK v1.90b6.9 64-bit (4 Mar 2019)            www.cog-genomics.org/plink/1.9/\n",
      "(C) 2005-2019 Shaun Purcell, Christopher Chang   GNU General Public License v3\n",
      "Logging to /home/jupyter/COMT_NBA_loop//MDE_COMT.AllVariants.log.\n",
      "Options in effect:\n",
      "  --adjust\n",
      "  --allow-no-sex\n",
      "  --assoc\n",
      "  --bfile /home/jupyter/COMT_NBA_loop//MDE_COMT\n",
      "  --ci 0.95\n",
      "  --hwe 0.0001\n",
      "  --keep /home/jupyter/COMT_NBA_loop//samplestokeep_MDE.txt\n",
      "  --mac 2\n",
      "  --maf 0.01\n",
      "  --out /home/jupyter/COMT_NBA_loop//MDE_COMT.AllVariants\n",
      "\n",
      "7445 MB RAM detected; reserving 3722 MB for main workspace.\n",
      "203 variants loaded from .bim file.\n",
      "457 people (291 males, 166 females) loaded from .fam.\n",
      "426 phenotype values loaded from .fam.\n",
      "--keep: 457 people remaining.\n",
      "Using 1 thread (no multithreaded calculations invoked).\n",
      "Before main variant filters, 457 founders and 0 nonfounders present.\n",
      "Calculating allele frequencies... 10111213141516171819202122232425262728293031323334353637383940414243444546474849505152535455565758596061626364656667686970717273747576777879808182838485868788899091929394959697989 done.\n",
      "Total genotyping rate is 0.985276.\n",
      "Warning: --hwe observation counts vary by more than 10%.  Consider using\n",
      "--geno, and/or applying different p-value thresholds to distinct subsets of\n",
      "your data.\n",
      "--hwe: 0 variants removed due to Hardy-Weinberg exact test.\n",
      "90 variants removed due to minor allele threshold(s)\n",
      "(--maf/--max-maf/--mac/--max-mac).\n",
      "113 variants and 457 people pass filters and QC.\n",
      "Among remaining phenotypes, 230 are cases and 196 are controls.  (31 phenotypes\n",
      "are missing.)\n",
      "Writing C/C --assoc report to\n",
      "/home/jupyter/COMT_NBA_loop//MDE_COMT.AllVariants.assoc ...\n",
      "done.\n",
      "--adjust: Genomic inflation est. lambda (based on median chisq) = 4.97716.\n",
      "101112131415161718192021222324252627282930313233343536373839404142434445464748495051525354555657585960616263646566676869707172737475767778798081828384858687888990919293949596979899--adjust values (113 variants) written to\n",
      "/home/jupyter/COMT_NBA_loop//MDE_COMT.AllVariants.assoc.adjusted .\n",
      "PLINK v1.90b6.9 64-bit (4 Mar 2019)            www.cog-genomics.org/plink/1.9/\n",
      "(C) 2005-2019 Shaun Purcell, Christopher Chang   GNU General Public License v3\n",
      "Logging to /home/jupyter/COMT_NBA_loop//MDE_COMT.AllVariants.log.\n",
      "Options in effect:\n",
      "  --bfile /home/jupyter/COMT_NBA_loop//MDE_COMT\n",
      "  --keep /home/jupyter/COMT_NBA_loop//samplestokeep_MDE.txt\n",
      "  --out /home/jupyter/COMT_NBA_loop//MDE_COMT.AllVariants\n",
      "  --recode A\n",
      "\n",
      "7445 MB RAM detected; reserving 3722 MB for main workspace.\n",
      "203 variants loaded from .bim file.\n",
      "457 people (291 males, 166 females) loaded from .fam.\n",
      "426 phenotype values loaded from .fam.\n",
      "--keep: 457 people remaining.\n",
      "Using 1 thread (no multithreaded calculations invoked).\n",
      "Before main variant filters, 457 founders and 0 nonfounders present.\n",
      "Calculating allele frequencies... 10111213141516171819202122232425262728293031323334353637383940414243444546474849505152535455565758596061626364656667686970717273747576777879808182838485868788899091929394959697989 done.\n",
      "Total genotyping rate is 0.985276.\n",
      "203 variants and 457 people pass filters and QC.\n",
      "Among remaining phenotypes, 230 are cases and 196 are controls.  (31 phenotypes\n",
      "are missing.)\n",
      "--recode A to /home/jupyter/COMT_NBA_loop//MDE_COMT.AllVariants.raw ... 101112131415161718192021222324252627282930313233343536373839404142434445464748495051525354555657585960616263646566676869707172737475767778798081828384858687888990919293949596979899done.\n"
     ]
    },
    {
     "name": "stdout",
     "output_type": "stream",
     "text": [
      "PLINK v1.90b6.9 64-bit (4 Mar 2019)            www.cog-genomics.org/plink/1.9/\n",
      "(C) 2005-2019 Shaun Purcell, Christopher Chang   GNU General Public License v3\n",
      "Logging to /home/jupyter/COMT_NBA_loop//SAS_COMT.AllVariants.log.\n",
      "Options in effect:\n",
      "  --adjust\n",
      "  --allow-no-sex\n",
      "  --assoc\n",
      "  --bfile /home/jupyter/COMT_NBA_loop//SAS_COMT\n",
      "  --ci 0.95\n",
      "  --hwe 0.0001\n",
      "  --keep /home/jupyter/COMT_NBA_loop//samplestokeep_SAS.txt\n",
      "  --mac 2\n",
      "  --maf 0.01\n",
      "  --out /home/jupyter/COMT_NBA_loop//SAS_COMT.AllVariants\n",
      "\n",
      "7445 MB RAM detected; reserving 3722 MB for main workspace.\n",
      "203 variants loaded from .bim file.\n",
      "539 people (351 males, 188 females) loaded from .fam.\n",
      "517 phenotype values loaded from .fam.\n",
      "--keep: 539 people remaining.\n",
      "Using 1 thread (no multithreaded calculations invoked).\n",
      "Before main variant filters, 539 founders and 0 nonfounders present.\n",
      "Calculating allele frequencies... 10111213141516171819202122232425262728293031323334353637383940414243444546474849505152535455565758596061626364656667686970717273747576777879808182838485868788899091929394959697989 done.\n",
      "Total genotyping rate is 0.988366.\n",
      "Warning: --hwe observation counts vary by more than 10%.  Consider using\n",
      "--geno, and/or applying different p-value thresholds to distinct subsets of\n",
      "your data.\n",
      "--hwe: 0 variants removed due to Hardy-Weinberg exact test.\n",
      "83 variants removed due to minor allele threshold(s)\n",
      "(--maf/--max-maf/--mac/--max-mac).\n",
      "120 variants and 539 people pass filters and QC.\n",
      "Among remaining phenotypes, 319 are cases and 198 are controls.  (22 phenotypes\n",
      "are missing.)\n",
      "Writing C/C --assoc report to\n",
      "/home/jupyter/COMT_NBA_loop//SAS_COMT.AllVariants.assoc ...\n",
      "done.\n",
      "--adjust: Genomic inflation est. lambda (based on median chisq) = 1.10717.\n",
      "101112131415161718192021222324252627282930313233343536373839404142434445464748495051525354555657585960616263646566676869707172737475767778798081828384858687888990919293949596979899--adjust values (120 variants) written to\n",
      "/home/jupyter/COMT_NBA_loop//SAS_COMT.AllVariants.assoc.adjusted .\n",
      "PLINK v1.90b6.9 64-bit (4 Mar 2019)            www.cog-genomics.org/plink/1.9/\n",
      "(C) 2005-2019 Shaun Purcell, Christopher Chang   GNU General Public License v3\n",
      "Logging to /home/jupyter/COMT_NBA_loop//SAS_COMT.AllVariants.log.\n",
      "Options in effect:\n",
      "  --bfile /home/jupyter/COMT_NBA_loop//SAS_COMT\n",
      "  --keep /home/jupyter/COMT_NBA_loop//samplestokeep_SAS.txt\n",
      "  --out /home/jupyter/COMT_NBA_loop//SAS_COMT.AllVariants\n",
      "  --recode A\n",
      "\n",
      "7445 MB RAM detected; reserving 3722 MB for main workspace.\n",
      "203 variants loaded from .bim file.\n",
      "539 people (351 males, 188 females) loaded from .fam.\n",
      "517 phenotype values loaded from .fam.\n",
      "--keep: 539 people remaining.\n",
      "Using 1 thread (no multithreaded calculations invoked).\n",
      "Before main variant filters, 539 founders and 0 nonfounders present.\n",
      "Calculating allele frequencies... 10111213141516171819202122232425262728293031323334353637383940414243444546474849505152535455565758596061626364656667686970717273747576777879808182838485868788899091929394959697989 done.\n",
      "Total genotyping rate is 0.988366.\n",
      "203 variants and 539 people pass filters and QC.\n",
      "Among remaining phenotypes, 319 are cases and 198 are controls.  (22 phenotypes\n",
      "are missing.)\n",
      "--recode A to /home/jupyter/COMT_NBA_loop//SAS_COMT.AllVariants.raw ... 101112131415161718192021222324252627282930313233343536373839404142434445464748495051525354555657585960616263646566676869707172737475767778798081828384858687888990919293949596979899done.\n",
      "PLINK v1.90b6.9 64-bit (4 Mar 2019)            www.cog-genomics.org/plink/1.9/\n",
      "(C) 2005-2019 Shaun Purcell, Christopher Chang   GNU General Public License v3\n",
      "Logging to /home/jupyter/COMT_NBA_loop//CAH_COMT.AllVariants.log.\n",
      "Options in effect:\n",
      "  --adjust\n",
      "  --allow-no-sex\n",
      "  --assoc\n",
      "  --bfile /home/jupyter/COMT_NBA_loop//CAH_COMT\n",
      "  --ci 0.95\n",
      "  --hwe 0.0001\n",
      "  --keep /home/jupyter/COMT_NBA_loop//samplestokeep_CAH.txt\n",
      "  --mac 2\n",
      "  --maf 0.01\n",
      "  --out /home/jupyter/COMT_NBA_loop//CAH_COMT.AllVariants\n",
      "\n",
      "7445 MB RAM detected; reserving 3722 MB for main workspace.\n",
      "366 variants loaded from .bim file.\n",
      "800 people (422 males, 378 females) loaded from .fam.\n",
      "777 phenotype values loaded from .fam.\n",
      "--keep: 800 people remaining.\n",
      "Using 1 thread (no multithreaded calculations invoked).\n",
      "Before main variant filters, 800 founders and 0 nonfounders present.\n",
      "Calculating allele frequencies... 10111213141516171819202122232425262728293031323334353637383940414243444546474849505152535455565758596061626364656667686970717273747576777879808182838485868788899091929394959697989 done.\n",
      "Total genotyping rate is 0.994805.\n",
      "--hwe: 0 variants removed due to Hardy-Weinberg exact test.\n",
      "208 variants removed due to minor allele threshold(s)\n",
      "(--maf/--max-maf/--mac/--max-mac).\n",
      "158 variants and 800 people pass filters and QC.\n",
      "Among remaining phenotypes, 494 are cases and 283 are controls.  (23 phenotypes\n",
      "are missing.)\n",
      "Writing C/C --assoc report to\n",
      "/home/jupyter/COMT_NBA_loop//CAH_COMT.AllVariants.assoc ...\n",
      "done.\n",
      "--adjust: Genomic inflation est. lambda (based on median chisq) = 1.47756.\n",
      "101112131415161718192021222324252627282930313233343536373839404142434445464748495051525354555657585960616263646566676869707172737475767778798081828384858687888990919293949596979899--adjust values (158 variants) written to\n",
      "/home/jupyter/COMT_NBA_loop//CAH_COMT.AllVariants.assoc.adjusted .\n",
      "PLINK v1.90b6.9 64-bit (4 Mar 2019)            www.cog-genomics.org/plink/1.9/\n",
      "(C) 2005-2019 Shaun Purcell, Christopher Chang   GNU General Public License v3\n",
      "Logging to /home/jupyter/COMT_NBA_loop//CAH_COMT.AllVariants.log.\n",
      "Options in effect:\n",
      "  --bfile /home/jupyter/COMT_NBA_loop//CAH_COMT\n",
      "  --keep /home/jupyter/COMT_NBA_loop//samplestokeep_CAH.txt\n",
      "  --out /home/jupyter/COMT_NBA_loop//CAH_COMT.AllVariants\n",
      "  --recode A\n",
      "\n",
      "7445 MB RAM detected; reserving 3722 MB for main workspace.\n",
      "366 variants loaded from .bim file.\n",
      "800 people (422 males, 378 females) loaded from .fam.\n",
      "777 phenotype values loaded from .fam.\n",
      "--keep: 800 people remaining.\n",
      "Using 1 thread (no multithreaded calculations invoked).\n",
      "Before main variant filters, 800 founders and 0 nonfounders present.\n",
      "Calculating allele frequencies... 10111213141516171819202122232425262728293031323334353637383940414243444546474849505152535455565758596061626364656667686970717273747576777879808182838485868788899091929394959697989 done.\n",
      "Total genotyping rate is 0.994805.\n",
      "366 variants and 800 people pass filters and QC.\n",
      "Among remaining phenotypes, 494 are cases and 283 are controls.  (23 phenotypes\n",
      "are missing.)\n",
      "--recode A to /home/jupyter/COMT_NBA_loop//CAH_COMT.AllVariants.raw ... 101112131415161718192021222324252627282930313233343536373839404142434445464748495051525354555657585960616263646566676869707172737475767778798081828384858687888990919293949596979899done.\n"
     ]
    }
   ],
   "source": [
    "#Run case-control analysis using plink assoc for ALL variants, not adjusting for any covariates\n",
    "ancestries = ['AAC', 'AFR', 'AJ', 'AMR', 'CAS', 'EAS', 'EUR', 'MDE', 'SAS', 'CAH']\n",
    "\n",
    "for ancestry in ancestries:\n",
    "\n",
    "    \n",
    "    ! /home/jupyter/plink1.9 \\\n",
    "    --bfile {WORK_DIR}/{ancestry}_COMT \\\n",
    "    --keep {WORK_DIR}/samplestokeep_{ancestry}.txt \\\n",
    "    --assoc \\\n",
    "    --maf 0.01 \\\n",
    "    --mac 2 \\\n",
    "    --hwe 0.0001 \\\n",
    "    --adjust \\\n",
    "    --allow-no-sex \\\n",
    "    --ci 0.95 \\\n",
    "    --out {WORK_DIR}/{ancestry}_COMT.AllVariants\n",
    "\n",
    "    #--recode A creates a new text fileset, showing each variant in each case and control for the minor allele (A).\n",
    "    ! /home/jupyter/plink1.9 \\\n",
    "    --bfile {WORK_DIR}/{ancestry}_COMT \\\n",
    "    --keep {WORK_DIR}/samplestokeep_{ancestry}.txt \\\n",
    "    --recode A \\\n",
    "    --out {WORK_DIR}/{ancestry}_COMT.AllVariants\n"
   ]
  },
  {
   "cell_type": "markdown",
   "metadata": {
    "hidden": true
   },
   "source": [
    "### glm"
   ]
  },
  {
   "cell_type": "code",
   "execution_count": 120,
   "metadata": {
    "hidden": true
   },
   "outputs": [
    {
     "name": "stdout",
     "output_type": "stream",
     "text": [
      "PLINK v2.0.0-a.6.9LM 64-bit Intel (29 Jan 2025)    cog-genomics.org/plink/2.0/\n",
      "(C) 2005-2025 Shaun Purcell, Christopher Chang   GNU General Public License v3\n",
      "Logging to /home/jupyter/COMT_NBA_loop//EUR_COMT.AllVariants_a0ref.log.\n",
      "Options in effect:\n",
      "  --adjust\n",
      "  --bfile /home/jupyter/COMT_NBA_loop//EUR_COMT\n",
      "  --ci 0.95\n",
      "  --covar /home/jupyter/COMT_NBA_loop//EUR_covariate_file.txt\n",
      "  --covar-name SEX,AGE,PC1,PC2,PC3,PC4,PC5\n",
      "  --covar-variance-standardize\n",
      "  --glm a0-ref\n",
      "  --hwe 0.0001\n",
      "  --keep /home/jupyter/COMT_NBA_loop//samplestokeep_EUR.txt\n",
      "  --mac 2\n",
      "  --maf 0.01\n",
      "  --out /home/jupyter/COMT_NBA_loop//EUR_COMT.AllVariants_a0ref\n",
      "\n",
      "Start time: Fri Mar 14 19:32:05 2025\n",
      "7445 MiB RAM detected, ~5184 available; reserving 3722 MiB for main workspace.\n",
      "Using up to 2 compute threads.\n",
      "25309 samples (9886 females, 15423 males; 25309 founders) loaded from\n",
      "/home/jupyter/COMT_NBA_loop//EUR_COMT.fam.\n",
      "994 variants loaded from /home/jupyter/COMT_NBA_loop//EUR_COMT.bim.\n",
      "1 binary phenotype loaded (13034 cases, 5191 controls).\n",
      "--keep: 25309 samples remaining.\n",
      "7 covariates loaded from /home/jupyter/COMT_NBA_loop//EUR_covariate_file.txt.\n",
      "25309 samples (9886 females, 15423 males; 25309 founders) remaining after main\n",
      "filters.\n",
      "13034 cases and 5191 controls remaining after main filters.\n",
      "--covar-variance-standardize: 7 covariates transformed.\n",
      "Calculating allele frequencies... done.\n",
      "Warning: --hwe filter is suspiciously strict for the sample size; you may be\n",
      "filtering out many variants with association signals.\n",
      "If you are performing routine QC, consider using --hwe with a sample-size term\n",
      "(e.g. \"--hwe 1e-5 0.001\" results in a threshold of 1e-6 with 1000 observations,\n",
      "1e-7 with 2000 observations, etc.), and/or specifying 'keep-fewhet' to remove\n",
      "only variants with heterozygosity excess.\n",
      "Alternatively, if the strictness is intentional (e.g. you are preparing data\n",
      "for a method that requires variants to be near Hardy-Weinberg equilibrium),\n",
      "explicitly specify a sample-size term of 0.\n",
      "This warning will be upgraded to an error in a future build.\n",
      "--hwe: 0 variants removed due to Hardy-Weinberg exact test (founders only).\n",
      "877 variants removed due to allele frequency threshold(s)\n",
      "(--maf/--max-maf/--mac/--max-mac).\n",
      "117 variants remaining after main filters.\n",
      "--glm logistic-Firth hybrid regression on phenotype 'PHENO1': done.\n",
      "Results written to /home/jupyter/COMT_NBA_loop//EUR_COMT.AllVariants_a0ref.PHENO1.glm.logistic.hybrid .\n",
      "--adjust: Genomic inflation est. lambda (based on median chisq) = 1.89459.\n",
      "--adjust values (117 tests) written to\n",
      "/home/jupyter/COMT_NBA_loop//EUR_COMT.AllVariants_a0ref.PHENO1.glm.logistic.hybrid.adjusted\n",
      ".\n",
      "End time: Fri Mar 14 19:32:05 2025\n",
      "PLINK v1.90b6.9 64-bit (4 Mar 2019)            www.cog-genomics.org/plink/1.9/\n",
      "(C) 2005-2019 Shaun Purcell, Christopher Chang   GNU General Public License v3\n",
      "Logging to /home/jupyter/COMT_NBA_loop//EUR_COMT.AllVariants_a0ref.log.\n",
      "Options in effect:\n",
      "  --bfile /home/jupyter/COMT_NBA_loop//EUR_COMT\n",
      "  --keep /home/jupyter/COMT_NBA_loop//samplestokeep_EUR.txt\n",
      "  --out /home/jupyter/COMT_NBA_loop//EUR_COMT.AllVariants_a0ref\n",
      "  --recode A\n",
      "\n",
      "7445 MB RAM detected; reserving 3722 MB for main workspace.\n",
      "994 variants loaded from .bim file.\n",
      "25309 people (15423 males, 9886 females) loaded from .fam.\n",
      "18225 phenotype values loaded from .fam.\n",
      "--keep: 25309 people remaining.\n",
      "Using 1 thread (no multithreaded calculations invoked).\n",
      "Before main variant filters, 25309 founders and 0 nonfounders present.\n",
      "Calculating allele frequencies... 10111213141516171819202122232425262728293031323334353637383940414243444546474849505152535455565758596061626364656667686970717273747576777879808182838485868788899091929394959697989 done.\n",
      "Total genotyping rate is 0.933442.\n",
      "994 variants and 25309 people pass filters and QC.\n",
      "Among remaining phenotypes, 13034 are cases and 5191 are controls.  (7084\n",
      "phenotypes are missing.)\n",
      "--recode A to /home/jupyter/COMT_NBA_loop//EUR_COMT.AllVariants_a0ref.raw ...\n",
      "101112131415161718192021222324252627282930313233343536373839404142434445464748495051525354555657585960616263646566676869707172737475767778798081828384858687888990919293949596979899done.\n"
     ]
    }
   ],
   "source": [
    "#Run case-control analysis for all variants except introns, with covariates\n",
    "#ancestries = ['AAC', 'AFR', 'AJ', 'AMR', 'CAS', 'EAS', 'EUR', 'MDE', 'SAS', 'CAH']\n",
    "\n",
    "# Add a0-ref flag to glm argument on selected ancestries to make sure all the ancestries test the same allele\n",
    "ancestries_a0ref = ['EUR','AJ','MDE','SAS','CAH','CAS']\n",
    "\n",
    "for ancestry in ancestries_a0ref:\n",
    "    \n",
    "    ! /home/jupyter/plink2 \\\n",
    "    --bfile {WORK_DIR}/{ancestry}_COMT \\\n",
    "    --keep {WORK_DIR}/samplestokeep_{ancestry}.txt \\\n",
    "    --glm a0-ref \\\n",
    "    --ci 0.95 \\\n",
    "    --mac 2 \\\n",
    "    --maf 0.01 \\\n",
    "    --hwe 0.0001 \\\n",
    "    --adjust \\\n",
    "    --covar {WORK_DIR}/{ancestry}_covariate_file.txt \\\n",
    "    --covar-name SEX,AGE,PC1,PC2,PC3,PC4,PC5 \\\n",
    "    --covar-variance-standardize \\\n",
    "    --out {WORK_DIR}/{ancestry}_COMT.AllVariants_a0ref # --out {WORK_DIR}/{ancestry}_COMT.AllVariants in case no a0-ref flag is needed\n",
    "    \n",
    "    #--recode A creates a new text fileset, showing each variant in each case and control for the minor allele (A). \n",
    "    ! /home/jupyter/plink1.9 \\\n",
    "    --bfile {WORK_DIR}/{ancestry}_COMT \\\n",
    "    --keep {WORK_DIR}/samplestokeep_{ancestry}.txt \\\n",
    "    --recode A \\\n",
    "    --out {WORK_DIR}/{ancestry}_COMT.AllVariants_a0ref\n",
    "    "
   ]
  },
  {
   "cell_type": "code",
   "execution_count": null,
   "metadata": {
    "hidden": true
   },
   "outputs": [],
   "source": [
    "shell_do(f'gsutil -mu {BILLING_PROJECT_ID} cp -r {WORK_DIR}/EUR_COMT.AllVariants_a0ref.PHENO1.glm.logistic.hybrid {WORKSPACE_BUCKET}/COMT_NBA_loop/GLM_tables/')"
   ]
  },
  {
   "cell_type": "code",
   "execution_count": null,
   "metadata": {
    "hidden": true
   },
   "outputs": [],
   "source": [
    "ancestry_GROUPS = ['AAC', 'AFR', 'AJ', 'CAS', 'EAS', 'EUR', 'SAS','CAH','MDE']\n",
    "\n",
    "for ancestry_GROUP in ancestry_GROUPS:        \n",
    "       shell_do(f'gsutil -mu {BILLING_PROJECT_ID} cp -r {WORK_DIR}/{ancestry_GROUP}_COMT.AllVariants.PHENO1.glm.logistic.hybrid.adjusted {WORKSPACE_BUCKET}/COMT_NBA_loop/GLM_tables/bonf/')"
   ]
  },
  {
   "cell_type": "code",
   "execution_count": 38,
   "metadata": {
    "hidden": true
   },
   "outputs": [],
   "source": [
    "ancestry_GROUPS = ['AAC', 'AFR', 'AJ', 'CAS', 'EAS', 'EUR', 'SAS','CAH','MDE']\n",
    "\n",
    "for ancestry_GROUP in ancestry_GROUPS:        \n",
    "       shell_do(f'gsutil -mu {BILLING_PROJECT_ID} cp -r {WORK_DIR}/{ancestry_GROUP}_COMT.AllVariants_a0ref.PHENO1.glm.logistic.hybrid.adjusted {WORKSPACE_BUCKET}/COMT_NBA_loop/GLM_tables/bonf/')"
   ]
  },
  {
   "cell_type": "code",
   "execution_count": 117,
   "metadata": {
    "hidden": true,
    "scrolled": false
   },
   "outputs": [
    {
     "name": "stdout",
     "output_type": "stream",
     "text": [
      "WORKING ON: AAC\n",
      "There are 9 variants with p-value < 0.05 in glm\n",
      "Number of variants in AAC for COMT: 413\n",
      "df_results shape: (413, 14)\n",
      "Merged dataframe shape: (186, 23)\n",
      "WORKING ON: AFR\n",
      "There are 1 variants with p-value < 0.05 in glm\n",
      "Number of variants in AFR for COMT: 487\n",
      "df_results shape: (487, 14)\n",
      "Merged dataframe shape: (181, 23)\n",
      "WORKING ON: AJ\n",
      "There are 5 variants with p-value < 0.05 in glm\n",
      "Number of variants in AJ for COMT: 245\n",
      "df_results shape: (245, 14)\n",
      "Merged dataframe shape: (128, 23)\n",
      "WORKING ON: AMR\n",
      "There are 13 variants with p-value < 0.05 in glm\n",
      "Number of variants in AMR for COMT: 249\n",
      "df_results shape: (249, 14)\n",
      "Merged dataframe shape: (124, 23)\n",
      "WORKING ON: CAS\n",
      "There are 12 variants with p-value < 0.05 in glm\n",
      "Number of variants in CAS for COMT: 229\n",
      "df_results shape: (229, 14)\n",
      "Merged dataframe shape: (121, 23)\n",
      "WORKING ON: EAS\n",
      "There are 3 variants with p-value < 0.05 in glm\n",
      "Number of variants in EAS for COMT: 420\n",
      "df_results shape: (420, 14)\n",
      "Merged dataframe shape: (115, 23)\n",
      "WORKING ON: EUR\n",
      "There are 9 variants with p-value < 0.05 in glm\n",
      "Number of variants in EUR for COMT: 994\n",
      "df_results shape: (994, 14)\n",
      "Merged dataframe shape: (117, 23)\n",
      "WORKING ON: MDE\n",
      "There are 7 variants with p-value < 0.05 in glm\n",
      "Number of variants in MDE for COMT: 203\n",
      "df_results shape: (203, 14)\n",
      "Merged dataframe shape: (111, 23)\n",
      "WORKING ON: SAS\n",
      "There are 6 variants with p-value < 0.05 in glm\n",
      "Number of variants in SAS for COMT: 203\n",
      "df_results shape: (203, 14)\n",
      "Merged dataframe shape: (120, 23)\n",
      "WORKING ON: CAH\n",
      "There are 6 variants with p-value < 0.05 in glm\n",
      "Number of variants in CAH for COMT: 366\n",
      "df_results shape: (366, 14)\n",
      "Merged dataframe shape: (158, 23)\n"
     ]
    }
   ],
   "source": [
    "#Process results from plink glm analysis for the variants\n",
    "#ancestries = ['AAC', 'AFR', 'AJ', 'AMR', 'CAS', 'EAS', 'EUR', 'MDE', 'SAS', 'CAH']\n",
    "\n",
    "# We process the results in two batches depending on if we have added a0-ref flag or not.\n",
    "ancestries_a0ref = ['EUR','AJ','MDE','SAS','CAH','CAS']\n",
    "\n",
    "\n",
    "for ancestry in ancestries_a0ref: # for ancestry in ancestries:\n",
    "    \n",
    "    print(f'WORKING ON: {ancestry}')\n",
    "    \n",
    "    #Read in glm results\n",
    "    assoc = pd.read_csv(f'{WORK_DIR}/{ancestry}_COMT.AllVariants.PHENO1.glm.logistic.hybrid', delim_whitespace=True) # Change allExceptIntronic for allExceptIntronic_a0ref\n",
    "    assoc_add = assoc[assoc['TEST']==\"ADD\"]\n",
    "    \n",
    "    #Filter for significant variants p < 0.05 - if any\n",
    "    significant = assoc_add[assoc_add['P']<0.05]\n",
    "    print(f'There are {len(significant)} variants with p-value < 0.05 in glm')\n",
    "    \n",
    "    #Read in plink recoded data (.raw file)\n",
    "    recode = pd.read_csv(f'{WORK_DIR}/{ancestry}_COMT.AllVariants.raw', delim_whitespace=True)\n",
    "\n",
    "    # Make a list from the column names\n",
    "    column_names = recode.columns.tolist()\n",
    "\n",
    "    # Drop the first 6 columns to keep the variants \n",
    "    variants = column_names[6:]\n",
    "\n",
    "    print(f'Number of variants in {ancestry} for COMT: {len(variants)}')\n",
    "\n",
    "    # Pre-filter the dataset\n",
    "    cases_data = recode[recode['PHENOTYPE'] == 2]\n",
    "    controls_data = recode[recode['PHENOTYPE'] == 1]\n",
    "\n",
    "    results = []\n",
    "\n",
    "    # Pre-filter the dataset\n",
    "    total_cases = cases_data.shape[0]\n",
    "    total_controls = controls_data.shape[0]\n",
    "    results = []\n",
    "\n",
    "    for variant in variants:\n",
    "        ## For PD cases\n",
    "        hom_cases = (cases_data[variant] == 2).sum()\n",
    "        het_cases = (cases_data[variant] == 1).sum()\n",
    "        hom_ref_cases = (cases_data[variant] == 0).sum()  # Homozygous reference genotype\n",
    "        missing_cases = total_cases - (hom_cases + het_cases + hom_ref_cases)  # Missing data count\n",
    "        freq_cases = (2 * hom_cases + het_cases) / (2 * (total_cases - missing_cases))  # Adjust for missing data in denominator\n",
    "\n",
    "        ## For controls\n",
    "        hom_controls = (controls_data[variant] == 2).sum()\n",
    "        het_controls = (controls_data[variant] == 1).sum()\n",
    "        hom_ref_controls = (controls_data[variant] == 0).sum()  # Homozygous reference genotype\n",
    "        missing_controls = total_controls - (hom_controls + het_controls + hom_ref_controls)  # Missing data count\n",
    "        freq_controls = (2 * hom_controls + het_controls) / (2 * (total_controls - missing_controls))  # Adjust for missing data in denominator\n",
    "    \n",
    "        # Append results in dictionary format\n",
    "        results.append({\n",
    "            'Variant': variant,\n",
    "            'Hom Cases': hom_cases,\n",
    "            'Het Cases': het_cases,\n",
    "            'Hom Ref Cases': hom_ref_cases,\n",
    "            'Missing Cases': missing_cases,\n",
    "            'Total Cases': total_cases,\n",
    "            'Carrier Freq in Cases': freq_cases,\n",
    "            'Hom Controls': hom_controls,\n",
    "            'Het Controls': het_controls,\n",
    "            'Hom Ref Controls': hom_ref_controls,\n",
    "            'Missing Controls': missing_controls,\n",
    "            'Total Controls': total_controls,\n",
    "            'Carrier Freq in Controls': freq_controls\n",
    "        })\n",
    "\n",
    "    # Return\n",
    "    df_results = pd.DataFrame(results)\n",
    "    df_results['ID'] = df_results['Variant'].apply(lambda x: x.rsplit('_', 1)[0])\n",
    "\n",
    "    #Print dimensions of the df_results dataframe\n",
    "    print(f'df_results shape: {df_results.shape}')\n",
    "    \n",
    "    #Merge with the glm file\n",
    "    sig_merge = assoc_add[['ID','A1','A1_FREQ','OBS_CT','OR','LOG(OR)_SE','L95','U95','Z_STAT','P']]\n",
    "    merged = pd.merge(df_results, sig_merge, on='ID', how='right')\n",
    "    \n",
    "    #Print dimensions of the merged dataframe (just adding more columns)\n",
    "    print(f'Merged dataframe shape: {merged.shape}')\n",
    "    ## Save to CSV\n",
    "    merged.to_csv(f'{WORK_DIR}/{ancestry}.AllVariants_glm.txt', sep = '\\t', index=False)"
   ]
  },
  {
   "cell_type": "code",
   "execution_count": null,
   "metadata": {
    "hidden": true
   },
   "outputs": [],
   "source": [
    "ancestry_GROUPS = ['AAC', 'AFR', 'AJ', 'CAS', 'EAS', 'EUR', 'SAS','CAH','MDE']\n",
    "ancestry_GROUPS = ['AMR']\n",
    "\n",
    "for ancestry_GROUP in ancestry_GROUPS:        \n",
    "        shell_do(f'gsutil -mu {BILLING_PROJECT_ID} cp -r {WORK_DIR}/{ancestry_GROUP}.AllVariants_glm.txt {WORKSPACE_BUCKET}/COMT_NBA_loop/GLM_tables/')"
   ]
  },
  {
   "cell_type": "code",
   "execution_count": null,
   "metadata": {
    "hidden": true
   },
   "outputs": [],
   "source": [
    "ancestries_a0ref = ['EUR','AJ','MDE','SAS','CAH','AMR','CAS']\n",
    "\n",
    "for ancestry_GROUP in ancestries_a0ref:        \n",
    "        shell_do(f'gsutil -mu {BILLING_PROJECT_ID} cp -r {WORK_DIR}/{ancestry_GROUP}.AllVariants_a0ref_glm.txt {WORKSPACE_BUCKET}/COMT_NBA_loop/GLM_tables/a0ref/')"
   ]
  },
  {
   "cell_type": "markdown",
   "metadata": {
    "heading_collapsed": true
   },
   "source": [
    "# Clinical Data Analyses"
   ]
  },
  {
   "cell_type": "code",
   "execution_count": null,
   "metadata": {
    "hidden": true
   },
   "outputs": [],
   "source": [
    "# Read clinical data\n",
    "full_clinic = pd.read_csv(f'{WORK_DIR}/extended_clinical_data_release7.csv')"
   ]
  },
  {
   "cell_type": "markdown",
   "metadata": {
    "hidden": true
   },
   "source": [
    "## MOCA"
   ]
  },
  {
   "cell_type": "code",
   "execution_count": 43,
   "metadata": {
    "hidden": true
   },
   "outputs": [
    {
     "data": {
      "text/plain": [
       "(2490, 8)"
      ]
     },
     "execution_count": 43,
     "metadata": {},
     "output_type": "execute_result"
    }
   ],
   "source": [
    "# Create MOCA Dataset\n",
    "moca=full_clinic[['GP2ID','visit_name','visit_month','last_diagnosis','moca_total_score','education_level','education_years','age_at_baseline']]\n",
    "moca = moca.dropna(subset = ['moca_total_score'])\n",
    "moca.shape"
   ]
  },
  {
   "cell_type": "code",
   "execution_count": 44,
   "metadata": {
    "hidden": true
   },
   "outputs": [
    {
     "name": "stdout",
     "output_type": "stream",
     "text": [
      "Clinical data (num rows, num columns): (44281, 26)\n"
     ]
    }
   ],
   "source": [
    "# Let's load the master key\n",
    "FULL_PATH = WORK_DIR + f'master_key_release7_final.csv'\n",
    "key = pd.read_csv(FULL_PATH, low_memory=False)\n",
    "print(f'Clinical data (num rows, num columns): {key.shape}')\n",
    "pd.set_option('display.max_columns', None)\n"
   ]
  },
  {
   "cell_type": "code",
   "execution_count": 45,
   "metadata": {
    "hidden": true
   },
   "outputs": [
    {
     "data": {
      "text/plain": [
       "Index(['GP2ID', 'GP2sampleID', 'study', 'study_arm', 'study_type', 'diagnosis',\n",
       "       'baseline_GP2_phenotype_for_qc', 'baseline_GP2_phenotype',\n",
       "       'biological_sex_for_qc', 'age_at_sample_collection', 'age_of_onset',\n",
       "       'age_at_diagnosis', 'age_at_death', 'age_at_last_follow_up',\n",
       "       'race_for_qc', 'family_history_for_qc', 'region_for_qc', 'manifest_id',\n",
       "       'Genotyping_site', 'sample_type', 'GDPR', 'monogenic', 'label',\n",
       "       'pruned', 'pruned_reason', 'related'],\n",
       "      dtype='object')"
      ]
     },
     "execution_count": 45,
     "metadata": {},
     "output_type": "execute_result"
    }
   ],
   "source": [
    "key.columns"
   ]
  },
  {
   "cell_type": "code",
   "execution_count": 46,
   "metadata": {
    "hidden": true
   },
   "outputs": [],
   "source": [
    "key = key[['GP2ID','GP2sampleID','label']]\n",
    "key_EUR = key[key['label']=='EUR']\n"
   ]
  },
  {
   "cell_type": "code",
   "execution_count": 47,
   "metadata": {
    "hidden": true
   },
   "outputs": [
    {
     "data": {
      "text/plain": [
       "label\n",
       "EUR    1336\n",
       "Name: count, dtype: int64"
      ]
     },
     "execution_count": 47,
     "metadata": {},
     "output_type": "execute_result"
    }
   ],
   "source": [
    "moca_ancestry = pd.merge(key_EUR,moca,on='GP2ID')\n",
    "moca_ancestry['label'].value_counts()"
   ]
  },
  {
   "cell_type": "code",
   "execution_count": 48,
   "metadata": {
    "hidden": true
   },
   "outputs": [
    {
     "data": {
      "text/plain": [
       "visit_month\n",
       "0.0     1201\n",
       "12.0     112\n",
       "24.0      19\n",
       "36.0       4\n",
       "Name: count, dtype: int64"
      ]
     },
     "execution_count": 48,
     "metadata": {},
     "output_type": "execute_result"
    }
   ],
   "source": [
    "moca_ancestry['visit_month'].value_counts()"
   ]
  },
  {
   "cell_type": "code",
   "execution_count": 49,
   "metadata": {
    "hidden": true
   },
   "outputs": [
    {
     "data": {
      "text/plain": [
       "(1201, 10)"
      ]
     },
     "execution_count": 49,
     "metadata": {},
     "output_type": "execute_result"
    }
   ],
   "source": [
    "moca_ancestry_BL = moca_ancestry[moca_ancestry['visit_month']==0]\n",
    "moca_ancestry_BL.shape\n"
   ]
  },
  {
   "cell_type": "code",
   "execution_count": 50,
   "metadata": {
    "hidden": true,
    "scrolled": true
   },
   "outputs": [],
   "source": [
    "covar = pd.read_csv(f'{WORK_DIR}/EUR_covariate_file.txt',sep=\"\\t\")\n",
    "covar_mocaBL=moca_ancestry_BL.merge(covar,on=\"GP2ID\")\n"
   ]
  },
  {
   "cell_type": "code",
   "execution_count": 51,
   "metadata": {
    "hidden": true
   },
   "outputs": [
    {
     "data": {
      "text/plain": [
       "PHENO\n",
       "2.0    928\n",
       "Name: count, dtype: int64"
      ]
     },
     "execution_count": 51,
     "metadata": {},
     "output_type": "execute_result"
    }
   ],
   "source": [
    "covar_mocaBL=covar_mocaBL[covar_mocaBL['PHENO']==2]\n",
    "covar_mocaBL['PHENO'].value_counts()"
   ]
  },
  {
   "cell_type": "code",
   "execution_count": 52,
   "metadata": {
    "hidden": true
   },
   "outputs": [
    {
     "data": {
      "text/plain": [
       "595"
      ]
     },
     "execution_count": 52,
     "metadata": {},
     "output_type": "execute_result"
    }
   ],
   "source": [
    "covar_mocaBL['education_level'].count()"
   ]
  },
  {
   "cell_type": "code",
   "execution_count": 53,
   "metadata": {
    "hidden": true,
    "scrolled": true
   },
   "outputs": [],
   "source": [
    "covar_mocaBL['education_level'] = covar_mocaBL['education_level'].replace({'NaN': '-9'})\n",
    "covar_mocaBL['education_level'] = covar_mocaBL['education_level'].replace({'High School/GED': '1'})\n",
    "covar_mocaBL['education_level'] = covar_mocaBL['education_level'].replace({'<High School': '1'})\n",
    "covar_mocaBL['education_level'] = covar_mocaBL['education_level'].replace({'Some college without degree': '2'})\n",
    "covar_mocaBL['education_level'] = covar_mocaBL['education_level'].replace({\"Bachelor's degree\": '3'})\n",
    "covar_mocaBL['education_level'] = covar_mocaBL['education_level'].replace({'Professional or doctoral degree': '4'})"
   ]
  },
  {
   "cell_type": "code",
   "execution_count": 54,
   "metadata": {
    "hidden": true
   },
   "outputs": [],
   "source": [
    "covar_mocaBL_final = covar_mocaBL[['FID','IID','FATID','MATID','SEX','PHENO','visit_name','moca_total_score','age_at_baseline','education_level','PC1','PC2','PC3','PC4','PC5']]\n"
   ]
  },
  {
   "cell_type": "code",
   "execution_count": 55,
   "metadata": {
    "hidden": true
   },
   "outputs": [],
   "source": [
    "covar_mocaBL_final = covar_mocaBL_final.drop_duplicates(subset=['IID'])"
   ]
  },
  {
   "cell_type": "code",
   "execution_count": 56,
   "metadata": {
    "hidden": true
   },
   "outputs": [],
   "source": [
    "covar_mocaBL_final.to_csv(f'{WORK_DIR}/Covar_MOCA_BL_EUR.txt',sep=\",\",index=None)"
   ]
  },
  {
   "cell_type": "code",
   "execution_count": 57,
   "metadata": {
    "hidden": true
   },
   "outputs": [
    {
     "name": "stdout",
     "output_type": "stream",
     "text": [
      "PLINK v2.0.0-a.6.9LM 64-bit Intel (29 Jan 2025)    cog-genomics.org/plink/2.0/\n",
      "(C) 2005-2025 Shaun Purcell, Christopher Chang   GNU General Public License v3\n",
      "Logging to /home/jupyter/COMT_NBA_loop//COMT_GP2_EUR_MOCA.log.\n",
      "Options in effect:\n",
      "  --adjust\n",
      "  --bfile /home/jupyter/COMT_NBA_loop//EUR_COMT\n",
      "  --ci 0.95\n",
      "  --covar /home/jupyter/COMT_NBA_loop//Covar_MOCA_BL_EUR.txt\n",
      "  --covar-name SEX,age_at_baseline,PC1,PC2,PC3,PC4,PC5,education_level\n",
      "  --covar-variance-standardize\n",
      "  --glm\n",
      "  --hwe 0.0001\n",
      "  --keep /home/jupyter/COMT_NBA_loop//samplestokeep_EUR.txt\n",
      "  --mac 2\n",
      "  --maf 0.01\n",
      "  --out /home/jupyter/COMT_NBA_loop//COMT_GP2_EUR_MOCA\n",
      "  --pheno /home/jupyter/COMT_NBA_loop//Covar_MOCA_BL_EUR.txt\n",
      "  --pheno-name moca_total_score\n",
      "\n",
      "Start time: Fri Mar 28 16:53:52 2025\n",
      "7445 MiB RAM detected, ~5793 available; reserving 3722 MiB for main workspace.\n",
      "Using up to 2 compute threads.\n",
      "25309 samples (9886 females, 15423 males; 25309 founders) loaded from\n",
      "/home/jupyter/COMT_NBA_loop//EUR_COMT.fam.\n",
      "994 variants loaded from /home/jupyter/COMT_NBA_loop//EUR_COMT.bim.\n",
      "1 quantitative phenotype loaded (927 values).\n",
      "--keep: 25309 samples remaining.\n",
      "8 covariates loaded from /home/jupyter/COMT_NBA_loop//Covar_MOCA_BL_EUR.txt.\n",
      "25309 samples (9886 females, 15423 males; 25309 founders) remaining after main\n",
      "filters.\n",
      "927 quantitative phenotype values remaining after main filters.\n",
      "--covar-variance-standardize: 8 covariates transformed.\n",
      "Calculating allele frequencies... done.\n",
      "Warning: --hwe filter is suspiciously strict for the sample size; you may be\n",
      "filtering out many variants with association signals.\n",
      "If you are performing routine QC, consider using --hwe with a sample-size term\n",
      "(e.g. \"--hwe 1e-5 0.001\" results in a threshold of 1e-6 with 1000 observations,\n",
      "1e-7 with 2000 observations, etc.), and/or specifying 'keep-fewhet' to remove\n",
      "only variants with heterozygosity excess.\n",
      "Alternatively, if the strictness is intentional (e.g. you are preparing data\n",
      "for a method that requires variants to be near Hardy-Weinberg equilibrium),\n",
      "explicitly specify a sample-size term of 0.\n",
      "This warning will be upgraded to an error in a future build.\n",
      "--hwe: 0 variants removed due to Hardy-Weinberg exact test (founders only).\n",
      "877 variants removed due to allele frequency threshold(s)\n",
      "(--maf/--max-maf/--mac/--max-mac).\n",
      "117 variants remaining after main filters.\n",
      "--glm linear regression on phenotype 'moca_total_score': done.\n",
      "Results written to /home/jupyter/COMT_NBA_loop//COMT_GP2_EUR_MOCA.moca_total_score.glm.linear .\n",
      "--adjust: Genomic inflation est. lambda (based on median chisq) = 2.64248.\n",
      "--adjust values (117 tests) written to\n",
      "/home/jupyter/COMT_NBA_loop//COMT_GP2_EUR_MOCA.moca_total_score.glm.linear.adjusted\n",
      ".\n",
      "End time: Fri Mar 28 16:53:52 2025\n"
     ]
    }
   ],
   "source": [
    "!/home/jupyter/plink2 \\\n",
    "--bfile {WORK_DIR}/EUR_COMT \\\n",
    "--keep {WORK_DIR}/samplestokeep_EUR.txt \\\n",
    "--pheno {WORK_DIR}/Covar_MOCA_BL_EUR.txt \\\n",
    "--pheno-name moca_total_score \\\n",
    "--ci 0.95 \\\n",
    "--mac 2 \\\n",
    "--hwe 0.0001 \\\n",
    "--maf 0.01 \\\n",
    "--glm \\\n",
    "--adjust \\\n",
    "--covar {WORK_DIR}/Covar_MOCA_BL_EUR.txt \\\n",
    "--covar-name SEX,age_at_baseline,PC1,PC2,PC3,PC4,PC5,education_level \\\n",
    "--covar-variance-standardize \\\n",
    "--out {WORK_DIR}/COMT_GP2_EUR_MOCA"
   ]
  },
  {
   "cell_type": "code",
   "execution_count": 58,
   "metadata": {
    "hidden": true
   },
   "outputs": [],
   "source": [
    "Moca_glm_add_AllVariants = pd.read_csv(f'{WORK_DIR}/COMT_GP2_EUR_MOCA.moca_total_score.glm.linear', delim_whitespace=True)\n",
    "Moca_glm_add_AllVariants_add=Moca_glm_add_AllVariants[(Moca_glm_add_AllVariants['TEST']=='ADD')]"
   ]
  },
  {
   "cell_type": "code",
   "execution_count": 59,
   "metadata": {
    "hidden": true
   },
   "outputs": [],
   "source": [
    "Moca_glm_add_AllVariants_adj = pd.read_csv(f'{WORK_DIR}/COMT_GP2_EUR_MOCA.moca_total_score.glm.linear.adjusted', delim_whitespace=True)"
   ]
  },
  {
   "cell_type": "code",
   "execution_count": null,
   "metadata": {
    "hidden": true
   },
   "outputs": [],
   "source": [
    "shell_do(f'gsutil -mu {BILLING_PROJECT_ID} cp -r {WORK_DIR}/COMT_GP2_EUR_MOCA.moca_total_score.glm.linear {WORKSPACE_BUCKET}/COMT_NBA_loop/GLM_tables/MOCA/COMT_GP2_EUR_MOCA.moca_total_score.glm.linear')\n",
    "shell_do(f'gsutil -mu {BILLING_PROJECT_ID} cp -r {WORK_DIR}/COMT_GP2_EUR_MOCA.moca_total_score.glm.linear.adjusted {WORKSPACE_BUCKET}/COMT_NBA_loop/GLM_tables/MOCA/COMT_GP2_EUR_MOCA.moca_total_score.glm.linear.adjusted')"
   ]
  },
  {
   "cell_type": "markdown",
   "metadata": {
    "heading_collapsed": true,
    "hidden": true
   },
   "source": [
    "## UPDRS"
   ]
  },
  {
   "cell_type": "code",
   "execution_count": 61,
   "metadata": {
    "hidden": true
   },
   "outputs": [],
   "source": [
    "updrs = full_clinic[['GP2ID','visit_name','visit_month','mds_updrs_part_i_summary_score','mds_updrs_part_ii_summary_score','mds_updrs_part_iii_summary_score','mds_updrs_part_iv_summary_score','age_at_baseline']]"
   ]
  },
  {
   "cell_type": "code",
   "execution_count": 62,
   "metadata": {
    "hidden": true
   },
   "outputs": [
    {
     "data": {
      "text/plain": [
       "visit_month\n",
       " 0.0     14684\n",
       " 12.0     2443\n",
       " 24.0     2379\n",
       " 36.0     2066\n",
       " 6.0      1480\n",
       "         ...  \n",
       " 43.0        2\n",
       " 16.0        1\n",
       " 34.0        1\n",
       " 81.0        1\n",
       "-21.0        1\n",
       "Name: count, Length: 89, dtype: int64"
      ]
     },
     "execution_count": 62,
     "metadata": {},
     "output_type": "execute_result"
    }
   ],
   "source": [
    "updrs['visit_month'].value_counts()"
   ]
  },
  {
   "cell_type": "code",
   "execution_count": 63,
   "metadata": {
    "hidden": true
   },
   "outputs": [
    {
     "data": {
      "text/plain": [
       "label\n",
       "EUR    20619\n",
       "Name: count, dtype: int64"
      ]
     },
     "execution_count": 63,
     "metadata": {},
     "output_type": "execute_result"
    }
   ],
   "source": [
    "updrs_ancestry = pd.merge(key_EUR,updrs,on='GP2ID')\n",
    "updrs_ancestry['label'].value_counts()"
   ]
  },
  {
   "cell_type": "code",
   "execution_count": 65,
   "metadata": {
    "hidden": true
   },
   "outputs": [
    {
     "data": {
      "text/plain": [
       "visit_month\n",
       " 0.0     8449\n",
       " 12.0    1647\n",
       " 24.0    1620\n",
       " 36.0    1495\n",
       " 6.0      894\n",
       "         ... \n",
       " 81.0       1\n",
       " 32.0       1\n",
       " 45.0       1\n",
       " 34.0       1\n",
       "-21.0       1\n",
       "Name: count, Length: 89, dtype: int64"
      ]
     },
     "execution_count": 65,
     "metadata": {},
     "output_type": "execute_result"
    }
   ],
   "source": [
    "updrs_ancestry['visit_month'].value_counts()"
   ]
  },
  {
   "cell_type": "code",
   "execution_count": 66,
   "metadata": {
    "hidden": true
   },
   "outputs": [
    {
     "data": {
      "text/plain": [
       "(8449, 10)"
      ]
     },
     "execution_count": 66,
     "metadata": {},
     "output_type": "execute_result"
    }
   ],
   "source": [
    "updrs_ancestry_BL = updrs_ancestry[updrs_ancestry['visit_month']==0]\n",
    "updrs_ancestry_BL.shape\n"
   ]
  },
  {
   "cell_type": "code",
   "execution_count": 69,
   "metadata": {
    "hidden": true
   },
   "outputs": [],
   "source": [
    "covar = pd.read_csv(f'{WORK_DIR}/EUR_covariate_file.txt',sep=\"\\t\")\n",
    "covar_updrsBL=updrs_ancestry_BL.merge(covar,on=\"GP2ID\")"
   ]
  },
  {
   "cell_type": "code",
   "execution_count": 72,
   "metadata": {
    "hidden": true
   },
   "outputs": [
    {
     "data": {
      "text/plain": [
       "PHENO\n",
       "2.0    4939\n",
       "Name: count, dtype: int64"
      ]
     },
     "execution_count": 72,
     "metadata": {},
     "output_type": "execute_result"
    }
   ],
   "source": [
    "covar_updrsBL_PD=covar_updrsBL[covar_updrsBL['PHENO']==2]\n",
    "covar_updrsBL_PD['PHENO'].value_counts()"
   ]
  },
  {
   "cell_type": "code",
   "execution_count": 73,
   "metadata": {
    "hidden": true
   },
   "outputs": [],
   "source": [
    "covar_updrsBL_final = covar_updrsBL_PD[['FID','IID','FATID','MATID','SEX','PHENO','visit_name','mds_updrs_part_i_summary_score','mds_updrs_part_ii_summary_score','mds_updrs_part_iii_summary_score','mds_updrs_part_iv_summary_score','age_at_baseline','PC1','PC2','PC3','PC4','PC5']]"
   ]
  },
  {
   "cell_type": "code",
   "execution_count": 75,
   "metadata": {
    "hidden": true
   },
   "outputs": [],
   "source": [
    "covar_updrsBL_final = covar_updrsBL_final.drop_duplicates(subset=['IID'])\n",
    "covar_updrsBL_final.to_csv(f'{WORK_DIR}/Covar_UPDRS_BL_EUR.txt',sep=\",\",index=None)"
   ]
  },
  {
   "cell_type": "markdown",
   "metadata": {
    "heading_collapsed": true,
    "hidden": true
   },
   "source": [
    "### Part III"
   ]
  },
  {
   "cell_type": "code",
   "execution_count": 77,
   "metadata": {
    "hidden": true
   },
   "outputs": [],
   "source": [
    "covar_updrsBL_final=pd.read_csv(f'{WORK_DIR}/Covar_UPDRS_BL_EUR.txt',sep=\",\")"
   ]
  },
  {
   "cell_type": "code",
   "execution_count": 80,
   "metadata": {
    "hidden": true
   },
   "outputs": [
    {
     "data": {
      "text/plain": [
       "(1268, 17)"
      ]
     },
     "execution_count": 80,
     "metadata": {},
     "output_type": "execute_result"
    }
   ],
   "source": [
    "covar_updrsIII_BL_final = covar_updrsBL_final.dropna(subset = ['mds_updrs_part_iii_summary_score'])\n",
    "covar_updrsIII_BL_final.shape"
   ]
  },
  {
   "cell_type": "code",
   "execution_count": 82,
   "metadata": {
    "hidden": true
   },
   "outputs": [],
   "source": [
    "covar_updrsIII_BL_final.to_csv(f'{WORK_DIR}/Covar_UPDRS_III_BL_EUR.txt',sep=\",\",index=None)"
   ]
  },
  {
   "cell_type": "code",
   "execution_count": 85,
   "metadata": {
    "hidden": true
   },
   "outputs": [
    {
     "data": {
      "text/plain": [
       "FID                                 1268\n",
       "IID                                 1268\n",
       "FATID                               1268\n",
       "MATID                               1268\n",
       "SEX                                 1268\n",
       "PHENO                               1268\n",
       "visit_name                          1266\n",
       "mds_updrs_part_i_summary_score       670\n",
       "mds_updrs_part_ii_summary_score      668\n",
       "mds_updrs_part_iii_summary_score    1268\n",
       "mds_updrs_part_iv_summary_score      359\n",
       "age_at_baseline                     1261\n",
       "PC1                                 1268\n",
       "PC2                                 1268\n",
       "PC3                                 1268\n",
       "PC4                                 1268\n",
       "PC5                                 1268\n",
       "dtype: int64"
      ]
     },
     "execution_count": 85,
     "metadata": {},
     "output_type": "execute_result"
    }
   ],
   "source": [
    "covar_updrsIII_BL_final.count()"
   ]
  },
  {
   "cell_type": "code",
   "execution_count": 86,
   "metadata": {
    "hidden": true
   },
   "outputs": [
    {
     "name": "stdout",
     "output_type": "stream",
     "text": [
      "PLINK v2.0.0-a.6.9LM 64-bit Intel (29 Jan 2025)    cog-genomics.org/plink/2.0/\n",
      "(C) 2005-2025 Shaun Purcell, Christopher Chang   GNU General Public License v3\n",
      "Logging to /home/jupyter/COMT_NBA_loop//COMT_GP2_EUR_UPDRSIII_AllVariants.log.\n",
      "Options in effect:\n",
      "  --adjust\n",
      "  --bfile /home/jupyter/COMT_NBA_loop//EUR_COMT\n",
      "  --covar /home/jupyter/COMT_NBA_loop//Covar_UPDRS_III_BL_EUR.txt\n",
      "  --covar-name SEX,age_at_baseline,PC1,PC2,PC3,PC4,PC5\n",
      "  --covar-variance-standardize\n",
      "  --glm\n",
      "  --hwe 0.0001\n",
      "  --keep /home/jupyter/COMT_NBA_loop//samplestokeep_EUR.txt\n",
      "  --mac 2\n",
      "  --maf 0.01\n",
      "  --out /home/jupyter/COMT_NBA_loop//COMT_GP2_EUR_UPDRSIII_AllVariants\n",
      "  --pheno /home/jupyter/COMT_NBA_loop//Covar_UPDRS_III_BL_EUR.txt\n",
      "  --pheno-name mds_updrs_part_iii_summary_score\n",
      "\n",
      "Start time: Fri Mar 28 17:10:44 2025\n",
      "7445 MiB RAM detected, ~5821 available; reserving 3722 MiB for main workspace.\n",
      "Using up to 2 compute threads.\n",
      "25309 samples (9886 females, 15423 males; 25309 founders) loaded from\n",
      "/home/jupyter/COMT_NBA_loop//EUR_COMT.fam.\n",
      "994 variants loaded from /home/jupyter/COMT_NBA_loop//EUR_COMT.bim.\n",
      "1 quantitative phenotype loaded (1268 values).\n",
      "--keep: 25309 samples remaining.\n",
      "7 covariates loaded from /home/jupyter/COMT_NBA_loop//Covar_UPDRS_III_BL_EUR.txt.\n",
      "25309 samples (9886 females, 15423 males; 25309 founders) remaining after main\n",
      "filters.\n",
      "1268 quantitative phenotype values remaining after main filters.\n",
      "--covar-variance-standardize: 7 covariates transformed.\n",
      "Calculating allele frequencies... done.\n",
      "Warning: --hwe filter is suspiciously strict for the sample size; you may be\n",
      "filtering out many variants with association signals.\n",
      "If you are performing routine QC, consider using --hwe with a sample-size term\n",
      "(e.g. \"--hwe 1e-5 0.001\" results in a threshold of 1e-6 with 1000 observations,\n",
      "1e-7 with 2000 observations, etc.), and/or specifying 'keep-fewhet' to remove\n",
      "only variants with heterozygosity excess.\n",
      "Alternatively, if the strictness is intentional (e.g. you are preparing data\n",
      "for a method that requires variants to be near Hardy-Weinberg equilibrium),\n",
      "explicitly specify a sample-size term of 0.\n",
      "This warning will be upgraded to an error in a future build.\n",
      "--hwe: 0 variants removed due to Hardy-Weinberg exact test (founders only).\n",
      "877 variants removed due to allele frequency threshold(s)\n",
      "(--maf/--max-maf/--mac/--max-mac).\n",
      "117 variants remaining after main filters.\n",
      "--glm linear regression on phenotype 'mds_updrs_part_iii_summary_score': done.\n",
      "Results written to /home/jupyter/COMT_NBA_loop//COMT_GP2_EUR_UPDRSIII_AllVariants.mds_updrs_part_iii_summary_score.glm.linear .\n",
      "--adjust: Genomic inflation est. lambda (based on median chisq) = 0.949782.\n",
      "(Treating lambda as 1 in GC-corrected p-value calculation.)\n",
      "--adjust values (117 tests) written to\n",
      "/home/jupyter/COMT_NBA_loop//COMT_GP2_EUR_UPDRSIII_AllVariants.mds_updrs_part_iii_summary_score.glm.linear.adjusted\n",
      ".\n",
      "End time: Fri Mar 28 17:10:44 2025\n"
     ]
    }
   ],
   "source": [
    "!/home/jupyter/plink2 \\\n",
    "--bfile {WORK_DIR}/EUR_COMT \\\n",
    "--keep {WORK_DIR}/samplestokeep_EUR.txt \\\n",
    "--pheno {WORK_DIR}/Covar_UPDRS_III_BL_EUR.txt \\\n",
    "--pheno-name mds_updrs_part_iii_summary_score \\\n",
    "--glm \\\n",
    "--adjust \\\n",
    "--mac 2 \\\n",
    "--maf 0.01 \\\n",
    "--hwe 0.0001 \\\n",
    "--covar {WORK_DIR}/Covar_UPDRS_III_BL_EUR.txt \\\n",
    "--covar-name SEX,age_at_baseline,PC1,PC2,PC3,PC4,PC5 \\\n",
    "--covar-variance-standardize \\\n",
    "--out {WORK_DIR}/COMT_GP2_EUR_UPDRSIII_AllVariants\n"
   ]
  },
  {
   "cell_type": "code",
   "execution_count": 87,
   "metadata": {
    "hidden": true
   },
   "outputs": [],
   "source": [
    "UPDRSiii_glm_add_AllVariants = pd.read_csv(f'{WORK_DIR}/COMT_GP2_EUR_UPDRSIII_AllVariants.mds_updrs_part_iii_summary_score.glm.linear', delim_whitespace=True)\n",
    "UPDRSiii_glm_add_AllVariants_add=UPDRSiii_glm_add_AllVariants[(UPDRSiii_glm_add_AllVariants['TEST']=='ADD')]"
   ]
  },
  {
   "cell_type": "code",
   "execution_count": 88,
   "metadata": {
    "hidden": true
   },
   "outputs": [],
   "source": [
    "UPDRSiii_glm_add_AllVariants_adjusted = pd.read_csv(f'{WORK_DIR}/COMT_GP2_EUR_UPDRSIII_all_variants_except_intronic.mds_updrs_part_iii_summary_score.glm.linear.adjusted', delim_whitespace=True)"
   ]
  },
  {
   "cell_type": "code",
   "execution_count": null,
   "metadata": {
    "hidden": true
   },
   "outputs": [],
   "source": [
    "shell_do(f'gsutil -mu {BILLING_PROJECT_ID} cp -r {WORK_DIR}/COMT_GP2_EUR_UPDRSIII_AllVariants.mds_updrs_part_iii_summary_score.glm.linear {WORKSPACE_BUCKET}/COMT_NBA_loop/GLM_tables/UPDRS/COMT_GP2_EUR_UPDRSIII_AllVariants.mds_updrs_part_iii_summary_score.glm.linear')\n",
    "shell_do(f'gsutil -mu {BILLING_PROJECT_ID} cp -r {WORK_DIR}/COMT_GP2_EUR_UPDRSIII_AllVariants.mds_updrs_part_iii_summary_score.glm.linear.adjusted {WORKSPACE_BUCKET}/COMT_NBA_loop/GLM_tables/UPDRS/COMT_GP2_EUR_UPDRSIII_AllVariants.mds_updrs_part_iii_summary_score.glm.linear.adjusted')"
   ]
  },
  {
   "cell_type": "markdown",
   "metadata": {
    "heading_collapsed": true,
    "hidden": true
   },
   "source": [
    "### Part IV"
   ]
  },
  {
   "cell_type": "code",
   "execution_count": 90,
   "metadata": {
    "hidden": true
   },
   "outputs": [],
   "source": [
    "covar_updrsBL_final=pd.read_csv(f'{WORK_DIR}/Covar_UPDRS_BL_EUR.txt',sep=\",\")"
   ]
  },
  {
   "cell_type": "code",
   "execution_count": 91,
   "metadata": {
    "hidden": true
   },
   "outputs": [
    {
     "data": {
      "text/plain": [
       "(359, 17)"
      ]
     },
     "execution_count": 91,
     "metadata": {},
     "output_type": "execute_result"
    }
   ],
   "source": [
    "covar_updrsIV_BL_final = covar_updrsBL_final.dropna(subset = ['mds_updrs_part_iv_summary_score'])\n",
    "covar_updrsIV_BL_final.shape"
   ]
  },
  {
   "cell_type": "code",
   "execution_count": 92,
   "metadata": {
    "hidden": true
   },
   "outputs": [],
   "source": [
    "covar_updrsIV_BL_final.to_csv(f'{WORK_DIR}/Covar_UPDRS_IV_BL_EUR.txt',sep=\",\",index=None)"
   ]
  },
  {
   "cell_type": "code",
   "execution_count": null,
   "metadata": {
    "hidden": true
   },
   "outputs": [],
   "source": [
    "covar_updrsIV_BL_final.count()"
   ]
  },
  {
   "cell_type": "code",
   "execution_count": 94,
   "metadata": {
    "hidden": true
   },
   "outputs": [
    {
     "name": "stdout",
     "output_type": "stream",
     "text": [
      "PLINK v2.0.0-a.6.9LM 64-bit Intel (29 Jan 2025)    cog-genomics.org/plink/2.0/\r\n",
      "(C) 2005-2025 Shaun Purcell, Christopher Chang   GNU General Public License v3\r\n",
      "Logging to /home/jupyter/COMT_NBA_loop//COMT_GP2_EUR_UPDRSIV_AllVariants.log.\r\n",
      "Options in effect:\r\n",
      "  --adjust\r\n",
      "  --bfile /home/jupyter/COMT_NBA_loop//EUR_COMT\r\n",
      "  --covar /home/jupyter/COMT_NBA_loop//Covar_UPDRS_IV_BL_EUR.txt\r\n",
      "  --covar-name SEX,age_at_baseline,PC1,PC2,PC3,PC4,PC5\r\n",
      "  --covar-variance-standardize\r\n",
      "  --glm\r\n",
      "  --hwe 0.0001\r\n",
      "  --keep /home/jupyter/COMT_NBA_loop//samplestokeep_EUR.txt\r\n",
      "  --mac 2\r\n",
      "  --maf 0.01\r\n",
      "  --out /home/jupyter/COMT_NBA_loop//COMT_GP2_EUR_UPDRSIV_AllVariants\r\n",
      "  --pheno /home/jupyter/COMT_NBA_loop//Covar_UPDRS_IV_BL_EUR.txt\r\n",
      "  --pheno-name mds_updrs_part_iv_summary_score\r\n",
      "\r\n",
      "Start time: Fri Mar 28 17:13:05 2025\r\n",
      "7445 MiB RAM detected, ~5793 available; reserving 3722 MiB for main workspace.\r\n",
      "Using up to 2 compute threads.\r\n",
      "25309 samples (9886 females, 15423 males; 25309 founders) loaded from\r\n",
      "/home/jupyter/COMT_NBA_loop//EUR_COMT.fam.\r\n",
      "994 variants loaded from /home/jupyter/COMT_NBA_loop//EUR_COMT.bim.\r\n",
      "1 quantitative phenotype loaded (359 values).\r\n",
      "--keep: 25309 samples remaining.\r\n",
      "7 covariates loaded from /home/jupyter/COMT_NBA_loop//Covar_UPDRS_IV_BL_EUR.txt.\r\n",
      "25309 samples (9886 females, 15423 males; 25309 founders) remaining after main\r\n",
      "filters.\r\n",
      "359 quantitative phenotype values remaining after main filters.\r\n",
      "--covar-variance-standardize: 7 covariates transformed.\r\n",
      "Calculating allele frequencies... 0%\b\bdone.\r\n",
      "Warning: --hwe filter is suspiciously strict for the sample size; you may be\r\n",
      "filtering out many variants with association signals.\r\n",
      "If you are performing routine QC, consider using --hwe with a sample-size term\r\n",
      "(e.g. \"--hwe 1e-5 0.001\" results in a threshold of 1e-6 with 1000 observations,\r\n",
      "1e-7 with 2000 observations, etc.), and/or specifying 'keep-fewhet' to remove\r\n",
      "only variants with heterozygosity excess.\r\n",
      "Alternatively, if the strictness is intentional (e.g. you are preparing data\r\n",
      "for a method that requires variants to be near Hardy-Weinberg equilibrium),\r\n",
      "explicitly specify a sample-size term of 0.\r\n",
      "This warning will be upgraded to an error in a future build.\r\n",
      "--hwe: 0 variants removed due to Hardy-Weinberg exact test (founders only).\r\n",
      "877 variants removed due to allele frequency threshold(s)\r\n",
      "(--maf/--max-maf/--mac/--max-mac).\r\n",
      "117 variants remaining after main filters.\r\n",
      "--glm linear regression on phenotype 'mds_updrs_part_iv_summary_score': 0%\b\bdone.\r\n",
      "Results written to /home/jupyter/COMT_NBA_loop//COMT_GP2_EUR_UPDRSIV_AllVariants.mds_updrs_part_iv_summary_score.glm.linear .\r\n",
      "--adjust: Genomic inflation est. lambda (based on median chisq) = 1.90947.\r\n",
      "--adjust values (117 tests) written to\r\n",
      "/home/jupyter/COMT_NBA_loop//COMT_GP2_EUR_UPDRSIV_AllVariants.mds_updrs_part_iv_summary_score.glm.linear.adjusted\r\n",
      ".\r\n",
      "End time: Fri Mar 28 17:13:05 2025\r\n"
     ]
    }
   ],
   "source": [
    "!/home/jupyter/plink2 \\\n",
    "--bfile {WORK_DIR}/EUR_COMT \\\n",
    "--keep {WORK_DIR}/samplestokeep_EUR.txt \\\n",
    "--pheno {WORK_DIR}/Covar_UPDRS_IV_BL_EUR.txt \\\n",
    "--pheno-name mds_updrs_part_iv_summary_score \\\n",
    "--glm \\\n",
    "--adjust \\\n",
    "--mac 2 \\\n",
    "--hwe 0.0001 \\\n",
    "--maf 0.01 \\\n",
    "--covar {WORK_DIR}/Covar_UPDRS_IV_BL_EUR.txt \\\n",
    "--covar-name SEX,age_at_baseline,PC1,PC2,PC3,PC4,PC5 \\\n",
    "--covar-variance-standardize \\\n",
    "--out {WORK_DIR}/COMT_GP2_EUR_UPDRSIV_AllVariants\n"
   ]
  },
  {
   "cell_type": "code",
   "execution_count": 82,
   "metadata": {
    "hidden": true
   },
   "outputs": [],
   "source": [
    "UPDRSiv_glm_add_AllVariants = pd.read_csv(f'{WORK_DIR}/COMT_GP2_EUR_UPDRSIV_all_variants_except_intronic.mds_updrs_part_iv_summary_score.glm.linear', delim_whitespace=True)\n",
    "UPDRSiv_glm_add_AllVariants_add=UPDRSiv_glm_add_AllVariants[(UPDRSiv_glm_add_AllVariants['TEST']=='ADD')]"
   ]
  },
  {
   "cell_type": "code",
   "execution_count": 83,
   "metadata": {
    "hidden": true
   },
   "outputs": [],
   "source": [
    "Covar_UPDRS_IV_BL_EURUPDRSiv_glm_add_AllVariants_add_adjusted = pd.read_csv(f'{WORK_DIR}/COMT_GP2_EUR_UPDRSIV_all_variants_except_intronic.mds_updrs_part_iv_summary_score.glm.linear.adjusted', delim_whitespace=True)\n"
   ]
  },
  {
   "cell_type": "code",
   "execution_count": null,
   "metadata": {
    "hidden": true
   },
   "outputs": [],
   "source": [
    "shell_do(f'gsutil -mu {BILLING_PROJECT_ID} cp -r {WORK_DIR}/COMT_GP2_EUR_UPDRSIV_AllVariants.mds_updrs_part_iv_summary_score.glm.linear {WORKSPACE_BUCKET}/COMT_NBA_loop/GLM_tables/UPDRS/COMT_GP2_EUR_UPDRSIV_AllVariants.mds_updrs_part_iv_summary_score.glm.linear')\n",
    "shell_do(f'gsutil -mu {BILLING_PROJECT_ID} cp -r {WORK_DIR}/COMT_GP2_EUR_UPDRSIV_AllVariants.mds_updrs_part_iv_summary_score.glm.linear.adjusted {WORKSPACE_BUCKET}/COMT_NBA_loop/GLM_tables/UPDRS/COMT_GP2_EUR_UPDRSIV_AllVariants.mds_updrs_part_iv_summary_score.glm.linear.adjusted')"
   ]
  },
  {
   "cell_type": "markdown",
   "metadata": {
    "heading_collapsed": true,
    "hidden": true
   },
   "source": [
    "## LIDs"
   ]
  },
  {
   "cell_type": "code",
   "execution_count": 103,
   "metadata": {
    "hidden": true
   },
   "outputs": [],
   "source": [
    "%load_ext rpy2.ipython"
   ]
  },
  {
   "cell_type": "code",
   "execution_count": 104,
   "metadata": {
    "hidden": true
   },
   "outputs": [
    {
     "data": {
      "text/plain": [
       "In addition: Warning message:\n",
       "In (function (package, help, pos = 2, lib.loc = NULL, character.only = FALSE,  :\n",
       "  library ‘/usr/lib/R/site-library’ contains no packages\n"
      ]
     },
     "metadata": {},
     "output_type": "display_data"
    }
   ],
   "source": [
    "%%R\n",
    "\n",
    "BILLING_PROJECT_ID <- Sys.getenv('GOOGLE_PROJECT')\n",
    "WORKSPACE_NAMESPACE <- Sys.getenv('WORKSPACE_NAMESPACE')\n",
    "WORKSPACE_NAME <- Sys.getenv('WORKSPACE_NAME')\n"
   ]
  },
  {
   "cell_type": "code",
   "execution_count": 105,
   "metadata": {
    "hidden": true
   },
   "outputs": [
    {
     "data": {
      "text/plain": [
       "data.table 1.16.2 using 1 threads (see ?getDTthreads).  Latest news: r-datatable.com\n",
       "\n",
       "Attaching package: ‘dplyr’\n",
       "\n",
       "The following objects are masked from ‘package:data.table’:\n",
       "\n",
       "    between, first, last\n",
       "\n",
       "The following objects are masked from ‘package:stats’:\n",
       "\n",
       "    filter, lag\n",
       "\n",
       "The following objects are masked from ‘package:base’:\n",
       "\n",
       "    intersect, setdiff, setequal, union\n",
       "\n",
       "Loading required package: ggpubr\n",
       "\n",
       "Attaching package: ‘survminer’\n",
       "\n",
       "The following object is masked from ‘package:survival’:\n",
       "\n",
       "    myeloma\n",
       "\n"
      ]
     },
     "metadata": {},
     "output_type": "display_data"
    }
   ],
   "source": [
    "%%R\n",
    "library(data.table)\n",
    "library(dplyr)\n",
    "library(ggplot2)\n",
    "library(tidyr)\n",
    "library(survival)\n",
    "library(survminer)\n",
    "setwd(\"/home/jupyter/COMT_NBA_loop/\")"
   ]
  },
  {
   "cell_type": "code",
   "execution_count": 114,
   "metadata": {
    "hidden": true
   },
   "outputs": [],
   "source": [
    "%%R\n",
    "master_key<-fread(\"master_key_release7_final.csv\") %>% \n",
    "              select(GP2ID,GP2sampleID,label)  %>%\n",
    "              filter(label==\"EUR\") %>% \n",
    "              na.exclude(dyskinesia_status_at_censoring)\n"
   ]
  },
  {
   "cell_type": "code",
   "execution_count": 115,
   "metadata": {
    "hidden": true
   },
   "outputs": [
    {
     "name": "stdout",
     "output_type": "stream",
     "text": [
      "[1] 32548\n"
     ]
    }
   ],
   "source": [
    "%%R\n",
    "full_clinic <- fread('extended_clinical_data_release7.csv')\n",
    "nrow(full_clinic)"
   ]
  },
  {
   "cell_type": "code",
   "execution_count": 116,
   "metadata": {
    "hidden": true
   },
   "outputs": [],
   "source": [
    "%%R\n",
    "lids <- full_clinic[,c('GP2ID','visit_name','visit_month','age_at_baseline','dyskinesia_status_at_censoring','age_at_dyskinesia_status_censored','ledd_daily')]\n",
    "lids[,'Disease_duration_fromBL'] = lids[,'age_at_dyskinesia_status_censored'] - lids[,'age_at_baseline']\n"
   ]
  },
  {
   "cell_type": "code",
   "execution_count": null,
   "metadata": {
    "hidden": true
   },
   "outputs": [],
   "source": [
    "%%R\n",
    "# Filter on EUR and also must have dyskinesia_status_at_censoring filled\n",
    "raw_eur <- left_join(lids,master_key,\"GP2ID\") %>%\n",
    "                        filter(label==\"EUR\") %>% \n",
    "                        na.exclude(dyskinesia_status_at_censoring)"
   ]
  },
  {
   "cell_type": "code",
   "execution_count": 123,
   "metadata": {
    "hidden": true
   },
   "outputs": [],
   "source": [
    "%%R\n",
    "# Adding new columns: \n",
    "#   - visit_month_year: visit month on year format\n",
    "#   - age_at_visit: sum visit_month_year to age at baseline \n",
    "raw_eur_formatted<-raw_eur %>% mutate(visit_month_year=(visit_month)/12,\n",
    "                                      age_at_visit=(age_at_baseline+visit_month_year))"
   ]
  },
  {
   "cell_type": "code",
   "execution_count": 124,
   "metadata": {
    "hidden": true
   },
   "outputs": [],
   "source": [
    "%%R\n",
    "# I will add LEDD as covariate at the moment of dyskinesia_status_at_censoring. \n",
    "# For this we have to compare age_at_dyskinesia_status_censored and age_at_visit. \n",
    "# We have to keep the closer visit to age_at_dyskinesia_status_censored.\n",
    "LIDs_SelectedVisit <-  raw_eur_formatted %>% \n",
    "                                      group_by(GP2ID) %>% \n",
    "                                      slice_min(abs(age_at_dyskinesia_status_censored - age_at_visit))\n"
   ]
  },
  {
   "cell_type": "code",
   "execution_count": 132,
   "metadata": {
    "hidden": true
   },
   "outputs": [
    {
     "name": "stdout",
     "output_type": "stream",
     "text": [
      "\n",
      "  0   1 \n",
      "295 154 \n"
     ]
    }
   ],
   "source": [
    "%%R\n",
    "table(LIDs_SelectedVisit$dyskinesia_status_at_censoring)"
   ]
  },
  {
   "cell_type": "code",
   "execution_count": 127,
   "metadata": {
    "hidden": true
   },
   "outputs": [],
   "source": [
    "%%R\n",
    "#merge covar with subjects with LIDs data on EUR\n",
    "covar = fread('EUR_covariate_file.txt')\n",
    "covar_lids=left_join(LIDs_SelectedVisit,covar,\"GP2ID\")"
   ]
  },
  {
   "cell_type": "code",
   "execution_count": 133,
   "metadata": {
    "hidden": true
   },
   "outputs": [
    {
     "name": "stdout",
     "output_type": "stream",
     "text": [
      "\n",
      "  2 \n",
      "437 \n"
     ]
    }
   ],
   "source": [
    "%%R\n",
    "table(covar_lids$PHENO) "
   ]
  },
  {
   "cell_type": "code",
   "execution_count": 236,
   "metadata": {
    "hidden": true
   },
   "outputs": [],
   "source": [
    "%%R\n",
    "#merge with Genetic\n",
    "COMT_GP2_all_variants_recode <- fread(\"EUR_COMT.AllVariants.raw\")\n",
    "covar_lids_comt <- left_join(covar_lids,COMT_GP2_all_variants_recode,'IID')\n"
   ]
  },
  {
   "cell_type": "code",
   "execution_count": 278,
   "metadata": {
    "hidden": true
   },
   "outputs": [],
   "source": [
    "%%R\n",
    "lids <- covar_lids_comt\n",
    "\n",
    "latest_columns <- lids[, -(1:29)]\n",
    "rounded_columns <- round(latest_columns, 0)\n",
    "lids[, (30:ncol(lids))] <- rounded_columns\n"
   ]
  },
  {
   "cell_type": "markdown",
   "metadata": {
    "hidden": true
   },
   "source": [
    "**rs4680**"
   ]
  },
  {
   "cell_type": "code",
   "execution_count": 253,
   "metadata": {
    "hidden": true
   },
   "outputs": [
    {
     "name": "stdout",
     "output_type": "stream",
     "text": [
      "Call:\n",
      "coxph(formula = surv_object_LIDs ~ lids[[snp]] + age_at_dyskinesia_status_censored + \n",
      "    ledd_daily + SEX.x + PC1 + PC2 + PC3 + PC4 + PC5, data = lids)\n",
      "\n",
      "  n= 423, number of events= 147 \n",
      "   (26 observations deleted due to missingness)\n",
      "\n",
      "                                        coef  exp(coef)   se(coef)      z\n",
      "lids[[snp]]                       -5.361e-02  9.478e-01  1.257e-01 -0.426\n",
      "age_at_dyskinesia_status_censored -2.775e-02  9.726e-01  9.111e-03 -3.046\n",
      "ledd_daily                         3.637e-04  1.000e+00  1.831e-04  1.986\n",
      "SEX.x                              2.596e-01  1.296e+00  1.736e-01  1.495\n",
      "PC1                                1.431e+01  1.637e+06  1.727e+01  0.828\n",
      "PC2                                1.247e+01  2.611e+05  2.510e+01  0.497\n",
      "PC3                                2.276e+01  7.684e+09  1.549e+01  1.469\n",
      "PC4                                4.354e+00  7.776e+01  2.609e+01  0.167\n",
      "PC5                                7.169e+00  1.299e+03  1.422e+01  0.504\n",
      "                                  Pr(>|z|)   \n",
      "lids[[snp]]                        0.66985   \n",
      "age_at_dyskinesia_status_censored  0.00232 **\n",
      "ledd_daily                         0.04698 * \n",
      "SEX.x                              0.13485   \n",
      "PC1                                0.40743   \n",
      "PC2                                0.61920   \n",
      "PC3                                0.14177   \n",
      "PC4                                0.86748   \n",
      "PC5                                0.61416   \n",
      "---\n",
      "Signif. codes:  0 ‘***’ 0.001 ‘**’ 0.01 ‘*’ 0.05 ‘.’ 0.1 ‘ ’ 1\n",
      "\n",
      "                                  exp(coef) exp(-coef) lower .95 upper .95\n",
      "lids[[snp]]                       9.478e-01  1.055e+00 7.408e-01 1.213e+00\n",
      "age_at_dyskinesia_status_censored 9.726e-01  1.028e+00 9.554e-01 9.902e-01\n",
      "ledd_daily                        1.000e+00  9.996e-01 1.000e+00 1.001e+00\n",
      "SEX.x                             1.296e+00  7.714e-01 9.225e-01 1.822e+00\n",
      "PC1                               1.637e+06  6.107e-07 3.251e-09 8.249e+20\n",
      "PC2                               2.611e+05  3.830e-06 1.134e-16 6.014e+26\n",
      "PC3                               7.684e+09  1.301e-10 4.990e-04 1.183e+23\n",
      "PC4                               7.776e+01  1.286e-02 4.801e-21 1.259e+24\n",
      "PC5                               1.299e+03  7.701e-04 1.021e-09 1.651e+15\n",
      "\n",
      "Concordance= 0.598  (se = 0.027 )\n",
      "Likelihood ratio test= 19.66  on 9 df,   p=0.02\n",
      "Wald test            = 19.47  on 9 df,   p=0.02\n",
      "Score (logrank) test = 19.6  on 9 df,   p=0.02\n",
      "\n"
     ]
    }
   ],
   "source": [
    "%%R\n",
    "snp = 'chr22:19963748:G:A_G'\n",
    "\n",
    "surv_object_LIDs <- Surv(time = lids$Disease_duration_fromBL, event = lids$dyskinesia_status_at_censoring)\n",
    "\n",
    "model.cox_LIDs <- coxph(surv_object_LIDs ~ lids[[snp]] + age_at_dyskinesia_status_censored + ledd_daily + SEX.x + PC1 + PC2 + PC3 + PC4 + PC5, \n",
    "                   data = lids)\n",
    "summary(model.cox_LIDs)"
   ]
  },
  {
   "cell_type": "markdown",
   "metadata": {
    "hidden": true
   },
   "source": [
    "**rs4818**"
   ]
  },
  {
   "cell_type": "code",
   "execution_count": 259,
   "metadata": {
    "hidden": true
   },
   "outputs": [
    {
     "name": "stdout",
     "output_type": "stream",
     "text": [
      "Call:\n",
      "coxph(formula = surv_object_LIDs ~ lids[[snp]] + age_at_dyskinesia_status_censored + \n",
      "    SEX.x + ledd_daily + PC1 + PC2 + PC3 + PC4 + PC5, data = lids)\n",
      "\n",
      "  n= 429, number of events= 150 \n",
      "   (20 observations deleted due to missingness)\n",
      "\n",
      "                                        coef  exp(coef)   se(coef)      z\n",
      "lids[[snp]]                       -5.540e-02  9.461e-01  1.240e-01 -0.447\n",
      "age_at_dyskinesia_status_censored -2.699e-02  9.734e-01  9.042e-03 -2.984\n",
      "SEX.x                              2.540e-01  1.289e+00  1.733e-01  1.466\n",
      "ledd_daily                         3.854e-04  1.000e+00  1.800e-04  2.142\n",
      "PC1                                1.239e+01  2.415e+05  1.697e+01  0.731\n",
      "PC2                                1.553e+01  5.542e+06  2.492e+01  0.623\n",
      "PC3                                2.297e+01  9.449e+09  1.550e+01  1.482\n",
      "PC4                                5.297e+00  1.997e+02  2.555e+01  0.207\n",
      "PC5                                8.655e+00  5.738e+03  1.405e+01  0.616\n",
      "                                  Pr(>|z|)   \n",
      "lids[[snp]]                        0.65500   \n",
      "age_at_dyskinesia_status_censored  0.00284 **\n",
      "SEX.x                              0.14278   \n",
      "ledd_daily                         0.03221 * \n",
      "PC1                                0.46507   \n",
      "PC2                                0.53325   \n",
      "PC3                                0.13841   \n",
      "PC4                                0.83575   \n",
      "PC5                                0.53794   \n",
      "---\n",
      "Signif. codes:  0 ‘***’ 0.001 ‘**’ 0.01 ‘*’ 0.05 ‘.’ 0.1 ‘ ’ 1\n",
      "\n",
      "                                  exp(coef) exp(-coef) lower .95 upper .95\n",
      "lids[[snp]]                       9.461e-01  1.057e+00 7.420e-01 1.206e+00\n",
      "age_at_dyskinesia_status_censored 9.734e-01  1.027e+00 9.563e-01 9.908e-01\n",
      "SEX.x                             1.289e+00  7.757e-01 9.179e-01 1.811e+00\n",
      "ledd_daily                        1.000e+00  9.996e-01 1.000e+00 1.001e+00\n",
      "PC1                               2.415e+05  4.141e-06 8.729e-10 6.680e+19\n",
      "PC2                               5.542e+06  1.804e-07 3.388e-15 9.066e+27\n",
      "PC3                               9.449e+09  1.058e-10 6.032e-04 1.480e+23\n",
      "PC4                               1.997e+02  5.009e-03 3.586e-20 1.112e+24\n",
      "PC5                               5.738e+03  1.743e-04 6.281e-09 5.242e+15\n",
      "\n",
      "Concordance= 0.597  (se = 0.027 )\n",
      "Likelihood ratio test= 19.76  on 9 df,   p=0.02\n",
      "Wald test            = 19.68  on 9 df,   p=0.02\n",
      "Score (logrank) test = 19.81  on 9 df,   p=0.02\n",
      "\n"
     ]
    }
   ],
   "source": [
    "%%R\n",
    "snp = 'chr22:19963684:C:G_G'\n",
    "\n",
    "surv_object_LIDs <- Surv(time = lids$Disease_duration_fromBL, event = lids$dyskinesia_status_at_censoring)\n",
    "\n",
    "model.cox_LIDs <- coxph(surv_object_LIDs ~ lids[[snp]] + age_at_dyskinesia_status_censored + SEX.x + ledd_daily + PC1 + PC2 + PC3 + PC4 + PC5, \n",
    "                   data = lids)\n",
    "summary(model.cox_LIDs)"
   ]
  },
  {
   "cell_type": "markdown",
   "metadata": {
    "hidden": true
   },
   "source": [
    "**rs4633**"
   ]
  },
  {
   "cell_type": "code",
   "execution_count": 261,
   "metadata": {
    "hidden": true
   },
   "outputs": [
    {
     "name": "stdout",
     "output_type": "stream",
     "text": [
      "Call:\n",
      "coxph(formula = surv_object_LIDs ~ lids[[snp]] + age_at_dyskinesia_status_censored + \n",
      "    SEX.x + ledd_daily + PC1 + PC2 + PC3 + PC4 + PC5, data = lids)\n",
      "\n",
      "  n= 425, number of events= 148 \n",
      "   (24 observations deleted due to missingness)\n",
      "\n",
      "                                        coef  exp(coef)   se(coef)      z\n",
      "lids[[snp]]                       -6.837e-02  9.339e-01  1.252e-01 -0.546\n",
      "age_at_dyskinesia_status_censored -2.710e-02  9.733e-01  9.076e-03 -2.986\n",
      "SEX.x                              2.584e-01  1.295e+00  1.733e-01  1.490\n",
      "ledd_daily                         3.813e-04  1.000e+00  1.812e-04  2.104\n",
      "PC1                                1.251e+01  2.707e+05  1.700e+01  0.736\n",
      "PC2                                1.352e+01  7.406e+05  2.505e+01  0.540\n",
      "PC3                                2.188e+01  3.174e+09  1.550e+01  1.411\n",
      "PC4                                7.012e+00  1.110e+03  2.589e+01  0.271\n",
      "PC5                                7.825e+00  2.503e+03  1.419e+01  0.552\n",
      "                                  Pr(>|z|)   \n",
      "lids[[snp]]                        0.58501   \n",
      "age_at_dyskinesia_status_censored  0.00283 **\n",
      "SEX.x                              0.13611   \n",
      "ledd_daily                         0.03535 * \n",
      "PC1                                0.46189   \n",
      "PC2                                0.58949   \n",
      "PC3                                0.15818   \n",
      "PC4                                0.78651   \n",
      "PC5                                0.58125   \n",
      "---\n",
      "Signif. codes:  0 ‘***’ 0.001 ‘**’ 0.01 ‘*’ 0.05 ‘.’ 0.1 ‘ ’ 1\n",
      "\n",
      "                                  exp(coef) exp(-coef) lower .95 upper .95\n",
      "lids[[snp]]                       9.339e-01  1.071e+00 7.307e-01 1.194e+00\n",
      "age_at_dyskinesia_status_censored 9.733e-01  1.027e+00 9.561e-01 9.907e-01\n",
      "SEX.x                             1.295e+00  7.723e-01 9.218e-01 1.819e+00\n",
      "ledd_daily                        1.000e+00  9.996e-01 1.000e+00 1.001e+00\n",
      "PC1                               2.707e+05  3.695e-06 9.138e-10 8.017e+19\n",
      "PC2                               7.406e+05  1.350e-06 3.537e-16 1.551e+27\n",
      "PC3                               3.174e+09  3.151e-10 2.020e-04 4.986e+22\n",
      "PC4                               1.110e+03  9.007e-04 1.018e-19 1.211e+25\n",
      "PC5                               2.503e+03  3.995e-04 2.099e-09 2.984e+15\n",
      "\n",
      "Concordance= 0.598  (se = 0.027 )\n",
      "Likelihood ratio test= 19.55  on 9 df,   p=0.02\n",
      "Wald test            = 19.51  on 9 df,   p=0.02\n",
      "Score (logrank) test = 19.64  on 9 df,   p=0.02\n",
      "\n"
     ]
    }
   ],
   "source": [
    "%%R\n",
    "snp = 'chr22:19962712:C:T_C'\n",
    "\n",
    "surv_object_LIDs <- Surv(time = lids$Disease_duration_fromBL, event = lids$dyskinesia_status_at_censoring)\n",
    "\n",
    "model.cox_LIDs <- coxph(surv_object_LIDs ~ lids[[snp]] + age_at_dyskinesia_status_censored + SEX.x + ledd_daily + PC1 + PC2 + PC3 + PC4 + PC5, \n",
    "                   data = lids)\n",
    "summary(model.cox_LIDs)"
   ]
  },
  {
   "cell_type": "markdown",
   "metadata": {
    "hidden": true
   },
   "source": [
    "**rs6269**"
   ]
  },
  {
   "cell_type": "code",
   "execution_count": 263,
   "metadata": {
    "hidden": true
   },
   "outputs": [
    {
     "name": "stdout",
     "output_type": "stream",
     "text": [
      "Call:\n",
      "coxph(formula = surv_object_LIDs ~ lids[[snp]] + age_at_dyskinesia_status_censored + \n",
      "    SEX.x + ledd_daily + PC1 + PC2 + PC3 + PC4 + PC5, data = lids)\n",
      "\n",
      "  n= 428, number of events= 150 \n",
      "   (21 observations deleted due to missingness)\n",
      "\n",
      "                                        coef  exp(coef)   se(coef)      z\n",
      "lids[[snp]]                       -2.772e-02  9.727e-01  1.234e-01 -0.225\n",
      "age_at_dyskinesia_status_censored -2.671e-02  9.736e-01  9.053e-03 -2.950\n",
      "SEX.x                              2.524e-01  1.287e+00  1.732e-01  1.457\n",
      "ledd_daily                         3.862e-04  1.000e+00  1.798e-04  2.149\n",
      "PC1                                1.216e+01  1.919e+05  1.693e+01  0.719\n",
      "PC2                                1.440e+01  1.786e+06  2.483e+01  0.580\n",
      "PC3                                2.230e+01  4.846e+09  1.558e+01  1.431\n",
      "PC4                                4.973e+00  1.444e+02  2.552e+01  0.195\n",
      "PC5                                8.992e+00  8.035e+03  1.404e+01  0.641\n",
      "                                  Pr(>|z|)   \n",
      "lids[[snp]]                        0.82220   \n",
      "age_at_dyskinesia_status_censored  0.00318 **\n",
      "SEX.x                              0.14505   \n",
      "ledd_daily                         0.03167 * \n",
      "PC1                                0.47234   \n",
      "PC2                                0.56204   \n",
      "PC3                                0.15230   \n",
      "PC4                                0.84549   \n",
      "PC5                                0.52176   \n",
      "---\n",
      "Signif. codes:  0 ‘***’ 0.001 ‘**’ 0.01 ‘*’ 0.05 ‘.’ 0.1 ‘ ’ 1\n",
      "\n",
      "                                  exp(coef) exp(-coef) lower .95 upper .95\n",
      "lids[[snp]]                       9.727e-01  1.028e+00 7.638e-01 1.239e+00\n",
      "age_at_dyskinesia_status_censored 9.736e-01  1.027e+00 9.565e-01 9.911e-01\n",
      "SEX.x                             1.287e+00  7.769e-01 9.166e-01 1.807e+00\n",
      "ledd_daily                        1.000e+00  9.996e-01 1.000e+00 1.001e+00\n",
      "PC1                               1.919e+05  5.211e-06 7.504e-10 4.908e+19\n",
      "PC2                               1.786e+06  5.600e-07 1.315e-15 2.425e+27\n",
      "PC3                               4.846e+09  2.064e-10 2.655e-04 8.846e+22\n",
      "PC4                               1.444e+02  6.924e-03 2.752e-20 7.580e+23\n",
      "PC5                               8.035e+03  1.244e-04 9.079e-09 7.112e+15\n",
      "\n",
      "Concordance= 0.595  (se = 0.027 )\n",
      "Likelihood ratio test= 19.03  on 9 df,   p=0.02\n",
      "Wald test            = 18.94  on 9 df,   p=0.03\n",
      "Score (logrank) test = 19.05  on 9 df,   p=0.02\n",
      "\n"
     ]
    }
   ],
   "source": [
    "%%R\n",
    "snp = 'chr22:19962429:A:G_G'\n",
    "\n",
    "surv_object_LIDs <- Surv(time = lids$Disease_duration_fromBL, event = lids$dyskinesia_status_at_censoring)\n",
    "\n",
    "model.cox_LIDs <- coxph(surv_object_LIDs ~ lids[[snp]] + age_at_dyskinesia_status_censored + SEX.x + ledd_daily + PC1 + PC2 + PC3 + PC4 + PC5, \n",
    "                   data = lids)\n",
    "summary(model.cox_LIDs)"
   ]
  },
  {
   "cell_type": "markdown",
   "metadata": {
    "hidden": true
   },
   "source": [
    "**KAPLAN-MEIER CURVES**"
   ]
  },
  {
   "cell_type": "code",
   "execution_count": 280,
   "metadata": {
    "hidden": true
   },
   "outputs": [
    {
     "data": {
      "image/png": "[encoded data removed]",
      "text/plain": [
       "<IPython.core.display.Image object>"
      ]
     },
     "metadata": {},
     "output_type": "display_data"
    }
   ],
   "source": [
    "%%R\n",
    "\n",
    "surv_object_LIDs_rs6269 <- Surv(time = lids$Disease_duration_fromBL, event = lids$dyskinesia_status_at_censoring)\n",
    "\n",
    "fit_rs6269 <- survfit(surv_object_LIDs_rs6269 ~ lids$`chr22:19962429:A:G_G`, data = lids)\n",
    "\n",
    "rs6269_plot<-ggsurvplot(fit_rs6269,\n",
    "                        data = lids,\n",
    "                        pval = TRUE,\n",
    "                        title=\"rs6269\",\n",
    "                        linetype = \"strata\",\n",
    "                        censor=FALSE,\n",
    "                        palette = \"grey\",\n",
    "                        legend.title = \"Genotype   \",\n",
    "                        pval.coord = c(2, 0.65),\n",
    "                        legend=c(0.2,0.2),\n",
    "                        legend.labs = c(\"GG\",\"GA\",\"AA\"),\n",
    "                        xlab= \"Time (Years)\",\n",
    "                        font.x=c(10,\"bold\",\"black\"),\n",
    "                        font.y=c(10,\"bold\",\"black\"),\n",
    "                        font.caption=c(10,\"bold\",\"black\"),\n",
    "                        font.legend = c(10, \"bold\"), \n",
    "                        ggtheme = theme(\n",
    "                         panel.background = element_rect(fill='#efefef'), #transparent panel bg\n",
    "                         plot.background = element_rect(fill='transparent', color=NA), #transparent plot bg\n",
    "                         panel.grid.major = element_blank(), #remove major gridlines\n",
    "                         panel.grid.minor = element_blank(), #remove minor gridlines\n",
    "                         legend.background = element_rect(fill='transparent'), #transparent legend bg\n",
    "                         legend.box.background = element_rect(fill='white'), #transparent legend panel\n",
    "                         panel.border = element_rect(linetype=1, fill = NA),\n",
    "                       ))\n",
    "\n",
    "\n",
    "save(rs6269_plot, file = \"rs6269_plot.rdata\")\n",
    "rs6269_plot\n",
    "#summary(fit_rs6269)"
   ]
  },
  {
   "cell_type": "code",
   "execution_count": 266,
   "metadata": {
    "hidden": true
   },
   "outputs": [
    {
     "data": {
      "image/png": "[encoded data removed]",
      "text/plain": [
       "<IPython.core.display.Image object>"
      ]
     },
     "metadata": {},
     "output_type": "display_data"
    }
   ],
   "source": [
    "%%R\n",
    "\n",
    "surv_object_LIDs_rs4680 <- Surv(time = lids$Disease_duration_fromBL, event = lids$dyskinesia_status_at_censoring)\n",
    "\n",
    "fit_rs4680 <- survfit(surv_object_LIDs_rs4680 ~ lids$`chr22:19963748:G:A_G`, data = lids)\n",
    "\n",
    "rs4680_plot<-ggsurvplot(fit_rs4680, \n",
    "                        data = lids, \n",
    "                        pval = TRUE,\n",
    "                        title=\"rs4680\",\n",
    "                        linetype = \"strata\",\n",
    "                        censor=FALSE,\n",
    "                        palette = \"grey\",\n",
    "                        legend.title = \"Genotype   \",\n",
    "                        pval.coord = c(2, 0.65),\n",
    "                        legend=c(0.2,0.2),\n",
    "                        legend.labs = c(\"AA\",\"AG\",\"GG\"),\n",
    "                        xlab= \"Time (Years)\",\n",
    "                        font.x=c(10,\"bold\",\"black\"),\n",
    "                        font.y=c(10,\"bold\",\"black\"),\n",
    "                        font.legend = c(10, \"bold\"), \n",
    "                        font.caption=c(10,\"bold\",\"black\"),\n",
    "                        ggtheme = theme(\n",
    "                         panel.background = element_rect(fill='#efefef'), #transparent panel bg\n",
    "                         plot.background = element_rect(fill='transparent', color=NA), #transparent plot bg\n",
    "                         panel.grid.major = element_blank(), #remove major gridlines\n",
    "                         panel.grid.minor = element_blank(), #remove minor gridlines\n",
    "                         legend.background = element_rect(fill='transparent'), #transparent legend bg\n",
    "                         legend.box.background = element_rect(fill='white'), #transparent legend panel\n",
    "                         panel.border = element_rect(linetype=1, fill = NA),\n",
    "                       ))\n",
    "\n",
    "\n",
    "save(rs4680_plot, file = \"rs4680_plot.rdata\")\n",
    "rs4680_plot\n"
   ]
  },
  {
   "cell_type": "code",
   "execution_count": 267,
   "metadata": {
    "hidden": true,
    "scrolled": false
   },
   "outputs": [
    {
     "data": {
      "image/png": "[encoded data removed]",
      "text/plain": [
       "<IPython.core.display.Image object>"
      ]
     },
     "metadata": {},
     "output_type": "display_data"
    }
   ],
   "source": [
    "%%R\n",
    "\n",
    "surv_object_LIDs_rs4633 <- Surv(time = lids$Disease_duration_fromBL, event = lids$dyskinesia_status_at_censoring)\n",
    "\n",
    "fit_rs4633 <- survfit(surv_object_LIDs_rs4633 ~ lids$`chr22:19962712:C:T_C`, data = lids)\n",
    "\n",
    "rs4633_plot<-ggsurvplot(fit_rs4633, \n",
    "                        data = lids, \n",
    "                        pval = TRUE,\n",
    "                        title=\"rs4633\",\n",
    "                        linetype = \"strata\",\n",
    "                        censor=FALSE,\n",
    "                        palette = \"grey\",\n",
    "                        legend.title = \"Genotype   \",\n",
    "                        pval.coord = c(2, 0.65),\n",
    "                        legend=c(0.2,0.2),                        \n",
    "                        legend.labs = c(\"TT\",\"TC\",\"CC\"),\n",
    "                        xlab= \"Time (Years)\",\n",
    "                        font.x=c(10,\"bold\",\"black\"),\n",
    "                        font.legend = c(10, \"bold\"), \n",
    "                        font.y=c(10,\"bold\",\"black\"),\n",
    "                        font.caption=c(10,\"bold\",\"black\"),\n",
    "                        ggtheme = theme(\n",
    "                         panel.background = element_rect(fill='#efefef'), #transparent panel bg\n",
    "                         plot.background = element_rect(fill='transparent', color=NA), #transparent plot bg\n",
    "                         panel.grid.major = element_blank(), #remove major gridlines\n",
    "                         panel.grid.minor = element_blank(), #remove minor gridlines\n",
    "                         legend.background = element_rect(fill='transparent'), #transparent legend bg\n",
    "                         legend.box.background = element_rect(fill='white'), #transparent legend panel\n",
    "                         panel.border = element_rect(linetype=1, fill = NA),\n",
    "                       ))\n",
    "\n",
    "\n",
    "save(rs4633_plot, file = \"rs4633_plot.rdata\")\n",
    "rs4633_plot"
   ]
  },
  {
   "cell_type": "code",
   "execution_count": 290,
   "metadata": {
    "hidden": true
   },
   "outputs": [
    {
     "data": {
      "image/png": "[encoded data removed]",
      "text/plain": [
       "<IPython.core.display.Image object>"
      ]
     },
     "metadata": {},
     "output_type": "display_data"
    }
   ],
   "source": [
    "%%R\n",
    "\n",
    "surv_object_LIDs_rs4818 <- Surv(time = lids$Disease_duration_fromBL, event = lids$dyskinesia_status_at_censoring)\n",
    "\n",
    "fit_rs4818 <- survfit(surv_object_LIDs_rs4818 ~ lids$`chr22:19963684:C:G_G`, data = lids)\n",
    "\n",
    "rs4818_plot<-ggsurvplot(fit_rs4818, \n",
    "                        data = lids, \n",
    "                        pval = TRUE,\n",
    "                        title=\"rs4818\",\n",
    "                        linetype = \"strata\",\n",
    "                        censor=FALSE,\n",
    "                        palette = \"grey\",\n",
    "                        legend.title = \"Genotype   \",\n",
    "                        pval.coord = c(2, 0.65),\n",
    "                        legend=c(0.2,0.2),      \n",
    "                        legend.labs = c(\"GG\",\"CG\",\"CC\"),\n",
    "                        xlab= \"Time (Years)\",\n",
    "                        font.x=c(10,\"bold\",\"black\"),\n",
    "                        font.y=c(10,\"bold\",\"black\"),\n",
    "                        font.legend = c(10, \"bold\"), \n",
    "                        font.caption=c(10,\"bold\",\"black\"),\n",
    "                        ggtheme = theme(\n",
    "                         panel.background = element_rect(fill='#efefef'), #transparent panel bg\n",
    "                         plot.background = element_rect(fill='transparent', color=NA), #transparent plot bg\n",
    "                         panel.grid.major = element_blank(), #remove major gridlines\n",
    "                         panel.grid.minor = element_blank(), #remove minor gridlines\n",
    "                         legend.background = element_rect(fill='transparent'), #transparent legend bg\n",
    "                         legend.box.background = element_rect(fill='white'), #transparent legend panel\n",
    "                         panel.border = element_rect(linetype=1, fill = NA),\n",
    "                       ))\n",
    "\n",
    "\n",
    "save(rs4818_plot, file = \"rs4818_plot.rdata\")\n",
    "rs4818_plot"
   ]
  },
  {
   "cell_type": "code",
   "execution_count": 277,
   "metadata": {
    "hidden": true
   },
   "outputs": [],
   "source": [
    "%%R\n",
    "#install.packages('svglite')\n",
    "library(svglite)"
   ]
  },
  {
   "cell_type": "code",
   "execution_count": 292,
   "metadata": {
    "hidden": true
   },
   "outputs": [],
   "source": [
    "%%R\n",
    "all<-cowplot::plot_grid(rs4633_plot$plot,\n",
    "                        rs6269_plot$plot,\n",
    "                        rs4680_plot$plot,\n",
    "                        rs4818_plot$plot,\n",
    "                        labels=c(\"A\",\"B\",\"C\",\"D\"))\n",
    "all\n",
    "ggsave(file=\"lids.svg\", plot=all, width=14, height=16,dpi = 300)\n",
    "ggsave(file=\"lids.png\", plot=all, width=14, height=16,dpi = 300)"
   ]
  },
  {
   "cell_type": "code",
   "execution_count": 85,
   "metadata": {
    "hidden": true
   },
   "outputs": [],
   "source": [
    "# Copy to bucket\n",
    "shell_do(f'gsutil -mu {BILLING_PROJECT_ID} cp -r {WORK_DIR}/*.rdata {WORKSPACE_BUCKET}/COMT_NBA_loop/')"
   ]
  },
  {
   "cell_type": "code",
   "execution_count": 86,
   "metadata": {
    "hidden": true
   },
   "outputs": [],
   "source": [
    "shell_do(f'gsutil -mu {BILLING_PROJECT_ID} cp -r {WORK_DIR}/lids.* {WORKSPACE_BUCKET}/COMT_NBA_loop/')"
   ]
  }
 ],
 "metadata": {
  "kernelspec": {
   "display_name": "Python 3",
   "language": "python",
   "name": "python3"
  },
  "language_info": {
   "codemirror_mode": {
    "name": "ipython",
    "version": 3
   },
   "file_extension": ".py",
   "mimetype": "text/x-python",
   "name": "python",
   "nbconvert_exporter": "python",
   "pygments_lexer": "ipython3",
   "version": "3.10.12"
  },
  "toc": {
   "base_numbering": 1,
   "nav_menu": {},
   "number_sections": true,
   "sideBar": true,
   "skip_h1_title": false,
   "title_cell": "Table of Contents",
   "title_sidebar": "Contents",
   "toc_cell": false,
   "toc_position": {
    "height": "calc(100% - 180px)",
    "left": "10px",
    "top": "150px",
    "width": "356.188px"
   },
   "toc_section_display": true,
   "toc_window_display": true
  }
 },
 "nbformat": 4,
 "nbformat_minor": 2
}
